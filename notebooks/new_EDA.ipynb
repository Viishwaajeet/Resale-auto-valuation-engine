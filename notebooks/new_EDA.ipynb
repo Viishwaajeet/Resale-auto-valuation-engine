{
 "cells": [
  {
   "cell_type": "code",
   "execution_count": 10,
   "id": "2506392d-0d39-48c1-8f8a-df72df46ee65",
   "metadata": {},
   "outputs": [],
   "source": [
    "import numpy as np\n",
    "import pandas as pd\n",
    "import matplotlib.pyplot as plt\n",
    "import seaborn as sns\n",
    "from sklearn.model_selection import train_test_split"
   ]
  },
  {
   "cell_type": "code",
   "execution_count": 14,
   "id": "4931bbe8-3c46-4772-bdea-e2ad668c4ed8",
   "metadata": {},
   "outputs": [],
   "source": [
    "data = pd.read_csv(\"../data/cleaned_train_car_data.csv\")"
   ]
  },
  {
   "cell_type": "code",
   "execution_count": 15,
   "id": "3a36c760-bc5b-4a92-8994-ae5c98cc8971",
   "metadata": {},
   "outputs": [],
   "source": [
    "train_df, val_df = train_test_split(data, test_size=0.2,random_state=42)"
   ]
  },
  {
   "cell_type": "code",
   "execution_count": null,
   "id": "d65c04cd-409b-48fa-9172-b3c93ffed2b6",
   "metadata": {},
   "outputs": [],
   "source": [
    "train_df = train_df.set_index('Index')\n",
    "val_df = val_df.set_index('Index')"
   ]
  },
  {
   "cell_type": "code",
   "execution_count": 22,
   "id": "7dfb3f67-c012-4145-b472-1da6eb0648da",
   "metadata": {},
   "outputs": [
    {
     "name": "stdout",
     "output_type": "stream",
     "text": [
      "<class 'pandas.core.frame.DataFrame'>\n",
      "Index: 2565 entries, 3151 to 459\n",
      "Data columns (total 13 columns):\n",
      " #   Column          Non-Null Count  Dtype  \n",
      "---  ------          --------------  -----  \n",
      " 0   brand           2565 non-null   object \n",
      " 1   milage          2565 non-null   int64  \n",
      " 2   fuel_type       2468 non-null   object \n",
      " 3   transmission    2565 non-null   object \n",
      " 4   ext_col         2565 non-null   object \n",
      " 5   int_col         2565 non-null   object \n",
      " 6   accident        2488 non-null   object \n",
      " 7   clean_title     2182 non-null   object \n",
      " 8   price           2565 non-null   int64  \n",
      " 9   car_age         2565 non-null   int64  \n",
      " 10  horsepower      2043 non-null   float64\n",
      " 11  engine_size     2333 non-null   float64\n",
      " 12  cylinder_count  1967 non-null   float64\n",
      "dtypes: float64(3), int64(3), object(7)\n",
      "memory usage: 280.5+ KB\n"
     ]
    }
   ],
   "source": [
    "train_df.info()"
   ]
  },
  {
   "cell_type": "markdown",
   "id": "f01d8d19-af8d-490e-af90-92df9bbb5120",
   "metadata": {},
   "source": [
    "## Handling Missing Values"
   ]
  },
  {
   "cell_type": "code",
   "execution_count": 26,
   "id": "309bd499-afba-4bdc-a213-c5dde52a3a9f",
   "metadata": {},
   "outputs": [
    {
     "data": {
      "text/plain": [
       "fuel_type          3.781676\n",
       "accident           3.001949\n",
       "clean_title       14.931774\n",
       "horsepower        20.350877\n",
       "engine_size        9.044834\n",
       "cylinder_count    23.313840\n",
       "dtype: float64"
      ]
     },
     "execution_count": 26,
     "metadata": {},
     "output_type": "execute_result"
    }
   ],
   "source": [
    "percent_missing = 100*train_df.isna().sum()/len(train_df)\n",
    "percent_missing[percent_missing>0]"
   ]
  },
  {
   "cell_type": "code",
   "execution_count": 27,
   "id": "10f7a3e9-c2ef-4a24-b343-bab774d96fa2",
   "metadata": {},
   "outputs": [
    {
     "data": {
      "text/plain": [
       "<Axes: >"
      ]
     },
     "execution_count": 27,
     "metadata": {},
     "output_type": "execute_result"
    },
    {
     "data": {
      "image/png": "[encoded data removed]",
      "text/plain": [
       "<Figure size 800x400 with 1 Axes>"
      ]
     },
     "metadata": {},
     "output_type": "display_data"
    }
   ],
   "source": [
    "plt.figure(figsize=(8,4))\n",
    "sns.barplot(x=percent_missing[percent_missing>0].index,y=percent_missing[percent_missing>0])"
   ]
  },
  {
   "cell_type": "code",
   "execution_count": 28,
   "id": "2b6f4c20-95cd-4d36-b9f4-811d0a04f948",
   "metadata": {},
   "outputs": [],
   "source": [
    "train_df['fuel_type'] = train_df['fuel_type'].fillna(\"Unknown\")"
   ]
  },
  {
   "cell_type": "code",
   "execution_count": 29,
   "id": "f00c985b-29ef-425f-94b7-796f1b317733",
   "metadata": {},
   "outputs": [],
   "source": [
    "train_df['accident'] = train_df['accident'].fillna(\"Unknown\")"
   ]
  },
  {
   "cell_type": "code",
   "execution_count": 30,
   "id": "3ae36936-b2ab-4bc1-af7a-a19c2b72d3e7",
   "metadata": {},
   "outputs": [],
   "source": [
    "train_df['clean_title'] = train_df['clean_title'].fillna(\"Unknown\")"
   ]
  },
  {
   "cell_type": "code",
   "execution_count": null,
   "id": "8b7638ad-7e2c-465d-a007-bb9a3d8661b6",
   "metadata": {},
   "outputs": [],
   "source": []
  }
 ],
 "metadata": {
  "kernelspec": {
   "display_name": "Python 3 (ipykernel)",
   "language": "python",
   "name": "python3"
  },
  "language_info": {
   "codemirror_mode": {
    "name": "ipython",
    "version": 3
   },
   "file_extension": ".py",
   "mimetype": "text/x-python",
   "name": "python",
   "nbconvert_exporter": "python",
   "pygments_lexer": "ipython3",
   "version": "3.11.5"
  }
 },
 "nbformat": 4,
 "nbformat_minor": 5
}
