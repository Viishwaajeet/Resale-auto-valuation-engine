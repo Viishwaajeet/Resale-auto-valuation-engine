{
 "cells": [
  {
   "cell_type": "code",
   "execution_count": 1,
   "id": "f5f30b14-5053-4ac1-9f8b-522629af8007",
   "metadata": {},
   "outputs": [],
   "source": [
    "import numpy as np\n",
    "import pandas as pd\n",
    "import matplotlib.pyplot as plt\n",
    "import seaborn as sns\n",
    "from sklearn.model_selection import train_test_split"
   ]
  },
  {
   "cell_type": "code",
   "execution_count": 2,
   "id": "a573d073-01ea-4b6c-a3dc-7a59ddf63986",
   "metadata": {},
   "outputs": [],
   "source": [
    "df = pd.read_csv('../data/used_cars.csv')"
   ]
  },
  {
   "cell_type": "code",
   "execution_count": 3,
   "id": "97207e60-ee15-4714-beda-3a5da26cf13c",
   "metadata": {},
   "outputs": [],
   "source": [
    "df_copy = df.copy()"
   ]
  },
  {
   "cell_type": "code",
   "execution_count": 4,
   "id": "75747a1c-0bee-4dd2-b139-53533dbb625e",
   "metadata": {},
   "outputs": [],
   "source": [
    "df.index.name = \"Index\""
   ]
  },
  {
   "cell_type": "code",
   "execution_count": 5,
   "id": "974034e3-7b0e-4a24-af5c-36e3f27f2f2f",
   "metadata": {},
   "outputs": [
    {
     "data": {
      "text/html": [
       "<div>\n",
       "<style scoped>\n",
       "    .dataframe tbody tr th:only-of-type {\n",
       "        vertical-align: middle;\n",
       "    }\n",
       "\n",
       "    .dataframe tbody tr th {\n",
       "        vertical-align: top;\n",
       "    }\n",
       "\n",
       "    .dataframe thead th {\n",
       "        text-align: right;\n",
       "    }\n",
       "</style>\n",
       "<table border=\"1\" class=\"dataframe\">\n",
       "  <thead>\n",
       "    <tr style=\"text-align: right;\">\n",
       "      <th></th>\n",
       "      <th>brand</th>\n",
       "      <th>model</th>\n",
       "      <th>model_year</th>\n",
       "      <th>milage</th>\n",
       "      <th>fuel_type</th>\n",
       "      <th>engine</th>\n",
       "      <th>transmission</th>\n",
       "      <th>ext_col</th>\n",
       "      <th>int_col</th>\n",
       "      <th>accident</th>\n",
       "      <th>clean_title</th>\n",
       "      <th>price</th>\n",
       "    </tr>\n",
       "    <tr>\n",
       "      <th>Index</th>\n",
       "      <th></th>\n",
       "      <th></th>\n",
       "      <th></th>\n",
       "      <th></th>\n",
       "      <th></th>\n",
       "      <th></th>\n",
       "      <th></th>\n",
       "      <th></th>\n",
       "      <th></th>\n",
       "      <th></th>\n",
       "      <th></th>\n",
       "      <th></th>\n",
       "    </tr>\n",
       "  </thead>\n",
       "  <tbody>\n",
       "    <tr>\n",
       "      <th>0</th>\n",
       "      <td>Ford</td>\n",
       "      <td>Utility Police Interceptor Base</td>\n",
       "      <td>2013</td>\n",
       "      <td>51,000 mi.</td>\n",
       "      <td>E85 Flex Fuel</td>\n",
       "      <td>300.0HP 3.7L V6 Cylinder Engine Flex Fuel Capa...</td>\n",
       "      <td>6-Speed A/T</td>\n",
       "      <td>Black</td>\n",
       "      <td>Black</td>\n",
       "      <td>At least 1 accident or damage reported</td>\n",
       "      <td>Yes</td>\n",
       "      <td>$10,300</td>\n",
       "    </tr>\n",
       "    <tr>\n",
       "      <th>1</th>\n",
       "      <td>Hyundai</td>\n",
       "      <td>Palisade SEL</td>\n",
       "      <td>2021</td>\n",
       "      <td>34,742 mi.</td>\n",
       "      <td>Gasoline</td>\n",
       "      <td>3.8L V6 24V GDI DOHC</td>\n",
       "      <td>8-Speed Automatic</td>\n",
       "      <td>Moonlight Cloud</td>\n",
       "      <td>Gray</td>\n",
       "      <td>At least 1 accident or damage reported</td>\n",
       "      <td>Yes</td>\n",
       "      <td>$38,005</td>\n",
       "    </tr>\n",
       "    <tr>\n",
       "      <th>2</th>\n",
       "      <td>Lexus</td>\n",
       "      <td>RX 350 RX 350</td>\n",
       "      <td>2022</td>\n",
       "      <td>22,372 mi.</td>\n",
       "      <td>Gasoline</td>\n",
       "      <td>3.5 Liter DOHC</td>\n",
       "      <td>Automatic</td>\n",
       "      <td>Blue</td>\n",
       "      <td>Black</td>\n",
       "      <td>None reported</td>\n",
       "      <td>NaN</td>\n",
       "      <td>$54,598</td>\n",
       "    </tr>\n",
       "    <tr>\n",
       "      <th>3</th>\n",
       "      <td>INFINITI</td>\n",
       "      <td>Q50 Hybrid Sport</td>\n",
       "      <td>2015</td>\n",
       "      <td>88,900 mi.</td>\n",
       "      <td>Hybrid</td>\n",
       "      <td>354.0HP 3.5L V6 Cylinder Engine Gas/Electric H...</td>\n",
       "      <td>7-Speed A/T</td>\n",
       "      <td>Black</td>\n",
       "      <td>Black</td>\n",
       "      <td>None reported</td>\n",
       "      <td>Yes</td>\n",
       "      <td>$15,500</td>\n",
       "    </tr>\n",
       "    <tr>\n",
       "      <th>4</th>\n",
       "      <td>Audi</td>\n",
       "      <td>Q3 45 S line Premium Plus</td>\n",
       "      <td>2021</td>\n",
       "      <td>9,835 mi.</td>\n",
       "      <td>Gasoline</td>\n",
       "      <td>2.0L I4 16V GDI DOHC Turbo</td>\n",
       "      <td>8-Speed Automatic</td>\n",
       "      <td>Glacier White Metallic</td>\n",
       "      <td>Black</td>\n",
       "      <td>None reported</td>\n",
       "      <td>NaN</td>\n",
       "      <td>$34,999</td>\n",
       "    </tr>\n",
       "  </tbody>\n",
       "</table>\n",
       "</div>"
      ],
      "text/plain": [
       "          brand                            model  model_year      milage  \\\n",
       "Index                                                                      \n",
       "0          Ford  Utility Police Interceptor Base        2013  51,000 mi.   \n",
       "1       Hyundai                     Palisade SEL        2021  34,742 mi.   \n",
       "2         Lexus                    RX 350 RX 350        2022  22,372 mi.   \n",
       "3      INFINITI                 Q50 Hybrid Sport        2015  88,900 mi.   \n",
       "4          Audi        Q3 45 S line Premium Plus        2021   9,835 mi.   \n",
       "\n",
       "           fuel_type                                             engine  \\\n",
       "Index                                                                     \n",
       "0      E85 Flex Fuel  300.0HP 3.7L V6 Cylinder Engine Flex Fuel Capa...   \n",
       "1           Gasoline                               3.8L V6 24V GDI DOHC   \n",
       "2           Gasoline                                     3.5 Liter DOHC   \n",
       "3             Hybrid  354.0HP 3.5L V6 Cylinder Engine Gas/Electric H...   \n",
       "4           Gasoline                         2.0L I4 16V GDI DOHC Turbo   \n",
       "\n",
       "            transmission                 ext_col int_col  \\\n",
       "Index                                                      \n",
       "0            6-Speed A/T                   Black   Black   \n",
       "1      8-Speed Automatic         Moonlight Cloud    Gray   \n",
       "2              Automatic                    Blue   Black   \n",
       "3            7-Speed A/T                   Black   Black   \n",
       "4      8-Speed Automatic  Glacier White Metallic   Black   \n",
       "\n",
       "                                     accident clean_title    price  \n",
       "Index                                                               \n",
       "0      At least 1 accident or damage reported         Yes  $10,300  \n",
       "1      At least 1 accident or damage reported         Yes  $38,005  \n",
       "2                               None reported         NaN  $54,598  \n",
       "3                               None reported         Yes  $15,500  \n",
       "4                               None reported         NaN  $34,999  "
      ]
     },
     "execution_count": 5,
     "metadata": {},
     "output_type": "execute_result"
    }
   ],
   "source": [
    "df.head()"
   ]
  },
  {
   "cell_type": "code",
   "execution_count": 6,
   "id": "17573f7c-858a-4624-90f3-5d9e909556df",
   "metadata": {},
   "outputs": [
    {
     "name": "stdout",
     "output_type": "stream",
     "text": [
      "<class 'pandas.core.frame.DataFrame'>\n",
      "RangeIndex: 4009 entries, 0 to 4008\n",
      "Data columns (total 12 columns):\n",
      " #   Column        Non-Null Count  Dtype \n",
      "---  ------        --------------  ----- \n",
      " 0   brand         4009 non-null   object\n",
      " 1   model         4009 non-null   object\n",
      " 2   model_year    4009 non-null   int64 \n",
      " 3   milage        4009 non-null   object\n",
      " 4   fuel_type     3839 non-null   object\n",
      " 5   engine        4009 non-null   object\n",
      " 6   transmission  4009 non-null   object\n",
      " 7   ext_col       4009 non-null   object\n",
      " 8   int_col       4009 non-null   object\n",
      " 9   accident      3896 non-null   object\n",
      " 10  clean_title   3413 non-null   object\n",
      " 11  price         4009 non-null   object\n",
      "dtypes: int64(1), object(11)\n",
      "memory usage: 376.0+ KB\n"
     ]
    }
   ],
   "source": [
    "df.info()"
   ]
  },
  {
   "cell_type": "code",
   "execution_count": 7,
   "id": "29a6f62e-4ea2-4881-b7cb-7dc840b7b98e",
   "metadata": {},
   "outputs": [
    {
     "data": {
      "text/plain": [
       "0"
      ]
     },
     "execution_count": 7,
     "metadata": {},
     "output_type": "execute_result"
    }
   ],
   "source": [
    "df.duplicated().sum()"
   ]
  },
  {
   "cell_type": "code",
   "execution_count": 8,
   "id": "0267faf9-34bf-4643-a3a0-37b9a6f480ca",
   "metadata": {},
   "outputs": [
    {
     "data": {
      "text/plain": [
       "brand             0\n",
       "model             0\n",
       "model_year        0\n",
       "milage            0\n",
       "fuel_type       170\n",
       "engine            0\n",
       "transmission      0\n",
       "ext_col           0\n",
       "int_col           0\n",
       "accident        113\n",
       "clean_title     596\n",
       "price             0\n",
       "dtype: int64"
      ]
     },
     "execution_count": 8,
     "metadata": {},
     "output_type": "execute_result"
    }
   ],
   "source": [
    "df.isnull().sum()"
   ]
  },
  {
   "cell_type": "code",
   "execution_count": 9,
   "id": "351d0669-57c5-4610-a274-ef155aece608",
   "metadata": {},
   "outputs": [
    {
     "data": {
      "text/html": [
       "<div>\n",
       "<style scoped>\n",
       "    .dataframe tbody tr th:only-of-type {\n",
       "        vertical-align: middle;\n",
       "    }\n",
       "\n",
       "    .dataframe tbody tr th {\n",
       "        vertical-align: top;\n",
       "    }\n",
       "\n",
       "    .dataframe thead th {\n",
       "        text-align: right;\n",
       "    }\n",
       "</style>\n",
       "<table border=\"1\" class=\"dataframe\">\n",
       "  <thead>\n",
       "    <tr style=\"text-align: right;\">\n",
       "      <th></th>\n",
       "      <th>brand</th>\n",
       "      <th>model</th>\n",
       "      <th>model_year</th>\n",
       "      <th>milage</th>\n",
       "      <th>fuel_type</th>\n",
       "      <th>engine</th>\n",
       "      <th>transmission</th>\n",
       "      <th>ext_col</th>\n",
       "      <th>int_col</th>\n",
       "      <th>accident</th>\n",
       "      <th>clean_title</th>\n",
       "      <th>price</th>\n",
       "    </tr>\n",
       "    <tr>\n",
       "      <th>Index</th>\n",
       "      <th></th>\n",
       "      <th></th>\n",
       "      <th></th>\n",
       "      <th></th>\n",
       "      <th></th>\n",
       "      <th></th>\n",
       "      <th></th>\n",
       "      <th></th>\n",
       "      <th></th>\n",
       "      <th></th>\n",
       "      <th></th>\n",
       "      <th></th>\n",
       "    </tr>\n",
       "  </thead>\n",
       "  <tbody>\n",
       "    <tr>\n",
       "      <th>0</th>\n",
       "      <td>Ford</td>\n",
       "      <td>Utility Police Interceptor Base</td>\n",
       "      <td>2013</td>\n",
       "      <td>51,000 mi.</td>\n",
       "      <td>E85 Flex Fuel</td>\n",
       "      <td>300.0HP 3.7L V6 Cylinder Engine Flex Fuel Capa...</td>\n",
       "      <td>6-Speed A/T</td>\n",
       "      <td>Black</td>\n",
       "      <td>Black</td>\n",
       "      <td>At least 1 accident or damage reported</td>\n",
       "      <td>Yes</td>\n",
       "      <td>$10,300</td>\n",
       "    </tr>\n",
       "    <tr>\n",
       "      <th>1</th>\n",
       "      <td>Hyundai</td>\n",
       "      <td>Palisade SEL</td>\n",
       "      <td>2021</td>\n",
       "      <td>34,742 mi.</td>\n",
       "      <td>Gasoline</td>\n",
       "      <td>3.8L V6 24V GDI DOHC</td>\n",
       "      <td>8-Speed Automatic</td>\n",
       "      <td>Moonlight Cloud</td>\n",
       "      <td>Gray</td>\n",
       "      <td>At least 1 accident or damage reported</td>\n",
       "      <td>Yes</td>\n",
       "      <td>$38,005</td>\n",
       "    </tr>\n",
       "    <tr>\n",
       "      <th>2</th>\n",
       "      <td>Lexus</td>\n",
       "      <td>RX 350 RX 350</td>\n",
       "      <td>2022</td>\n",
       "      <td>22,372 mi.</td>\n",
       "      <td>Gasoline</td>\n",
       "      <td>3.5 Liter DOHC</td>\n",
       "      <td>Automatic</td>\n",
       "      <td>Blue</td>\n",
       "      <td>Black</td>\n",
       "      <td>None reported</td>\n",
       "      <td>NaN</td>\n",
       "      <td>$54,598</td>\n",
       "    </tr>\n",
       "    <tr>\n",
       "      <th>3</th>\n",
       "      <td>INFINITI</td>\n",
       "      <td>Q50 Hybrid Sport</td>\n",
       "      <td>2015</td>\n",
       "      <td>88,900 mi.</td>\n",
       "      <td>Hybrid</td>\n",
       "      <td>354.0HP 3.5L V6 Cylinder Engine Gas/Electric H...</td>\n",
       "      <td>7-Speed A/T</td>\n",
       "      <td>Black</td>\n",
       "      <td>Black</td>\n",
       "      <td>None reported</td>\n",
       "      <td>Yes</td>\n",
       "      <td>$15,500</td>\n",
       "    </tr>\n",
       "    <tr>\n",
       "      <th>4</th>\n",
       "      <td>Audi</td>\n",
       "      <td>Q3 45 S line Premium Plus</td>\n",
       "      <td>2021</td>\n",
       "      <td>9,835 mi.</td>\n",
       "      <td>Gasoline</td>\n",
       "      <td>2.0L I4 16V GDI DOHC Turbo</td>\n",
       "      <td>8-Speed Automatic</td>\n",
       "      <td>Glacier White Metallic</td>\n",
       "      <td>Black</td>\n",
       "      <td>None reported</td>\n",
       "      <td>NaN</td>\n",
       "      <td>$34,999</td>\n",
       "    </tr>\n",
       "  </tbody>\n",
       "</table>\n",
       "</div>"
      ],
      "text/plain": [
       "          brand                            model  model_year      milage  \\\n",
       "Index                                                                      \n",
       "0          Ford  Utility Police Interceptor Base        2013  51,000 mi.   \n",
       "1       Hyundai                     Palisade SEL        2021  34,742 mi.   \n",
       "2         Lexus                    RX 350 RX 350        2022  22,372 mi.   \n",
       "3      INFINITI                 Q50 Hybrid Sport        2015  88,900 mi.   \n",
       "4          Audi        Q3 45 S line Premium Plus        2021   9,835 mi.   \n",
       "\n",
       "           fuel_type                                             engine  \\\n",
       "Index                                                                     \n",
       "0      E85 Flex Fuel  300.0HP 3.7L V6 Cylinder Engine Flex Fuel Capa...   \n",
       "1           Gasoline                               3.8L V6 24V GDI DOHC   \n",
       "2           Gasoline                                     3.5 Liter DOHC   \n",
       "3             Hybrid  354.0HP 3.5L V6 Cylinder Engine Gas/Electric H...   \n",
       "4           Gasoline                         2.0L I4 16V GDI DOHC Turbo   \n",
       "\n",
       "            transmission                 ext_col int_col  \\\n",
       "Index                                                      \n",
       "0            6-Speed A/T                   Black   Black   \n",
       "1      8-Speed Automatic         Moonlight Cloud    Gray   \n",
       "2              Automatic                    Blue   Black   \n",
       "3            7-Speed A/T                   Black   Black   \n",
       "4      8-Speed Automatic  Glacier White Metallic   Black   \n",
       "\n",
       "                                     accident clean_title    price  \n",
       "Index                                                               \n",
       "0      At least 1 accident or damage reported         Yes  $10,300  \n",
       "1      At least 1 accident or damage reported         Yes  $38,005  \n",
       "2                               None reported         NaN  $54,598  \n",
       "3                               None reported         Yes  $15,500  \n",
       "4                               None reported         NaN  $34,999  "
      ]
     },
     "execution_count": 9,
     "metadata": {},
     "output_type": "execute_result"
    }
   ],
   "source": [
    "df.head()"
   ]
  },
  {
   "cell_type": "markdown",
   "id": "db5e7452-9c83-4678-9876-321c2ee202aa",
   "metadata": {},
   "source": [
    "## Examining Data Quality"
   ]
  },
  {
   "cell_type": "code",
   "execution_count": 10,
   "id": "0cdb50d0-129d-41ff-8e80-534c9fca2290",
   "metadata": {},
   "outputs": [
    {
     "data": {
      "text/plain": [
       "Index(['brand', 'model', 'model_year', 'milage', 'fuel_type', 'engine',\n",
       "       'transmission', 'ext_col', 'int_col', 'accident', 'clean_title',\n",
       "       'price'],\n",
       "      dtype='object')"
      ]
     },
     "execution_count": 10,
     "metadata": {},
     "output_type": "execute_result"
    }
   ],
   "source": [
    "df.columns"
   ]
  },
  {
   "cell_type": "code",
   "execution_count": 11,
   "id": "91ab3758-d2ad-41a6-9c39-efbcc9ec8446",
   "metadata": {},
   "outputs": [
    {
     "data": {
      "text/plain": [
       "array(['Ford', 'Hyundai', 'Lexus', 'INFINITI', 'Audi', 'Acura', 'BMW',\n",
       "       'Tesla', 'Land', 'Aston', 'Toyota', 'Lincoln', 'Jaguar',\n",
       "       'Mercedes-Benz', 'Dodge', 'Nissan', 'Genesis', 'Chevrolet', 'Kia',\n",
       "       'Jeep', 'Bentley', 'Honda', 'Lucid', 'MINI', 'Porsche', 'Hummer',\n",
       "       'Chrysler', 'Volvo', 'Cadillac', 'Lamborghini', 'Maserati',\n",
       "       'Volkswagen', 'Subaru', 'Rivian', 'GMC', 'RAM', 'Alfa', 'Ferrari',\n",
       "       'Scion', 'Mitsubishi', 'Mazda', 'Saturn', 'Bugatti', 'Polestar',\n",
       "       'Rolls-Royce', 'McLaren', 'Buick', 'Lotus', 'Pontiac', 'FIAT',\n",
       "       'Karma', 'Saab', 'Mercury', 'Plymouth', 'smart', 'Maybach',\n",
       "       'Suzuki'], dtype=object)"
      ]
     },
     "execution_count": 11,
     "metadata": {},
     "output_type": "execute_result"
    }
   ],
   "source": [
    "df['brand'].unique()"
   ]
  },
  {
   "cell_type": "code",
   "execution_count": 12,
   "id": "b4b750d6-7f95-4c36-acc0-dfbc0785867f",
   "metadata": {},
   "outputs": [
    {
     "data": {
      "text/plain": [
       "array(['Utility Police Interceptor Base', 'Palisade SEL', 'RX 350 RX 350',\n",
       "       'Q50 Hybrid Sport', 'Q3 45 S line Premium Plus', 'ILX 2.4L',\n",
       "       'S3 2.0T Premium Plus', '740 iL', 'RC 350 F Sport',\n",
       "       'Model X Long Range Plus',\n",
       "       'Rover Range Rover Sport 3.0 Supercharged HST',\n",
       "       'Martin DBS Superleggera', 'Supra 3.0 Premium',\n",
       "       'Aviator Reserve AWD', 'F-TYPE', 'Rover LR4 HSE', 'Metris Base',\n",
       "       'Challenger SXT', '350Z Enthusiast', 'F-TYPE R', 'GV70 3.5T Sport',\n",
       "       'S-10 LS', '440 Gran Coupe 440i xDrive', 'F-150 XLT',\n",
       "       'Suburban RST', 'Elantra N Base', 'Sentra SR',\n",
       "       'AMG CLA 45 Base 4MATIC', '650 Gran Coupe i xDrive',\n",
       "       'Q5 2.0T Premium Plus'], dtype=object)"
      ]
     },
     "execution_count": 12,
     "metadata": {},
     "output_type": "execute_result"
    }
   ],
   "source": [
    "df['model'].unique()[:30]"
   ]
  },
  {
   "cell_type": "code",
   "execution_count": 13,
   "id": "add2c097-447b-4127-9573-6e84b1d5e25a",
   "metadata": {},
   "outputs": [
    {
     "data": {
      "text/plain": [
       "array([2013, 2021, 2022, 2015, 2016, 2017, 2001, 2020, 2019, 2003, 2018,\n",
       "       2023, 2000, 2006, 2011, 2012, 2007, 2014, 2005, 2009, 2010, 2004,\n",
       "       2008, 1997, 1999, 1993, 2002, 1998, 2024, 1996, 1974, 1992, 1995,\n",
       "       1994], dtype=int64)"
      ]
     },
     "execution_count": 13,
     "metadata": {},
     "output_type": "execute_result"
    }
   ],
   "source": [
    "df['model_year'].unique()"
   ]
  },
  {
   "cell_type": "code",
   "execution_count": 14,
   "id": "2ff7a105-e4e2-41fc-8179-fc131739d352",
   "metadata": {},
   "outputs": [
    {
     "data": {
      "text/plain": [
       "array(['51,000 mi.', '34,742 mi.', '22,372 mi.', '88,900 mi.',\n",
       "       '9,835 mi.', '136,397 mi.', '84,000 mi.', '242,000 mi.',\n",
       "       '23,436 mi.', '34,000 mi.', '27,608 mi.', '22,770 mi.',\n",
       "       '12,500 mi.', '18,196 mi.', '15,903 mi.', '79,800 mi.',\n",
       "       '1,685 mi.', '61,074 mi.', '74,000 mi.', '35,250 mi.', '5,400 mi.',\n",
       "       '133,510 mi.', '25,990 mi.', '2,823 mi.', '52,000 mi.',\n",
       "       '11,650 mi.', '96,541 mi.', '17,500 mi.', '69,000 mi.',\n",
       "       '81,880 mi.'], dtype=object)"
      ]
     },
     "execution_count": 14,
     "metadata": {},
     "output_type": "execute_result"
    }
   ],
   "source": [
    "df['milage'].unique()[:30]"
   ]
  },
  {
   "cell_type": "code",
   "execution_count": 15,
   "id": "8d3fa868-953b-45ff-b00f-ae55eb5c1ae3",
   "metadata": {},
   "outputs": [
    {
     "data": {
      "text/plain": [
       "array(['E85 Flex Fuel', 'Gasoline', 'Hybrid', nan, 'Diesel',\n",
       "       'Plug-In Hybrid', '–', 'not supported'], dtype=object)"
      ]
     },
     "execution_count": 15,
     "metadata": {},
     "output_type": "execute_result"
    }
   ],
   "source": [
    "df['fuel_type'].unique()"
   ]
  },
  {
   "cell_type": "code",
   "execution_count": 16,
   "id": "ce8c0b84-c8aa-455b-8ad7-678dc05b082b",
   "metadata": {},
   "outputs": [
    {
     "data": {
      "text/plain": [
       "fuel_type\n",
       "Gasoline          3309\n",
       "Hybrid             194\n",
       "E85 Flex Fuel      139\n",
       "Diesel             116\n",
       "–                   45\n",
       "Plug-In Hybrid      34\n",
       "not supported        2\n",
       "Name: count, dtype: int64"
      ]
     },
     "execution_count": 16,
     "metadata": {},
     "output_type": "execute_result"
    }
   ],
   "source": [
    "df['fuel_type'].value_counts()"
   ]
  },
  {
   "cell_type": "code",
   "execution_count": 17,
   "id": "250fa520-229f-4ad8-ae21-f4923ad7af41",
   "metadata": {},
   "outputs": [
    {
     "data": {
      "text/plain": [
       "array(['300.0HP 3.7L V6 Cylinder Engine Flex Fuel Capability',\n",
       "       '3.8L V6 24V GDI DOHC', '3.5 Liter DOHC',\n",
       "       '354.0HP 3.5L V6 Cylinder Engine Gas/Electric Hybrid',\n",
       "       '2.0L I4 16V GDI DOHC Turbo', '2.4 Liter',\n",
       "       '292.0HP 2.0L 4 Cylinder Engine Gasoline Fuel',\n",
       "       '282.0HP 4.4L 8 Cylinder Engine Gasoline Fuel',\n",
       "       '311.0HP 3.5L V6 Cylinder Engine Gasoline Fuel',\n",
       "       '534.0HP Electric Motor Electric Fuel System', 'V6',\n",
       "       '715.0HP 5.2L 12 Cylinder Engine Gasoline Fuel',\n",
       "       '382.0HP 3.0L Straight 6 Cylinder Engine Gasoline Fuel',\n",
       "       '400.0HP 3.0L V6 Cylinder Engine Gasoline Fuel',\n",
       "       '2.0 Liter Supercharged',\n",
       "       '375.0HP 5.0L 8 Cylinder Engine Gasoline Fuel',\n",
       "       '305.0HP 3.6L V6 Cylinder Engine Gasoline Fuel',\n",
       "       '287.0HP 3.5L V6 Cylinder Engine Gasoline Fuel',\n",
       "       '550.0HP 5.0L 8 Cylinder Engine Gasoline Fuel',\n",
       "       '375.0HP 3.5L V6 Cylinder Engine Gasoline Fuel',\n",
       "       '120.0HP 2.2L 4 Cylinder Engine Flex Fuel Capability',\n",
       "       '3.0 Liter Turbo', '3.5L V6 24V PDI DOHC Twin Turbo',\n",
       "       '355.0HP 5.3L 8 Cylinder Engine Gasoline Fuel',\n",
       "       '276.0HP 2.0L 4 Cylinder Engine Gasoline Fuel', '1.8 Liter',\n",
       "       '382.0HP 2.0L 4 Cylinder Engine Gasoline Fuel',\n",
       "       '445.0HP 4.4L 8 Cylinder Engine Gasoline Fuel',\n",
       "       '2.0L I4 16V GDI DOHC Turbo Flexible Fuel',\n",
       "       '362.0HP 3.0L V6 Cylinder Engine Gasoline Fuel'], dtype=object)"
      ]
     },
     "execution_count": 17,
     "metadata": {},
     "output_type": "execute_result"
    }
   ],
   "source": [
    "df['engine'].unique()[:30]"
   ]
  },
  {
   "cell_type": "code",
   "execution_count": 18,
   "id": "dae880f9-5bb7-44a0-a428-93d8057cdbf3",
   "metadata": {},
   "outputs": [
    {
     "data": {
      "text/plain": [
       "array(['6-Speed A/T', '8-Speed Automatic', 'Automatic', '7-Speed A/T',\n",
       "       'F', 'A/T', '8-Speed A/T', 'Transmission w/Dual Shift Mode',\n",
       "       '9-Speed Automatic', '6-Speed M/T', '10-Speed A/T', '9-Speed A/T',\n",
       "       '5-Speed A/T', '1-Speed A/T', 'Automatic CVT',\n",
       "       '7-Speed Automatic with Auto-Shift', 'CVT-F', 'M/T',\n",
       "       '6-Speed Automatic with Auto-Shift', '10-Speed Automatic',\n",
       "       'CVT Transmission', '4-Speed A/T', '6-Speed Automatic',\n",
       "       '4-Speed Automatic', '7-Speed M/T',\n",
       "       '8-Speed Automatic with Auto-Shift', '5-Speed Automatic',\n",
       "       '8-SPEED AT', '1-Speed Automatic', '5-Speed M/T', 'Manual',\n",
       "       '6-Speed Manual', 'Variable', '2', '7-Speed Manual',\n",
       "       'Automatic, 9-Spd 9G-Tronic', 'Automatic, 8-Spd',\n",
       "       'Automatic, 8-Spd Sport w/Sport & Manual Modes', '–',\n",
       "       'Auto, 6-Spd w/CmdShft', 'Transmission Overdrive Switch',\n",
       "       '7-Speed Automatic', 'Automatic, 8-Spd PDK Dual-Clutch',\n",
       "       'Automatic, 8-Spd M STEPTRONIC w/Drivelogic, Sport & Manual Modes',\n",
       "       'Automatic, 8-Spd Dual-Clutch', '6-Speed',\n",
       "       'Single-Speed Fixed Gear', 'Automatic, 10-Spd',\n",
       "       '2-Speed Automatic', '7-Speed',\n",
       "       'Automatic, 7-Spd S tronic Dual-Clutch', 'Manual, 6-Spd',\n",
       "       '6-Speed Electronically Controlled Automatic with O',\n",
       "       '6 Speed At/Mt', '8-SPEED A/T',\n",
       "       '10-Speed Automatic with Overdrive', '7-Speed DCT Automatic',\n",
       "       '9-Speed Automatic with Auto-Shift',\n",
       "       'SCHEDULED FOR OR IN PRODUCTION', '2-Speed A/T', '6 Speed Mt',\n",
       "       '8-Speed Manual'], dtype=object)"
      ]
     },
     "execution_count": 18,
     "metadata": {},
     "output_type": "execute_result"
    }
   ],
   "source": [
    "df['transmission'].unique()"
   ]
  },
  {
   "cell_type": "code",
   "execution_count": 19,
   "id": "a68828aa-d412-47ff-8910-60aeb63c8480",
   "metadata": {},
   "outputs": [
    {
     "data": {
      "text/plain": [
       "array(['Black', 'Moonlight Cloud', 'Blue', 'Glacier White Metallic',\n",
       "       'Silver', 'Green', 'Fuji White', 'Yellow', 'White', 'Gray',\n",
       "       'Purple', 'Iconic Silver Metallic', 'Mythos Black Metallic', 'Red',\n",
       "       'Gold', 'Lunar Silver Metallic', 'Mountain Air Metallic',\n",
       "       'Caspian Blue', 'Tango Red Metallic', '–', 'Alpine White',\n",
       "       'BLU ELEOS', 'Horizon Blue', 'Granite Crystal Clearcoat Metallic',\n",
       "       'Orange', 'Beige', 'Rift Metallic', 'Atomic Silver',\n",
       "       'Summit White', 'Imperial Blue Metallic',\n",
       "       'Magnetic Gray Clearcoat', 'Bright White Clearcoat',\n",
       "       'Typhoon Gray', 'Crystal Black Silica', 'Arctic Gray Metallic',\n",
       "       'Selenite Grey Metallic', 'Ultra Black', 'Lunare White Metallic',\n",
       "       'Hyper Red', 'Daytona Gray Pearl Effect', 'Vik Black',\n",
       "       'Pacific Blue Metallic', 'Obsidian Black Metallic',\n",
       "       'Silver Ice Metallic', 'Sonic Silver Metallic', 'Nightfall Mica',\n",
       "       'Apex Blue', 'Go Mango!', 'Ingot Silver Metallic',\n",
       "       'Midnight Black Metallic'], dtype=object)"
      ]
     },
     "execution_count": 19,
     "metadata": {},
     "output_type": "execute_result"
    }
   ],
   "source": [
    "df['ext_col'].unique()[:50]"
   ]
  },
  {
   "cell_type": "code",
   "execution_count": 20,
   "id": "cafa58d1-a978-4d8f-b5b8-f66c356c1251",
   "metadata": {},
   "outputs": [
    {
     "data": {
      "text/plain": [
       "array(['Black', 'Gray', 'Ebony.', 'Green', 'Pimento / Ebony', 'Brown',\n",
       "       'White', '–', 'Beige', 'Jet Black', 'Light Gray', 'Anthracite',\n",
       "       'Red', 'Nero Ade', 'Blue', 'Charcoal', 'Rioja Red',\n",
       "       'Canberra Beige/Black', 'Roast', 'Ivory / Ebony',\n",
       "       'Silk Beige/Black', 'Medium Pewter', 'Ice', 'Black / Express Red',\n",
       "       'Obsidian Black', 'Ebony', 'Orange', 'Caramel', 'Orchid',\n",
       "       'Graphite', 'Tan/Ebony', 'Cappuccino', 'Nero', 'Sahara Tan',\n",
       "       'BLACK', 'Hotspur', 'Blk', 'Black Onyx', 'Nougat Brown',\n",
       "       'Titan Black', 'Oyster W/Contrast', 'Silver',\n",
       "       'Macchiato Beige/Black', 'Sand Beige', 'Navy Pier', 'WHITE',\n",
       "       'Parchment.', 'Sarder Brown', 'Grace White', 'Cloud'], dtype=object)"
      ]
     },
     "execution_count": 20,
     "metadata": {},
     "output_type": "execute_result"
    }
   ],
   "source": [
    "df['int_col'].unique()[:50]"
   ]
  },
  {
   "cell_type": "code",
   "execution_count": 21,
   "id": "703b9ef5-48e0-4884-80bd-d8ba6b5f4027",
   "metadata": {},
   "outputs": [
    {
     "name": "stdout",
     "output_type": "stream",
     "text": [
      "unique exterior color count: 319\n",
      "unique interior color count: 156\n"
     ]
    }
   ],
   "source": [
    "print(f\"unique exterior color count: {len(df['ext_col'].unique())}\\nunique interior color count: {len(df['int_col'].unique())}\")"
   ]
  },
  {
   "cell_type": "code",
   "execution_count": 22,
   "id": "af611280-d208-4623-8bf0-6d03dbc40b42",
   "metadata": {},
   "outputs": [
    {
     "data": {
      "text/plain": [
       "array(['At least 1 accident or damage reported', 'None reported', nan],\n",
       "      dtype=object)"
      ]
     },
     "execution_count": 22,
     "metadata": {},
     "output_type": "execute_result"
    }
   ],
   "source": [
    "df['accident'].unique()"
   ]
  },
  {
   "cell_type": "code",
   "execution_count": 23,
   "id": "362add09-5dcb-4d9c-991e-a28caee66dda",
   "metadata": {},
   "outputs": [
    {
     "data": {
      "text/plain": [
       "accident\n",
       "None reported                             2910\n",
       "At least 1 accident or damage reported     986\n",
       "Name: count, dtype: int64"
      ]
     },
     "execution_count": 23,
     "metadata": {},
     "output_type": "execute_result"
    }
   ],
   "source": [
    "df['accident'].value_counts()"
   ]
  },
  {
   "cell_type": "code",
   "execution_count": 24,
   "id": "9df85d82-2ed5-4c77-a0e8-4eac926cd091",
   "metadata": {},
   "outputs": [
    {
     "data": {
      "text/plain": [
       "array(['Yes', nan], dtype=object)"
      ]
     },
     "execution_count": 24,
     "metadata": {},
     "output_type": "execute_result"
    }
   ],
   "source": [
    "df['clean_title'].unique()"
   ]
  },
  {
   "cell_type": "code",
   "execution_count": 25,
   "id": "f4a91c1e-e9ef-4007-9f52-34e2f2141b27",
   "metadata": {},
   "outputs": [
    {
     "data": {
      "text/plain": [
       "clean_title\n",
       "Yes    3413\n",
       "Name: count, dtype: int64"
      ]
     },
     "execution_count": 25,
     "metadata": {},
     "output_type": "execute_result"
    }
   ],
   "source": [
    "df['clean_title'].value_counts()"
   ]
  },
  {
   "cell_type": "code",
   "execution_count": 26,
   "id": "db5edeb4-5fe1-4d93-b83f-1132853df48f",
   "metadata": {},
   "outputs": [
    {
     "data": {
      "text/plain": [
       "array(['$10,300', '$38,005', '$54,598', '$15,500', '$34,999', '$14,798',\n",
       "       '$31,000', '$7,300', '$41,927', '$69,950', '$73,897', '$184,606',\n",
       "       '$53,500', '$62,000', '$47,998', '$29,990', '$250,000', '$16,800',\n",
       "       '$11,000', '$68,750', '$60,000', '$4,500', '$38,598', '$58,504',\n",
       "       '$61,000', '$32,300', '$13,998', '$59,995', '$25,700', '$21,375'],\n",
       "      dtype=object)"
      ]
     },
     "execution_count": 26,
     "metadata": {},
     "output_type": "execute_result"
    }
   ],
   "source": [
    "df['price'].unique()[:30]"
   ]
  },
  {
   "cell_type": "markdown",
   "id": "082643e3-36e2-4e53-91d0-4975bcd9bca2",
   "metadata": {},
   "source": [
    " "
   ]
  },
  {
   "cell_type": "markdown",
   "id": "6bcfd515-37dd-4b0f-b917-4401eb2c6bed",
   "metadata": {},
   "source": [
    "**_Quality of the Data_**\n",
    "* inconsistent model values  (feature eleminating - cause no pattern in feature)\n",
    "* need to convert model_year column to car_age ✔️\n",
    "* milage has ',' and ' mi.' included ✔️\n",
    "* milage has object as datatype need to convert to int ✔️\n",
    "* fuel_type contains '-', 'not supported' values ✔️\n",
    "* multiple features can be engineered from engine feature  ('engine_size', 'horsepower', 'cylinder_count')\n",
    "* need to convert transmission feature into categorical feature (automatic, manual, unknown) ✔️\n",
    "* need to reduce ext_col count into fewer categories (like blue, red, black, white, etc.) ✔️\n",
    "* need to reduce int_col count into fewer categories ✔️\n",
    "* price column has ',' and '$' included ✔️\n",
    "* price column should be numeric ✔️\n",
    "* missing values: fuel_type, accident, clean_title\n",
    "* engineered features ('engine_size', 'horsepower', 'cylinder_count') have missing values"
   ]
  },
  {
   "cell_type": "markdown",
   "id": "007a4aab-c9e4-42e1-9c52-8248680023e0",
   "metadata": {},
   "source": [
    "## Data Cleaning"
   ]
  },
  {
   "cell_type": "code",
   "execution_count": 27,
   "id": "04441414-c62d-4d98-9c0d-adbd63db17ce",
   "metadata": {},
   "outputs": [],
   "source": [
    "import datetime\n",
    "current_year = datetime.datetime.now().year\n",
    "df['car_age'] = current_year - df['model_year']\n",
    "df = df.drop('model_year',axis=1)"
   ]
  },
  {
   "cell_type": "code",
   "execution_count": 28,
   "id": "c309f3b4-57db-4e7f-ba8a-45918849ae0f",
   "metadata": {},
   "outputs": [],
   "source": [
    "df['milage'] = df['milage'].str.slice(0,-4).str.replace(\",\",\"\").astype(int)"
   ]
  },
  {
   "cell_type": "code",
   "execution_count": 29,
   "id": "65ef2e0f-0242-4786-93d7-71b284873b6d",
   "metadata": {},
   "outputs": [
    {
     "data": {
      "text/plain": [
       "array(['E85 Flex Fuel', 'Gasoline', 'Hybrid', nan, 'Diesel',\n",
       "       'Plug-In Hybrid', '–', 'not supported'], dtype=object)"
      ]
     },
     "execution_count": 29,
     "metadata": {},
     "output_type": "execute_result"
    }
   ],
   "source": [
    "df['fuel_type'].unique()"
   ]
  },
  {
   "cell_type": "code",
   "execution_count": 30,
   "id": "bc8775c8-6b9d-4adc-8752-b0a186317c27",
   "metadata": {},
   "outputs": [],
   "source": [
    "df['fuel_type'] = df['fuel_type'].apply(lambda x: \"Unknown\" if x in ['–','not supported'] else (\"Hybrid\" if x=='Plug-In Hybrid' else x))"
   ]
  },
  {
   "cell_type": "code",
   "execution_count": 31,
   "id": "cbfa6b92-2256-4f1e-b054-e0866d52ddd5",
   "metadata": {},
   "outputs": [],
   "source": [
    "automatic = [\"a/t\",\"cvt\",'dual-clutch','auto-shift','automatic']\n",
    "manual = ['m/t','manual']\n",
    "def clean_transmission(transmission):\n",
    "    if any(x in transmission.lower() for x in automatic):\n",
    "        transmission = \"Automatic\"\n",
    "    elif any(x in transmission.lower() for x in manual):\n",
    "        transmission = \"Manual\"\n",
    "    else:\n",
    "        transmission = \"Unknown\"\n",
    "        \n",
    "    return transmission"
   ]
  },
  {
   "cell_type": "code",
   "execution_count": 32,
   "id": "7947f04d-5b0e-410a-bec4-c92884bb90f2",
   "metadata": {},
   "outputs": [],
   "source": [
    "df['transmission'] = df['transmission'].apply(clean_transmission)"
   ]
  },
  {
   "cell_type": "code",
   "execution_count": 33,
   "id": "c4b55a52-36c5-4071-a185-440f6e45841d",
   "metadata": {},
   "outputs": [],
   "source": [
    "colors = ['black','blue','red','white','silver','green','gray','yellow','purple','gold','orange','brown','pink', 'grey']  \n",
    "#most common colors are listed first\n",
    "def clean_color(color):\n",
    "    for c in colors:\n",
    "        if c in color.lower():\n",
    "            cleaned_color = c.capitalize()\n",
    "            break\n",
    "        else:\n",
    "            cleaned_color = \"Other\"\n",
    "            \n",
    "    if cleaned_color=='Gray':\n",
    "        return \"Grey\"\n",
    "    \n",
    "    return cleaned_color"
   ]
  },
  {
   "cell_type": "code",
   "execution_count": 34,
   "id": "29cd83f9-8b2f-4e1a-b3ee-813a3de741e3",
   "metadata": {},
   "outputs": [],
   "source": [
    "df['ext_col'] = df['ext_col'].apply(clean_color)"
   ]
  },
  {
   "cell_type": "code",
   "execution_count": 35,
   "id": "23d0c768-1195-4130-b0a6-bf2518c6a7bb",
   "metadata": {},
   "outputs": [],
   "source": [
    "df['int_col'] = df['int_col'].apply(clean_color)"
   ]
  },
  {
   "cell_type": "code",
   "execution_count": 36,
   "id": "645aa9ef-1e21-4912-9b43-97ff54c29eeb",
   "metadata": {},
   "outputs": [],
   "source": [
    "df['accident'] = df['accident'].apply(lambda x: \"Accident reported\" if x==\"At least 1 accident or damage reported\" else x)"
   ]
  },
  {
   "cell_type": "code",
   "execution_count": 37,
   "id": "397f5c83-4b94-4a1e-87c9-3188a35f32cd",
   "metadata": {},
   "outputs": [],
   "source": [
    "df['price'] = df['price'].str.slice(1,).str.replace(\",\",\"\").astype(int)"
   ]
  },
  {
   "cell_type": "code",
   "execution_count": 38,
   "id": "a173e88b-5a2a-444f-8c2b-6068b36711b0",
   "metadata": {},
   "outputs": [
    {
     "data": {
      "text/html": [
       "<div>\n",
       "<style scoped>\n",
       "    .dataframe tbody tr th:only-of-type {\n",
       "        vertical-align: middle;\n",
       "    }\n",
       "\n",
       "    .dataframe tbody tr th {\n",
       "        vertical-align: top;\n",
       "    }\n",
       "\n",
       "    .dataframe thead th {\n",
       "        text-align: right;\n",
       "    }\n",
       "</style>\n",
       "<table border=\"1\" class=\"dataframe\">\n",
       "  <thead>\n",
       "    <tr style=\"text-align: right;\">\n",
       "      <th></th>\n",
       "      <th>brand</th>\n",
       "      <th>model</th>\n",
       "      <th>milage</th>\n",
       "      <th>fuel_type</th>\n",
       "      <th>engine</th>\n",
       "      <th>transmission</th>\n",
       "      <th>ext_col</th>\n",
       "      <th>int_col</th>\n",
       "      <th>accident</th>\n",
       "      <th>clean_title</th>\n",
       "      <th>price</th>\n",
       "      <th>car_age</th>\n",
       "    </tr>\n",
       "    <tr>\n",
       "      <th>Index</th>\n",
       "      <th></th>\n",
       "      <th></th>\n",
       "      <th></th>\n",
       "      <th></th>\n",
       "      <th></th>\n",
       "      <th></th>\n",
       "      <th></th>\n",
       "      <th></th>\n",
       "      <th></th>\n",
       "      <th></th>\n",
       "      <th></th>\n",
       "      <th></th>\n",
       "    </tr>\n",
       "  </thead>\n",
       "  <tbody>\n",
       "    <tr>\n",
       "      <th>0</th>\n",
       "      <td>Ford</td>\n",
       "      <td>Utility Police Interceptor Base</td>\n",
       "      <td>51000</td>\n",
       "      <td>E85 Flex Fuel</td>\n",
       "      <td>300.0HP 3.7L V6 Cylinder Engine Flex Fuel Capa...</td>\n",
       "      <td>Automatic</td>\n",
       "      <td>Black</td>\n",
       "      <td>Black</td>\n",
       "      <td>Accident reported</td>\n",
       "      <td>Yes</td>\n",
       "      <td>10300</td>\n",
       "      <td>12</td>\n",
       "    </tr>\n",
       "    <tr>\n",
       "      <th>1</th>\n",
       "      <td>Hyundai</td>\n",
       "      <td>Palisade SEL</td>\n",
       "      <td>34742</td>\n",
       "      <td>Gasoline</td>\n",
       "      <td>3.8L V6 24V GDI DOHC</td>\n",
       "      <td>Automatic</td>\n",
       "      <td>Other</td>\n",
       "      <td>Grey</td>\n",
       "      <td>Accident reported</td>\n",
       "      <td>Yes</td>\n",
       "      <td>38005</td>\n",
       "      <td>4</td>\n",
       "    </tr>\n",
       "    <tr>\n",
       "      <th>2</th>\n",
       "      <td>Lexus</td>\n",
       "      <td>RX 350 RX 350</td>\n",
       "      <td>22372</td>\n",
       "      <td>Gasoline</td>\n",
       "      <td>3.5 Liter DOHC</td>\n",
       "      <td>Automatic</td>\n",
       "      <td>Blue</td>\n",
       "      <td>Black</td>\n",
       "      <td>None reported</td>\n",
       "      <td>NaN</td>\n",
       "      <td>54598</td>\n",
       "      <td>3</td>\n",
       "    </tr>\n",
       "    <tr>\n",
       "      <th>3</th>\n",
       "      <td>INFINITI</td>\n",
       "      <td>Q50 Hybrid Sport</td>\n",
       "      <td>88900</td>\n",
       "      <td>Hybrid</td>\n",
       "      <td>354.0HP 3.5L V6 Cylinder Engine Gas/Electric H...</td>\n",
       "      <td>Automatic</td>\n",
       "      <td>Black</td>\n",
       "      <td>Black</td>\n",
       "      <td>None reported</td>\n",
       "      <td>Yes</td>\n",
       "      <td>15500</td>\n",
       "      <td>10</td>\n",
       "    </tr>\n",
       "    <tr>\n",
       "      <th>4</th>\n",
       "      <td>Audi</td>\n",
       "      <td>Q3 45 S line Premium Plus</td>\n",
       "      <td>9835</td>\n",
       "      <td>Gasoline</td>\n",
       "      <td>2.0L I4 16V GDI DOHC Turbo</td>\n",
       "      <td>Automatic</td>\n",
       "      <td>White</td>\n",
       "      <td>Black</td>\n",
       "      <td>None reported</td>\n",
       "      <td>NaN</td>\n",
       "      <td>34999</td>\n",
       "      <td>4</td>\n",
       "    </tr>\n",
       "  </tbody>\n",
       "</table>\n",
       "</div>"
      ],
      "text/plain": [
       "          brand                            model  milage      fuel_type  \\\n",
       "Index                                                                     \n",
       "0          Ford  Utility Police Interceptor Base   51000  E85 Flex Fuel   \n",
       "1       Hyundai                     Palisade SEL   34742       Gasoline   \n",
       "2         Lexus                    RX 350 RX 350   22372       Gasoline   \n",
       "3      INFINITI                 Q50 Hybrid Sport   88900         Hybrid   \n",
       "4          Audi        Q3 45 S line Premium Plus    9835       Gasoline   \n",
       "\n",
       "                                                  engine transmission ext_col  \\\n",
       "Index                                                                           \n",
       "0      300.0HP 3.7L V6 Cylinder Engine Flex Fuel Capa...    Automatic   Black   \n",
       "1                                   3.8L V6 24V GDI DOHC    Automatic   Other   \n",
       "2                                         3.5 Liter DOHC    Automatic    Blue   \n",
       "3      354.0HP 3.5L V6 Cylinder Engine Gas/Electric H...    Automatic   Black   \n",
       "4                             2.0L I4 16V GDI DOHC Turbo    Automatic   White   \n",
       "\n",
       "      int_col           accident clean_title  price  car_age  \n",
       "Index                                                         \n",
       "0       Black  Accident reported         Yes  10300       12  \n",
       "1        Grey  Accident reported         Yes  38005        4  \n",
       "2       Black      None reported         NaN  54598        3  \n",
       "3       Black      None reported         Yes  15500       10  \n",
       "4       Black      None reported         NaN  34999        4  "
      ]
     },
     "execution_count": 38,
     "metadata": {},
     "output_type": "execute_result"
    }
   ],
   "source": [
    "df.head()"
   ]
  },
  {
   "cell_type": "markdown",
   "id": "848e814b-372e-4287-a3e2-b8f6cf060545",
   "metadata": {},
   "source": [
    "## Feature Engineering"
   ]
  },
  {
   "cell_type": "code",
   "execution_count": 39,
   "id": "4b1fc98f-e74b-4cf1-bf05-dcdc317ee396",
   "metadata": {},
   "outputs": [],
   "source": [
    "df['horsepower'] = df['engine'].str.extract(r'(\\d+\\.?\\d*)HP').astype(float)"
   ]
  },
  {
   "cell_type": "code",
   "execution_count": 40,
   "id": "93f6cca5-9816-472c-8658-a9820d09d339",
   "metadata": {},
   "outputs": [],
   "source": [
    "df['engine_size'] = df['engine'].str.extract(r'(\\d+\\.?\\d*)L').astype(float)"
   ]
  },
  {
   "cell_type": "code",
   "execution_count": 41,
   "id": "8defc584-9bef-4224-b3dc-54e0811513a3",
   "metadata": {},
   "outputs": [],
   "source": [
    "df['cylinder_count'] = df['engine'].str.extract(r'(\\d+\\.?\\d*) Cylinder').astype(float)"
   ]
  },
  {
   "cell_type": "markdown",
   "id": "1addc1a1-fef6-4ff2-a0e2-81e8b596c49c",
   "metadata": {},
   "source": [
    "## Filling Missing values"
   ]
  },
  {
   "cell_type": "code",
   "execution_count": 42,
   "id": "48ba73fb-6f62-44ac-9e0c-41f3eca376da",
   "metadata": {},
   "outputs": [],
   "source": [
    "df['fuel_type'] = df['fuel_type'].fillna('Unknown')"
   ]
  },
  {
   "cell_type": "code",
   "execution_count": 43,
   "id": "b1b71806-a6d8-4beb-a9e9-13ed7f62bab7",
   "metadata": {},
   "outputs": [],
   "source": [
    "df['accident'] = df['accident'].fillna('Unknown')"
   ]
  },
  {
   "cell_type": "code",
   "execution_count": 44,
   "id": "dc3a3f93-8459-42c7-9196-c8bcc3586ebf",
   "metadata": {},
   "outputs": [],
   "source": [
    "df['clean_title'] = df['clean_title'].fillna('Unknown')"
   ]
  },
  {
   "cell_type": "code",
   "execution_count": 45,
   "id": "088f51c0-4bfc-48c3-9414-8c14e70d3353",
   "metadata": {},
   "outputs": [
    {
     "data": {
      "text/html": [
       "<div>\n",
       "<style scoped>\n",
       "    .dataframe tbody tr th:only-of-type {\n",
       "        vertical-align: middle;\n",
       "    }\n",
       "\n",
       "    .dataframe tbody tr th {\n",
       "        vertical-align: top;\n",
       "    }\n",
       "\n",
       "    .dataframe thead th {\n",
       "        text-align: right;\n",
       "    }\n",
       "</style>\n",
       "<table border=\"1\" class=\"dataframe\">\n",
       "  <thead>\n",
       "    <tr style=\"text-align: right;\">\n",
       "      <th></th>\n",
       "      <th>brand</th>\n",
       "      <th>model</th>\n",
       "      <th>milage</th>\n",
       "      <th>fuel_type</th>\n",
       "      <th>engine</th>\n",
       "      <th>transmission</th>\n",
       "      <th>ext_col</th>\n",
       "      <th>int_col</th>\n",
       "      <th>accident</th>\n",
       "      <th>clean_title</th>\n",
       "      <th>price</th>\n",
       "      <th>car_age</th>\n",
       "      <th>horsepower</th>\n",
       "      <th>engine_size</th>\n",
       "      <th>cylinder_count</th>\n",
       "    </tr>\n",
       "    <tr>\n",
       "      <th>Index</th>\n",
       "      <th></th>\n",
       "      <th></th>\n",
       "      <th></th>\n",
       "      <th></th>\n",
       "      <th></th>\n",
       "      <th></th>\n",
       "      <th></th>\n",
       "      <th></th>\n",
       "      <th></th>\n",
       "      <th></th>\n",
       "      <th></th>\n",
       "      <th></th>\n",
       "      <th></th>\n",
       "      <th></th>\n",
       "      <th></th>\n",
       "    </tr>\n",
       "  </thead>\n",
       "  <tbody>\n",
       "    <tr>\n",
       "      <th>0</th>\n",
       "      <td>Ford</td>\n",
       "      <td>Utility Police Interceptor Base</td>\n",
       "      <td>51000</td>\n",
       "      <td>E85 Flex Fuel</td>\n",
       "      <td>300.0HP 3.7L V6 Cylinder Engine Flex Fuel Capa...</td>\n",
       "      <td>Automatic</td>\n",
       "      <td>Black</td>\n",
       "      <td>Black</td>\n",
       "      <td>Accident reported</td>\n",
       "      <td>Yes</td>\n",
       "      <td>10300</td>\n",
       "      <td>12</td>\n",
       "      <td>300.0</td>\n",
       "      <td>3.7</td>\n",
       "      <td>6.0</td>\n",
       "    </tr>\n",
       "    <tr>\n",
       "      <th>1</th>\n",
       "      <td>Hyundai</td>\n",
       "      <td>Palisade SEL</td>\n",
       "      <td>34742</td>\n",
       "      <td>Gasoline</td>\n",
       "      <td>3.8L V6 24V GDI DOHC</td>\n",
       "      <td>Automatic</td>\n",
       "      <td>Other</td>\n",
       "      <td>Grey</td>\n",
       "      <td>Accident reported</td>\n",
       "      <td>Yes</td>\n",
       "      <td>38005</td>\n",
       "      <td>4</td>\n",
       "      <td>NaN</td>\n",
       "      <td>3.8</td>\n",
       "      <td>NaN</td>\n",
       "    </tr>\n",
       "  </tbody>\n",
       "</table>\n",
       "</div>"
      ],
      "text/plain": [
       "         brand                            model  milage      fuel_type  \\\n",
       "Index                                                                    \n",
       "0         Ford  Utility Police Interceptor Base   51000  E85 Flex Fuel   \n",
       "1      Hyundai                     Palisade SEL   34742       Gasoline   \n",
       "\n",
       "                                                  engine transmission ext_col  \\\n",
       "Index                                                                           \n",
       "0      300.0HP 3.7L V6 Cylinder Engine Flex Fuel Capa...    Automatic   Black   \n",
       "1                                   3.8L V6 24V GDI DOHC    Automatic   Other   \n",
       "\n",
       "      int_col           accident clean_title  price  car_age  horsepower  \\\n",
       "Index                                                                      \n",
       "0       Black  Accident reported         Yes  10300       12       300.0   \n",
       "1        Grey  Accident reported         Yes  38005        4         NaN   \n",
       "\n",
       "       engine_size  cylinder_count  \n",
       "Index                               \n",
       "0              3.7             6.0  \n",
       "1              3.8             NaN  "
      ]
     },
     "execution_count": 45,
     "metadata": {},
     "output_type": "execute_result"
    }
   ],
   "source": [
    "df.head(2)"
   ]
  },
  {
   "cell_type": "code",
   "execution_count": 46,
   "id": "15856ccb-9e51-4084-9ad8-cd0b8340d2eb",
   "metadata": {},
   "outputs": [],
   "source": [
    "cleaned_df = df.drop(['model','engine'],axis=1).copy()"
   ]
  },
  {
   "cell_type": "code",
   "execution_count": 47,
   "id": "c70f1595-0790-4ffc-8243-4cb94fcebd23",
   "metadata": {},
   "outputs": [
    {
     "data": {
      "text/html": [
       "<div>\n",
       "<style scoped>\n",
       "    .dataframe tbody tr th:only-of-type {\n",
       "        vertical-align: middle;\n",
       "    }\n",
       "\n",
       "    .dataframe tbody tr th {\n",
       "        vertical-align: top;\n",
       "    }\n",
       "\n",
       "    .dataframe thead th {\n",
       "        text-align: right;\n",
       "    }\n",
       "</style>\n",
       "<table border=\"1\" class=\"dataframe\">\n",
       "  <thead>\n",
       "    <tr style=\"text-align: right;\">\n",
       "      <th></th>\n",
       "      <th>brand</th>\n",
       "      <th>milage</th>\n",
       "      <th>fuel_type</th>\n",
       "      <th>transmission</th>\n",
       "      <th>ext_col</th>\n",
       "      <th>int_col</th>\n",
       "      <th>accident</th>\n",
       "      <th>clean_title</th>\n",
       "      <th>price</th>\n",
       "      <th>car_age</th>\n",
       "      <th>horsepower</th>\n",
       "      <th>engine_size</th>\n",
       "      <th>cylinder_count</th>\n",
       "    </tr>\n",
       "    <tr>\n",
       "      <th>Index</th>\n",
       "      <th></th>\n",
       "      <th></th>\n",
       "      <th></th>\n",
       "      <th></th>\n",
       "      <th></th>\n",
       "      <th></th>\n",
       "      <th></th>\n",
       "      <th></th>\n",
       "      <th></th>\n",
       "      <th></th>\n",
       "      <th></th>\n",
       "      <th></th>\n",
       "      <th></th>\n",
       "    </tr>\n",
       "  </thead>\n",
       "  <tbody>\n",
       "    <tr>\n",
       "      <th>0</th>\n",
       "      <td>Ford</td>\n",
       "      <td>51000</td>\n",
       "      <td>E85 Flex Fuel</td>\n",
       "      <td>Automatic</td>\n",
       "      <td>Black</td>\n",
       "      <td>Black</td>\n",
       "      <td>Accident reported</td>\n",
       "      <td>Yes</td>\n",
       "      <td>10300</td>\n",
       "      <td>12</td>\n",
       "      <td>300.0</td>\n",
       "      <td>3.7</td>\n",
       "      <td>6.0</td>\n",
       "    </tr>\n",
       "    <tr>\n",
       "      <th>1</th>\n",
       "      <td>Hyundai</td>\n",
       "      <td>34742</td>\n",
       "      <td>Gasoline</td>\n",
       "      <td>Automatic</td>\n",
       "      <td>Other</td>\n",
       "      <td>Grey</td>\n",
       "      <td>Accident reported</td>\n",
       "      <td>Yes</td>\n",
       "      <td>38005</td>\n",
       "      <td>4</td>\n",
       "      <td>NaN</td>\n",
       "      <td>3.8</td>\n",
       "      <td>NaN</td>\n",
       "    </tr>\n",
       "    <tr>\n",
       "      <th>2</th>\n",
       "      <td>Lexus</td>\n",
       "      <td>22372</td>\n",
       "      <td>Gasoline</td>\n",
       "      <td>Automatic</td>\n",
       "      <td>Blue</td>\n",
       "      <td>Black</td>\n",
       "      <td>None reported</td>\n",
       "      <td>Unknown</td>\n",
       "      <td>54598</td>\n",
       "      <td>3</td>\n",
       "      <td>NaN</td>\n",
       "      <td>NaN</td>\n",
       "      <td>NaN</td>\n",
       "    </tr>\n",
       "    <tr>\n",
       "      <th>3</th>\n",
       "      <td>INFINITI</td>\n",
       "      <td>88900</td>\n",
       "      <td>Hybrid</td>\n",
       "      <td>Automatic</td>\n",
       "      <td>Black</td>\n",
       "      <td>Black</td>\n",
       "      <td>None reported</td>\n",
       "      <td>Yes</td>\n",
       "      <td>15500</td>\n",
       "      <td>10</td>\n",
       "      <td>354.0</td>\n",
       "      <td>3.5</td>\n",
       "      <td>6.0</td>\n",
       "    </tr>\n",
       "    <tr>\n",
       "      <th>4</th>\n",
       "      <td>Audi</td>\n",
       "      <td>9835</td>\n",
       "      <td>Gasoline</td>\n",
       "      <td>Automatic</td>\n",
       "      <td>White</td>\n",
       "      <td>Black</td>\n",
       "      <td>None reported</td>\n",
       "      <td>Unknown</td>\n",
       "      <td>34999</td>\n",
       "      <td>4</td>\n",
       "      <td>NaN</td>\n",
       "      <td>2.0</td>\n",
       "      <td>NaN</td>\n",
       "    </tr>\n",
       "  </tbody>\n",
       "</table>\n",
       "</div>"
      ],
      "text/plain": [
       "          brand  milage      fuel_type transmission ext_col int_col  \\\n",
       "Index                                                                 \n",
       "0          Ford   51000  E85 Flex Fuel    Automatic   Black   Black   \n",
       "1       Hyundai   34742       Gasoline    Automatic   Other    Grey   \n",
       "2         Lexus   22372       Gasoline    Automatic    Blue   Black   \n",
       "3      INFINITI   88900         Hybrid    Automatic   Black   Black   \n",
       "4          Audi    9835       Gasoline    Automatic   White   Black   \n",
       "\n",
       "                accident clean_title  price  car_age  horsepower  engine_size  \\\n",
       "Index                                                                           \n",
       "0      Accident reported         Yes  10300       12       300.0          3.7   \n",
       "1      Accident reported         Yes  38005        4         NaN          3.8   \n",
       "2          None reported     Unknown  54598        3         NaN          NaN   \n",
       "3          None reported         Yes  15500       10       354.0          3.5   \n",
       "4          None reported     Unknown  34999        4         NaN          2.0   \n",
       "\n",
       "       cylinder_count  \n",
       "Index                  \n",
       "0                 6.0  \n",
       "1                 NaN  \n",
       "2                 NaN  \n",
       "3                 6.0  \n",
       "4                 NaN  "
      ]
     },
     "execution_count": 47,
     "metadata": {},
     "output_type": "execute_result"
    }
   ],
   "source": [
    "cleaned_df.head()"
   ]
  },
  {
   "cell_type": "code",
   "execution_count": 48,
   "id": "92188f81-4e0f-42e4-a618-429c717db02e",
   "metadata": {},
   "outputs": [],
   "source": [
    "cleaned_df.to_csv(\"../data/cleaned_used_car_df.csv\",index=False)"
   ]
  },
  {
   "cell_type": "code",
   "execution_count": null,
   "id": "94296436-ce5e-4242-b9b0-4b22922a1714",
   "metadata": {},
   "outputs": [],
   "source": []
  },
  {
   "cell_type": "code",
   "execution_count": null,
   "id": "673ac8e5-d3e6-43d8-9b7e-5a4e816b8559",
   "metadata": {},
   "outputs": [],
   "source": []
  },
  {
   "cell_type": "code",
   "execution_count": null,
   "id": "13f57df5-0332-448b-9283-f6e8d2b18e16",
   "metadata": {},
   "outputs": [],
   "source": []
  },
  {
   "cell_type": "code",
   "execution_count": null,
   "id": "65396e85-8f30-4623-a311-6d08774939ce",
   "metadata": {},
   "outputs": [],
   "source": []
  },
  {
   "cell_type": "code",
   "execution_count": null,
   "id": "7eed530b-3c3f-4d29-ab35-52bedce2bdb9",
   "metadata": {},
   "outputs": [],
   "source": []
  },
  {
   "cell_type": "code",
   "execution_count": null,
   "id": "789554b0-e66b-4aa6-adf5-03dd832fffab",
   "metadata": {},
   "outputs": [],
   "source": []
  },
  {
   "cell_type": "markdown",
   "id": "04bd2adc-7ba2-4b08-8049-0aeffb481a52",
   "metadata": {},
   "source": [
    "# Custom Transformer to convert newly added data into cleaned dataset"
   ]
  },
  {
   "cell_type": "code",
   "execution_count": 49,
   "id": "e5d30b09-9b84-4799-b072-a72c6d464620",
   "metadata": {},
   "outputs": [],
   "source": [
    "from sklearn.base import BaseEstimator, TransformerMixin"
   ]
  },
  {
   "cell_type": "code",
   "execution_count": 50,
   "id": "49852193-41f5-4752-b7fb-63c27a9644a2",
   "metadata": {},
   "outputs": [],
   "source": [
    "class DataCleaner(BaseEstimator,TransformerMixin):\n",
    "    dt = __import__('datetime')\n",
    "    def fit(self,X,y=None):\n",
    "        return self\n",
    "\n",
    "    def clean_transmission(self,transmission):\n",
    "        automatic = [\"a/t\",\"cvt\",'dual-clutch','auto-shift','automatic']\n",
    "        manual = ['m/t','manual']\n",
    "        if any(x in transmission.lower() for x in automatic):\n",
    "            transmission = \"Automatic\"\n",
    "        elif any(x in transmission.lower() for x in manual):\n",
    "            transmission = \"Manual\"\n",
    "        else:\n",
    "            transmission = \"Unknown\"\n",
    "        \n",
    "        return transmission\n",
    "\n",
    "    def clean_color(self,color):\n",
    "        colors = ['black','blue','red','white','silver','green','gray','yellow','purple','gold','orange','brown','pink', 'grey']  \n",
    "        #most common colors are listed first\n",
    "        for c in colors:\n",
    "            if c in color.lower():\n",
    "                cleaned_color = c.capitalize()\n",
    "                break\n",
    "            else:\n",
    "                cleaned_color = \"Other\"\n",
    "                \n",
    "        if cleaned_color=='Gray':\n",
    "            return \"Grey\"\n",
    "        \n",
    "        return cleaned_color\n",
    "    \n",
    "    def transform(self,X,y=None):\n",
    "        X_ = X.copy()\n",
    "\n",
    "        #model\n",
    "        X_['milage'] = X_['milage'].str.slice(0,-4).str.replace(\",\",\"\").astype(int)\n",
    "\n",
    "        #model_year\n",
    "        current_year = self.dt.datetime.now().year\n",
    "        X_['car_age'] = current_year - X_['model_year']\n",
    "        X_ = X_.drop('model_year',axis=1)\n",
    "\n",
    "        #fuel_type\n",
    "        X_['fuel_type'] = X_['fuel_type'].apply(lambda x: \"Unknown\" if x in ['–','not supported'] else (\"Hybrid\" if x=='Plug-In Hybrid' else x))\n",
    "\n",
    "        #transmission\n",
    "        X_['transmission'] = X_['transmission'].apply(self.clean_transmission)\n",
    "\n",
    "        #ext_col\n",
    "        X_['ext_col'] = X_['ext_col'].apply(self.clean_color)\n",
    "\n",
    "        #int_col\n",
    "        X_['int_col'] = X_['int_col'].apply(self.clean_color)\n",
    "\n",
    "        #accident\n",
    "        X_['accident'] = X_['accident'].apply(lambda x: \"Accident reported\" if x==\"At least 1 accident or damage reported\" else x)\n",
    "\n",
    "        #price\n",
    "        X_['price'] = X_['price'].str.slice(1,).str.replace(\",\",\"\").astype(int)\n",
    "\n",
    "        #horsepower\n",
    "        X_['horsepower'] = X_['engine'].str.extract(r'(\\d+\\.?\\d*)HP').astype(float)\n",
    "\n",
    "        #engine_size\n",
    "        X_['engine_size'] = X_['engine'].str.extract(r'(\\d+\\.?\\d*)L').astype(float)\n",
    "\n",
    "        #cylinder_count\n",
    "        X_['cylinder_count'] = X_['engine'].str.extract(r'(\\d+\\.?\\d*) Cylinder').astype(float)\n",
    "\n",
    "        #missing vallue filling\n",
    "        X_['fuel_type'] = X_['fuel_type'].fillna('Unknown')\n",
    "        X_['accident'] = X_['accident'].fillna('Unknown')\n",
    "        X_['clean_title'] = X_['clean_title'].fillna('Unknown')\n",
    "        \n",
    "        #dropping unnecessary columns\n",
    "        X_ = X_.drop('model',axis=1)\n",
    "        X_ = X_.drop('engine',axis=1)\n",
    "\n",
    "        return X_"
   ]
  },
  {
   "cell_type": "code",
   "execution_count": 51,
   "id": "2d3a661b-c558-43f9-af09-d59f4d55a244",
   "metadata": {},
   "outputs": [],
   "source": [
    "transformer = DataCleaner()"
   ]
  },
  {
   "cell_type": "code",
   "execution_count": 52,
   "id": "a81c2ce6-c083-492d-b439-3a2b4ba00c4b",
   "metadata": {},
   "outputs": [
    {
     "data": {
      "text/html": [
       "<style>#sk-container-id-1 {color: black;}#sk-container-id-1 pre{padding: 0;}#sk-container-id-1 div.sk-toggleable {background-color: white;}#sk-container-id-1 label.sk-toggleable__label {cursor: pointer;display: block;width: 100%;margin-bottom: 0;padding: 0.3em;box-sizing: border-box;text-align: center;}#sk-container-id-1 label.sk-toggleable__label-arrow:before {content: \"▸\";float: left;margin-right: 0.25em;color: #696969;}#sk-container-id-1 label.sk-toggleable__label-arrow:hover:before {color: black;}#sk-container-id-1 div.sk-estimator:hover label.sk-toggleable__label-arrow:before {color: black;}#sk-container-id-1 div.sk-toggleable__content {max-height: 0;max-width: 0;overflow: hidden;text-align: left;background-color: #f0f8ff;}#sk-container-id-1 div.sk-toggleable__content pre {margin: 0.2em;color: black;border-radius: 0.25em;background-color: #f0f8ff;}#sk-container-id-1 input.sk-toggleable__control:checked~div.sk-toggleable__content {max-height: 200px;max-width: 100%;overflow: auto;}#sk-container-id-1 input.sk-toggleable__control:checked~label.sk-toggleable__label-arrow:before {content: \"▾\";}#sk-container-id-1 div.sk-estimator input.sk-toggleable__control:checked~label.sk-toggleable__label {background-color: #d4ebff;}#sk-container-id-1 div.sk-label input.sk-toggleable__control:checked~label.sk-toggleable__label {background-color: #d4ebff;}#sk-container-id-1 input.sk-hidden--visually {border: 0;clip: rect(1px 1px 1px 1px);clip: rect(1px, 1px, 1px, 1px);height: 1px;margin: -1px;overflow: hidden;padding: 0;position: absolute;width: 1px;}#sk-container-id-1 div.sk-estimator {font-family: monospace;background-color: #f0f8ff;border: 1px dotted black;border-radius: 0.25em;box-sizing: border-box;margin-bottom: 0.5em;}#sk-container-id-1 div.sk-estimator:hover {background-color: #d4ebff;}#sk-container-id-1 div.sk-parallel-item::after {content: \"\";width: 100%;border-bottom: 1px solid gray;flex-grow: 1;}#sk-container-id-1 div.sk-label:hover label.sk-toggleable__label {background-color: #d4ebff;}#sk-container-id-1 div.sk-serial::before {content: \"\";position: absolute;border-left: 1px solid gray;box-sizing: border-box;top: 0;bottom: 0;left: 50%;z-index: 0;}#sk-container-id-1 div.sk-serial {display: flex;flex-direction: column;align-items: center;background-color: white;padding-right: 0.2em;padding-left: 0.2em;position: relative;}#sk-container-id-1 div.sk-item {position: relative;z-index: 1;}#sk-container-id-1 div.sk-parallel {display: flex;align-items: stretch;justify-content: center;background-color: white;position: relative;}#sk-container-id-1 div.sk-item::before, #sk-container-id-1 div.sk-parallel-item::before {content: \"\";position: absolute;border-left: 1px solid gray;box-sizing: border-box;top: 0;bottom: 0;left: 50%;z-index: -1;}#sk-container-id-1 div.sk-parallel-item {display: flex;flex-direction: column;z-index: 1;position: relative;background-color: white;}#sk-container-id-1 div.sk-parallel-item:first-child::after {align-self: flex-end;width: 50%;}#sk-container-id-1 div.sk-parallel-item:last-child::after {align-self: flex-start;width: 50%;}#sk-container-id-1 div.sk-parallel-item:only-child::after {width: 0;}#sk-container-id-1 div.sk-dashed-wrapped {border: 1px dashed gray;margin: 0 0.4em 0.5em 0.4em;box-sizing: border-box;padding-bottom: 0.4em;background-color: white;}#sk-container-id-1 div.sk-label label {font-family: monospace;font-weight: bold;display: inline-block;line-height: 1.2em;}#sk-container-id-1 div.sk-label-container {text-align: center;}#sk-container-id-1 div.sk-container {/* jupyter's `normalize.less` sets `[hidden] { display: none; }` but bootstrap.min.css set `[hidden] { display: none !important; }` so we also need the `!important` here to be able to override the default hidden behavior on the sphinx rendered scikit-learn.org. See: https://github.com/scikit-learn/scikit-learn/issues/21755 */display: inline-block !important;position: relative;}#sk-container-id-1 div.sk-text-repr-fallback {display: none;}</style><div id=\"sk-container-id-1\" class=\"sk-top-container\"><div class=\"sk-text-repr-fallback\"><pre>DataCleaner()</pre><b>In a Jupyter environment, please rerun this cell to show the HTML representation or trust the notebook. <br />On GitHub, the HTML representation is unable to render, please try loading this page with nbviewer.org.</b></div><div class=\"sk-container\" hidden><div class=\"sk-item\"><div class=\"sk-estimator sk-toggleable\"><input class=\"sk-toggleable__control sk-hidden--visually\" id=\"sk-estimator-id-1\" type=\"checkbox\" checked><label for=\"sk-estimator-id-1\" class=\"sk-toggleable__label sk-toggleable__label-arrow\">DataCleaner</label><div class=\"sk-toggleable__content\"><pre>DataCleaner()</pre></div></div></div></div></div>"
      ],
      "text/plain": [
       "DataCleaner()"
      ]
     },
     "execution_count": 52,
     "metadata": {},
     "output_type": "execute_result"
    }
   ],
   "source": [
    "transformer.fit(df)"
   ]
  },
  {
   "cell_type": "code",
   "execution_count": 53,
   "id": "420047fa-90e5-4947-9e8e-8575cb0b2b0a",
   "metadata": {},
   "outputs": [],
   "source": [
    "cleaned_transformed_df = transformer.transform(df_copy)"
   ]
  },
  {
   "cell_type": "code",
   "execution_count": 54,
   "id": "1a89d33b-2420-4140-8e97-a898925d1c5b",
   "metadata": {},
   "outputs": [
    {
     "data": {
      "text/html": [
       "<div>\n",
       "<style scoped>\n",
       "    .dataframe tbody tr th:only-of-type {\n",
       "        vertical-align: middle;\n",
       "    }\n",
       "\n",
       "    .dataframe tbody tr th {\n",
       "        vertical-align: top;\n",
       "    }\n",
       "\n",
       "    .dataframe thead th {\n",
       "        text-align: right;\n",
       "    }\n",
       "</style>\n",
       "<table border=\"1\" class=\"dataframe\">\n",
       "  <thead>\n",
       "    <tr style=\"text-align: right;\">\n",
       "      <th></th>\n",
       "      <th>brand</th>\n",
       "      <th>milage</th>\n",
       "      <th>fuel_type</th>\n",
       "      <th>transmission</th>\n",
       "      <th>ext_col</th>\n",
       "      <th>int_col</th>\n",
       "      <th>accident</th>\n",
       "      <th>clean_title</th>\n",
       "      <th>price</th>\n",
       "      <th>car_age</th>\n",
       "      <th>horsepower</th>\n",
       "      <th>engine_size</th>\n",
       "      <th>cylinder_count</th>\n",
       "    </tr>\n",
       "  </thead>\n",
       "  <tbody>\n",
       "    <tr>\n",
       "      <th>0</th>\n",
       "      <td>Ford</td>\n",
       "      <td>51000</td>\n",
       "      <td>E85 Flex Fuel</td>\n",
       "      <td>Automatic</td>\n",
       "      <td>Black</td>\n",
       "      <td>Black</td>\n",
       "      <td>Accident reported</td>\n",
       "      <td>Yes</td>\n",
       "      <td>10300</td>\n",
       "      <td>12</td>\n",
       "      <td>300.0</td>\n",
       "      <td>3.7</td>\n",
       "      <td>6.0</td>\n",
       "    </tr>\n",
       "    <tr>\n",
       "      <th>1</th>\n",
       "      <td>Hyundai</td>\n",
       "      <td>34742</td>\n",
       "      <td>Gasoline</td>\n",
       "      <td>Automatic</td>\n",
       "      <td>Other</td>\n",
       "      <td>Grey</td>\n",
       "      <td>Accident reported</td>\n",
       "      <td>Yes</td>\n",
       "      <td>38005</td>\n",
       "      <td>4</td>\n",
       "      <td>NaN</td>\n",
       "      <td>3.8</td>\n",
       "      <td>NaN</td>\n",
       "    </tr>\n",
       "    <tr>\n",
       "      <th>2</th>\n",
       "      <td>Lexus</td>\n",
       "      <td>22372</td>\n",
       "      <td>Gasoline</td>\n",
       "      <td>Automatic</td>\n",
       "      <td>Blue</td>\n",
       "      <td>Black</td>\n",
       "      <td>None reported</td>\n",
       "      <td>Unknown</td>\n",
       "      <td>54598</td>\n",
       "      <td>3</td>\n",
       "      <td>NaN</td>\n",
       "      <td>NaN</td>\n",
       "      <td>NaN</td>\n",
       "    </tr>\n",
       "    <tr>\n",
       "      <th>3</th>\n",
       "      <td>INFINITI</td>\n",
       "      <td>88900</td>\n",
       "      <td>Hybrid</td>\n",
       "      <td>Automatic</td>\n",
       "      <td>Black</td>\n",
       "      <td>Black</td>\n",
       "      <td>None reported</td>\n",
       "      <td>Yes</td>\n",
       "      <td>15500</td>\n",
       "      <td>10</td>\n",
       "      <td>354.0</td>\n",
       "      <td>3.5</td>\n",
       "      <td>6.0</td>\n",
       "    </tr>\n",
       "    <tr>\n",
       "      <th>4</th>\n",
       "      <td>Audi</td>\n",
       "      <td>9835</td>\n",
       "      <td>Gasoline</td>\n",
       "      <td>Automatic</td>\n",
       "      <td>White</td>\n",
       "      <td>Black</td>\n",
       "      <td>None reported</td>\n",
       "      <td>Unknown</td>\n",
       "      <td>34999</td>\n",
       "      <td>4</td>\n",
       "      <td>NaN</td>\n",
       "      <td>2.0</td>\n",
       "      <td>NaN</td>\n",
       "    </tr>\n",
       "    <tr>\n",
       "      <th>...</th>\n",
       "      <td>...</td>\n",
       "      <td>...</td>\n",
       "      <td>...</td>\n",
       "      <td>...</td>\n",
       "      <td>...</td>\n",
       "      <td>...</td>\n",
       "      <td>...</td>\n",
       "      <td>...</td>\n",
       "      <td>...</td>\n",
       "      <td>...</td>\n",
       "      <td>...</td>\n",
       "      <td>...</td>\n",
       "      <td>...</td>\n",
       "    </tr>\n",
       "    <tr>\n",
       "      <th>4004</th>\n",
       "      <td>Bentley</td>\n",
       "      <td>714</td>\n",
       "      <td>Gasoline</td>\n",
       "      <td>Automatic</td>\n",
       "      <td>Other</td>\n",
       "      <td>Other</td>\n",
       "      <td>None reported</td>\n",
       "      <td>Yes</td>\n",
       "      <td>349950</td>\n",
       "      <td>2</td>\n",
       "      <td>NaN</td>\n",
       "      <td>6.0</td>\n",
       "      <td>NaN</td>\n",
       "    </tr>\n",
       "    <tr>\n",
       "      <th>4005</th>\n",
       "      <td>Audi</td>\n",
       "      <td>10900</td>\n",
       "      <td>Gasoline</td>\n",
       "      <td>Unknown</td>\n",
       "      <td>Black</td>\n",
       "      <td>Black</td>\n",
       "      <td>None reported</td>\n",
       "      <td>Yes</td>\n",
       "      <td>53900</td>\n",
       "      <td>3</td>\n",
       "      <td>349.0</td>\n",
       "      <td>3.0</td>\n",
       "      <td>6.0</td>\n",
       "    </tr>\n",
       "    <tr>\n",
       "      <th>4006</th>\n",
       "      <td>Porsche</td>\n",
       "      <td>2116</td>\n",
       "      <td>Unknown</td>\n",
       "      <td>Automatic</td>\n",
       "      <td>Black</td>\n",
       "      <td>Black</td>\n",
       "      <td>None reported</td>\n",
       "      <td>Unknown</td>\n",
       "      <td>90998</td>\n",
       "      <td>3</td>\n",
       "      <td>NaN</td>\n",
       "      <td>NaN</td>\n",
       "      <td>NaN</td>\n",
       "    </tr>\n",
       "    <tr>\n",
       "      <th>4007</th>\n",
       "      <td>Ford</td>\n",
       "      <td>33000</td>\n",
       "      <td>Gasoline</td>\n",
       "      <td>Automatic</td>\n",
       "      <td>Blue</td>\n",
       "      <td>Black</td>\n",
       "      <td>None reported</td>\n",
       "      <td>Yes</td>\n",
       "      <td>62999</td>\n",
       "      <td>5</td>\n",
       "      <td>450.0</td>\n",
       "      <td>3.5</td>\n",
       "      <td>6.0</td>\n",
       "    </tr>\n",
       "    <tr>\n",
       "      <th>4008</th>\n",
       "      <td>BMW</td>\n",
       "      <td>43000</td>\n",
       "      <td>Gasoline</td>\n",
       "      <td>Automatic</td>\n",
       "      <td>Grey</td>\n",
       "      <td>Brown</td>\n",
       "      <td>Accident reported</td>\n",
       "      <td>Yes</td>\n",
       "      <td>40000</td>\n",
       "      <td>5</td>\n",
       "      <td>248.0</td>\n",
       "      <td>2.0</td>\n",
       "      <td>4.0</td>\n",
       "    </tr>\n",
       "  </tbody>\n",
       "</table>\n",
       "<p>4009 rows × 13 columns</p>\n",
       "</div>"
      ],
      "text/plain": [
       "         brand  milage      fuel_type transmission ext_col int_col  \\\n",
       "0         Ford   51000  E85 Flex Fuel    Automatic   Black   Black   \n",
       "1      Hyundai   34742       Gasoline    Automatic   Other    Grey   \n",
       "2        Lexus   22372       Gasoline    Automatic    Blue   Black   \n",
       "3     INFINITI   88900         Hybrid    Automatic   Black   Black   \n",
       "4         Audi    9835       Gasoline    Automatic   White   Black   \n",
       "...        ...     ...            ...          ...     ...     ...   \n",
       "4004   Bentley     714       Gasoline    Automatic   Other   Other   \n",
       "4005      Audi   10900       Gasoline      Unknown   Black   Black   \n",
       "4006   Porsche    2116        Unknown    Automatic   Black   Black   \n",
       "4007      Ford   33000       Gasoline    Automatic    Blue   Black   \n",
       "4008       BMW   43000       Gasoline    Automatic    Grey   Brown   \n",
       "\n",
       "               accident clean_title   price  car_age  horsepower  engine_size  \\\n",
       "0     Accident reported         Yes   10300       12       300.0          3.7   \n",
       "1     Accident reported         Yes   38005        4         NaN          3.8   \n",
       "2         None reported     Unknown   54598        3         NaN          NaN   \n",
       "3         None reported         Yes   15500       10       354.0          3.5   \n",
       "4         None reported     Unknown   34999        4         NaN          2.0   \n",
       "...                 ...         ...     ...      ...         ...          ...   \n",
       "4004      None reported         Yes  349950        2         NaN          6.0   \n",
       "4005      None reported         Yes   53900        3       349.0          3.0   \n",
       "4006      None reported     Unknown   90998        3         NaN          NaN   \n",
       "4007      None reported         Yes   62999        5       450.0          3.5   \n",
       "4008  Accident reported         Yes   40000        5       248.0          2.0   \n",
       "\n",
       "      cylinder_count  \n",
       "0                6.0  \n",
       "1                NaN  \n",
       "2                NaN  \n",
       "3                6.0  \n",
       "4                NaN  \n",
       "...              ...  \n",
       "4004             NaN  \n",
       "4005             6.0  \n",
       "4006             NaN  \n",
       "4007             6.0  \n",
       "4008             4.0  \n",
       "\n",
       "[4009 rows x 13 columns]"
      ]
     },
     "execution_count": 54,
     "metadata": {},
     "output_type": "execute_result"
    }
   ],
   "source": [
    "cleaned_transformed_df"
   ]
  },
  {
   "cell_type": "code",
   "execution_count": 55,
   "id": "3a5d3acc-5729-4111-a7d0-ef90b0a6f1d6",
   "metadata": {},
   "outputs": [
    {
     "name": "stdout",
     "output_type": "stream",
     "text": [
      "<class 'pandas.core.frame.DataFrame'>\n",
      "RangeIndex: 4009 entries, 0 to 4008\n",
      "Data columns (total 13 columns):\n",
      " #   Column          Non-Null Count  Dtype  \n",
      "---  ------          --------------  -----  \n",
      " 0   brand           4009 non-null   object \n",
      " 1   milage          4009 non-null   int32  \n",
      " 2   fuel_type       4009 non-null   object \n",
      " 3   transmission    4009 non-null   object \n",
      " 4   ext_col         4009 non-null   object \n",
      " 5   int_col         4009 non-null   object \n",
      " 6   accident        4009 non-null   object \n",
      " 7   clean_title     4009 non-null   object \n",
      " 8   price           4009 non-null   int32  \n",
      " 9   car_age         4009 non-null   int64  \n",
      " 10  horsepower      3201 non-null   float64\n",
      " 11  engine_size     3632 non-null   float64\n",
      " 12  cylinder_count  3064 non-null   float64\n",
      "dtypes: float64(3), int32(2), int64(1), object(7)\n",
      "memory usage: 376.0+ KB\n"
     ]
    }
   ],
   "source": [
    "cleaned_transformed_df.info()"
   ]
  },
  {
   "cell_type": "code",
   "execution_count": null,
   "id": "680cfac8-2357-496d-97f0-5a33dd3c91f1",
   "metadata": {},
   "outputs": [],
   "source": []
  }
 ],
 "metadata": {
  "kernelspec": {
   "display_name": "Python 3 (ipykernel)",
   "language": "python",
   "name": "python3"
  },
  "language_info": {
   "codemirror_mode": {
    "name": "ipython",
    "version": 3
   },
   "file_extension": ".py",
   "mimetype": "text/x-python",
   "name": "python",
   "nbconvert_exporter": "python",
   "pygments_lexer": "ipython3",
   "version": "3.11.5"
  }
 },
 "nbformat": 4,
 "nbformat_minor": 5
}
