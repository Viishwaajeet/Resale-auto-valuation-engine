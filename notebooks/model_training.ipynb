{
 "cells": [
  {
   "cell_type": "code",
   "execution_count": 83,
   "id": "c7a1dece-2d61-452e-ba18-dd8e8056824e",
   "metadata": {},
   "outputs": [],
   "source": [
    "import numpy as np\n",
    "import pandas as pd\n",
    "import matplotlib.pyplot as plt\n",
    "import seaborn as sns\n",
    "\n",
    "from sklearn.model_selection import train_test_split, GridSearchCV\n",
    "from sklearn.impute import SimpleImputer\n",
    "from sklearn.preprocessing import StandardScaler, OneHotEncoder\n",
    "from sklearn.compose import ColumnTransformer\n",
    "from sklearn.pipeline import Pipeline\n",
    "from sklearn.linear_model import LinearRegression,Ridge,Lasso\n",
    "from sklearn.neighbors import KNeighborsRegressor\n",
    "from sklearn.tree import DecisionTreeRegressor\n",
    "from sklearn.ensemble import RandomForestRegressor,GradientBoostingRegressor,AdaBoostRegressor,ExtraTreesRegressor\n",
    "from sklearn.svm import SVR\n",
    "from xgboost import XGBRegressor\n",
    "from sklearn.metrics import r2_score, mean_squared_error, mean_absolute_error"
   ]
  },
  {
   "cell_type": "code",
   "execution_count": 2,
   "id": "6d3906d4-73eb-4ac8-90f7-d6f04bc3762e",
   "metadata": {},
   "outputs": [],
   "source": [
    "df = pd.read_csv('../data/ready_to_transform_car_data.csv')"
   ]
  },
  {
   "cell_type": "code",
   "execution_count": 3,
   "id": "b639fefe-8857-42f0-8270-0b3c3b0fcd06",
   "metadata": {},
   "outputs": [
    {
     "data": {
      "text/html": [
       "<div>\n",
       "<style scoped>\n",
       "    .dataframe tbody tr th:only-of-type {\n",
       "        vertical-align: middle;\n",
       "    }\n",
       "\n",
       "    .dataframe tbody tr th {\n",
       "        vertical-align: top;\n",
       "    }\n",
       "\n",
       "    .dataframe thead th {\n",
       "        text-align: right;\n",
       "    }\n",
       "</style>\n",
       "<table border=\"1\" class=\"dataframe\">\n",
       "  <thead>\n",
       "    <tr style=\"text-align: right;\">\n",
       "      <th></th>\n",
       "      <th>brand</th>\n",
       "      <th>milage</th>\n",
       "      <th>fuel_type</th>\n",
       "      <th>transmission</th>\n",
       "      <th>ext_col</th>\n",
       "      <th>int_col</th>\n",
       "      <th>accident</th>\n",
       "      <th>clean_title</th>\n",
       "      <th>price</th>\n",
       "      <th>car_age</th>\n",
       "      <th>horsepower</th>\n",
       "      <th>engine_size</th>\n",
       "      <th>cylinder_count</th>\n",
       "    </tr>\n",
       "  </thead>\n",
       "  <tbody>\n",
       "    <tr>\n",
       "      <th>0</th>\n",
       "      <td>Ford</td>\n",
       "      <td>51000</td>\n",
       "      <td>E85 Flex Fuel</td>\n",
       "      <td>Automatic</td>\n",
       "      <td>Black</td>\n",
       "      <td>Black</td>\n",
       "      <td>Accident reported</td>\n",
       "      <td>Yes</td>\n",
       "      <td>10300</td>\n",
       "      <td>12</td>\n",
       "      <td>300.0</td>\n",
       "      <td>3.7</td>\n",
       "      <td>6.0</td>\n",
       "    </tr>\n",
       "    <tr>\n",
       "      <th>1</th>\n",
       "      <td>Hyundai</td>\n",
       "      <td>34742</td>\n",
       "      <td>Gasoline</td>\n",
       "      <td>Automatic</td>\n",
       "      <td>Other</td>\n",
       "      <td>Grey</td>\n",
       "      <td>Accident reported</td>\n",
       "      <td>Yes</td>\n",
       "      <td>38005</td>\n",
       "      <td>4</td>\n",
       "      <td>NaN</td>\n",
       "      <td>3.8</td>\n",
       "      <td>NaN</td>\n",
       "    </tr>\n",
       "    <tr>\n",
       "      <th>2</th>\n",
       "      <td>Lexus</td>\n",
       "      <td>22372</td>\n",
       "      <td>Gasoline</td>\n",
       "      <td>Automatic</td>\n",
       "      <td>Blue</td>\n",
       "      <td>Black</td>\n",
       "      <td>None reported</td>\n",
       "      <td>Unknown</td>\n",
       "      <td>54598</td>\n",
       "      <td>3</td>\n",
       "      <td>NaN</td>\n",
       "      <td>NaN</td>\n",
       "      <td>NaN</td>\n",
       "    </tr>\n",
       "    <tr>\n",
       "      <th>3</th>\n",
       "      <td>INFINITI</td>\n",
       "      <td>88900</td>\n",
       "      <td>Hybrid</td>\n",
       "      <td>Automatic</td>\n",
       "      <td>Black</td>\n",
       "      <td>Black</td>\n",
       "      <td>None reported</td>\n",
       "      <td>Yes</td>\n",
       "      <td>15500</td>\n",
       "      <td>10</td>\n",
       "      <td>354.0</td>\n",
       "      <td>3.5</td>\n",
       "      <td>6.0</td>\n",
       "    </tr>\n",
       "    <tr>\n",
       "      <th>4</th>\n",
       "      <td>Audi</td>\n",
       "      <td>9835</td>\n",
       "      <td>Gasoline</td>\n",
       "      <td>Automatic</td>\n",
       "      <td>White</td>\n",
       "      <td>Black</td>\n",
       "      <td>None reported</td>\n",
       "      <td>Unknown</td>\n",
       "      <td>34999</td>\n",
       "      <td>4</td>\n",
       "      <td>NaN</td>\n",
       "      <td>2.0</td>\n",
       "      <td>NaN</td>\n",
       "    </tr>\n",
       "  </tbody>\n",
       "</table>\n",
       "</div>"
      ],
      "text/plain": [
       "      brand  milage      fuel_type transmission ext_col int_col  \\\n",
       "0      Ford   51000  E85 Flex Fuel    Automatic   Black   Black   \n",
       "1   Hyundai   34742       Gasoline    Automatic   Other    Grey   \n",
       "2     Lexus   22372       Gasoline    Automatic    Blue   Black   \n",
       "3  INFINITI   88900         Hybrid    Automatic   Black   Black   \n",
       "4      Audi    9835       Gasoline    Automatic   White   Black   \n",
       "\n",
       "            accident clean_title  price  car_age  horsepower  engine_size  \\\n",
       "0  Accident reported         Yes  10300       12       300.0          3.7   \n",
       "1  Accident reported         Yes  38005        4         NaN          3.8   \n",
       "2      None reported     Unknown  54598        3         NaN          NaN   \n",
       "3      None reported         Yes  15500       10       354.0          3.5   \n",
       "4      None reported     Unknown  34999        4         NaN          2.0   \n",
       "\n",
       "   cylinder_count  \n",
       "0             6.0  \n",
       "1             NaN  \n",
       "2             NaN  \n",
       "3             6.0  \n",
       "4             NaN  "
      ]
     },
     "execution_count": 3,
     "metadata": {},
     "output_type": "execute_result"
    }
   ],
   "source": [
    "df.head()"
   ]
  },
  {
   "cell_type": "code",
   "execution_count": 4,
   "id": "74811e4e-26ce-4155-9487-76fd825a3cef",
   "metadata": {},
   "outputs": [],
   "source": [
    "X = df.drop('price',axis=1)\n",
    "y = df['price']"
   ]
  },
  {
   "cell_type": "markdown",
   "id": "647ae840-6698-49c9-90cb-26f2457295f3",
   "metadata": {},
   "source": [
    "## Train | Test Split"
   ]
  },
  {
   "cell_type": "code",
   "execution_count": 14,
   "id": "46a95883-708a-45fc-905d-93b930469148",
   "metadata": {},
   "outputs": [],
   "source": [
    "X_train,X_test,y_train,y_test = train_test_split(X,y,test_size=0.2,random_state=42)"
   ]
  },
  {
   "cell_type": "code",
   "execution_count": 104,
   "id": "1a99b4dd-74fe-41d5-93de-1aad5a2dab42",
   "metadata": {},
   "outputs": [],
   "source": [
    "# residuals = y_test - y_pred\n",
    "# plt.scatter(y_pred, residuals, alpha=0.5)\n",
    "# plt.axhline(0, color='red', linestyle='--')\n",
    "# plt.xlabel(\"Predicted Values\")\n",
    "# plt.ylabel(\"Residuals\")\n",
    "# plt.title(\"Residuals vs. Predicted Values\")\n",
    "# plt.show()"
   ]
  },
  {
   "cell_type": "code",
   "execution_count": 106,
   "id": "5fd9aba0-5428-4ee4-accf-43d17b01b15f",
   "metadata": {},
   "outputs": [],
   "source": [
    "# plt.hist(residuals, bins=30, edgecolor='k')\n",
    "# plt.title(\"Histogram of Residuals\")\n",
    "# plt.show()"
   ]
  },
  {
   "cell_type": "code",
   "execution_count": 105,
   "id": "9fd01ccc-a911-44f0-8913-c98dba9cecc6",
   "metadata": {},
   "outputs": [
    {
     "name": "stdout",
     "output_type": "stream",
     "text": [
      "Baseline RMSE: 47357.5266\n"
     ]
    }
   ],
   "source": [
    "baseline_pred = np.full_like(y_test, y_test.mean())  # Predict the mean\n",
    "baseline_rmse = mean_squared_error(y_test, baseline_pred)**0.5\n",
    "\n",
    "print(f\"Baseline RMSE: {baseline_rmse:.4f}\")"
   ]
  },
  {
   "cell_type": "markdown",
   "id": "2e216d54-bd00-490b-b2a7-763121fd3075",
   "metadata": {},
   "source": [
    "## Linear regression"
   ]
  },
  {
   "cell_type": "code",
   "execution_count": 86,
   "id": "96acdb7b-30c3-4093-a35f-7979a1c8f2e0",
   "metadata": {},
   "outputs": [
    {
     "name": "stdout",
     "output_type": "stream",
     "text": [
      "R2 score 0.4351247342421606\n",
      "MAE 18069.869473647304\n",
      "RMSE 35593.057071832074\n"
     ]
    }
   ],
   "source": [
    "step1 = ColumnTransformer([\n",
    "    ('imputer', SimpleImputer(), ['horsepower','engine_size','cylinder_count']),\n",
    "    ('encoder', OneHotEncoder(drop='first',sparse_output=False,handle_unknown='ignore'), ['brand','fuel_type','transmission','ext_col','int_col','accident','clean_title'])\n",
    "],remainder='passthrough')\n",
    "\n",
    "step2 = StandardScaler()\n",
    "\n",
    "step3 = LinearRegression()\n",
    "\n",
    "pipe = Pipeline([\n",
    "    ('step1',step1),\n",
    "    ('step2',step2),\n",
    "    ('step3',step3)\n",
    "])\n",
    "\n",
    "pipe.fit(X_train,y_train)\n",
    "\n",
    "y_pred = pipe.predict(X_test)\n",
    "\n",
    "print('R2 score',r2_score(y_test,y_pred))\n",
    "print('MAE',mean_absolute_error(y_test,y_pred))\n",
    "print('RMSE',mean_squared_error(y_test,y_pred)**0.5)"
   ]
  },
  {
   "cell_type": "markdown",
   "id": "a52afe91-d913-4be0-9d6d-7e5bf0895ff3",
   "metadata": {},
   "source": [
    "## Ridge regression"
   ]
  },
  {
   "cell_type": "code",
   "execution_count": 87,
   "id": "36fe27d6-64f5-4d7d-b365-81c0268918ec",
   "metadata": {},
   "outputs": [
    {
     "name": "stdout",
     "output_type": "stream",
     "text": [
      "R2 score 0.4351687956053596\n",
      "MAE 18034.447582117806\n",
      "RMSE 35591.668881116835\n"
     ]
    }
   ],
   "source": [
    "step1 = ColumnTransformer([\n",
    "    ('imputer', SimpleImputer(), ['horsepower','engine_size','cylinder_count']),\n",
    "    ('encoder', OneHotEncoder(drop='first',sparse_output=False,handle_unknown='ignore'), ['brand','fuel_type','transmission','ext_col','int_col','accident','clean_title'])\n",
    "],remainder='passthrough')\n",
    "\n",
    "step2 = StandardScaler()\n",
    "\n",
    "step3 = Ridge(alpha=10)\n",
    "\n",
    "pipe = Pipeline([\n",
    "    ('step1',step1),\n",
    "    ('step2',step2),\n",
    "    ('step3',step3)\n",
    "])\n",
    "\n",
    "pipe.fit(X_train,y_train)\n",
    "\n",
    "y_pred = pipe.predict(X_test)\n",
    "\n",
    "print('R2 score',r2_score(y_test,y_pred))\n",
    "print('MAE',mean_absolute_error(y_test,y_pred))\n",
    "print('RMSE',mean_squared_error(y_test,y_pred)**0.5)"
   ]
  },
  {
   "cell_type": "markdown",
   "id": "43eb7277-68c7-4215-8a8c-02ae070dd6c5",
   "metadata": {},
   "source": [
    "## lasso regression"
   ]
  },
  {
   "cell_type": "code",
   "execution_count": 109,
   "id": "0fa9c6af-3645-412e-97e3-56ba04941dc4",
   "metadata": {},
   "outputs": [
    {
     "name": "stdout",
     "output_type": "stream",
     "text": [
      "R2 score 0.4354770801877782\n",
      "MAE 17845.1031966173\n",
      "RMSE 35581.95459808906\n"
     ]
    }
   ],
   "source": [
    "step1 = ColumnTransformer([\n",
    "    ('imputer', SimpleImputer(), ['horsepower','engine_size','cylinder_count']),\n",
    "    ('encoder', OneHotEncoder(drop='first',sparse_output=False,handle_unknown='ignore'), ['brand','fuel_type','transmission','ext_col','int_col','accident','clean_title'])\n",
    "],remainder='passthrough')\n",
    "\n",
    "step2 = StandardScaler()\n",
    "\n",
    "step3 = Lasso(alpha=0.001)\n",
    "\n",
    "pipe = Pipeline([\n",
    "    ('step1',step1),\n",
    "    ('step2',step2),\n",
    "    ('step3',step3)\n",
    "])\n",
    "\n",
    "# pipe.fit(X_train,y_train)\n",
    "\n",
    "param = {'step3__alpha':[0.0001,0.001,0.01,0.1,1,10,100,1000]}\n",
    "\n",
    "grid_model = GridSearchCV(pipe,param_grid=param,scoring='neg_mean_squared_error',cv=5)\n",
    "\n",
    "grid_model.fit(X_train,y_train)\n",
    "\n",
    "y_pred = grid_model.predict(X_test)\n",
    "\n",
    "print('R2 score',r2_score(y_test,y_pred))\n",
    "print('MAE',mean_absolute_error(y_test,y_pred))\n",
    "print('RMSE',mean_squared_error(y_test,y_pred)**0.5)"
   ]
  },
  {
   "cell_type": "markdown",
   "id": "131b2765-f0a7-4028-bb45-1fb102fb3e59",
   "metadata": {},
   "source": [
    "## knn "
   ]
  },
  {
   "cell_type": "code",
   "execution_count": 111,
   "id": "afec34c6-d87d-4d8c-8940-616f5046aa83",
   "metadata": {},
   "outputs": [
    {
     "name": "stdout",
     "output_type": "stream",
     "text": [
      "R2 score 0.40921654098960347\n",
      "MAE 17590.82040306759\n",
      "RMSE 36400.15016296732\n"
     ]
    }
   ],
   "source": [
    "step1 = ColumnTransformer([\n",
    "    ('imputer', SimpleImputer(), ['horsepower','engine_size','cylinder_count']),\n",
    "    ('encoder', OneHotEncoder(drop='first',sparse_output=False,handle_unknown='ignore'), ['brand','fuel_type','transmission','ext_col','int_col','accident','clean_title'])\n",
    "],remainder='passthrough')\n",
    "\n",
    "step2 = StandardScaler()\n",
    "\n",
    "step3 = KNeighborsRegressor(n_neighbors=3)\n",
    "\n",
    "pipe = Pipeline([\n",
    "    ('step1',step1),\n",
    "    ('step2',step2),\n",
    "    ('step3',step3)\n",
    "])\n",
    "\n",
    "# pipe.fit(X_train,y_train)\n",
    "\n",
    "param = {'step3__n_neighbors':[1,2,3,4,5,7,10,15,20,25]}\n",
    "\n",
    "grid_model = GridSearchCV(pipe,param_grid=param,scoring='neg_mean_squared_error',cv=5)\n",
    "\n",
    "grid_model.fit(X_train,y_train)\n",
    "\n",
    "y_pred = grid_model.predict(X_test)\n",
    "\n",
    "print('R2 score',r2_score(y_test,y_pred))\n",
    "print('MAE',mean_absolute_error(y_test,y_pred))\n",
    "print('RMSE',mean_squared_error(y_test,y_pred)**0.5)"
   ]
  },
  {
   "cell_type": "markdown",
   "id": "837ac9e5-b1d5-43dc-869f-7e1a19b09d2c",
   "metadata": {},
   "source": [
    "## Decision tree"
   ]
  },
  {
   "cell_type": "code",
   "execution_count": 112,
   "id": "57d496d9-1e7e-443f-af21-76fac1a704ca",
   "metadata": {},
   "outputs": [
    {
     "name": "stdout",
     "output_type": "stream",
     "text": [
      "R2 score 0.6205769621343817\n",
      "MAE 11735.703764141657\n",
      "RMSE 29170.969292400085\n"
     ]
    }
   ],
   "source": [
    "step1 = ColumnTransformer([\n",
    "    ('imputer', SimpleImputer(), ['horsepower','engine_size','cylinder_count']),\n",
    "    ('encoder', OneHotEncoder(drop='first',sparse_output=False,handle_unknown='ignore'), ['brand','fuel_type','transmission','ext_col','int_col','accident','clean_title'])\n",
    "],remainder='passthrough')\n",
    "\n",
    "step2 = StandardScaler()\n",
    "\n",
    "step3 = DecisionTreeRegressor(max_depth=8)\n",
    "\n",
    "pipe = Pipeline([\n",
    "    ('step1',step1),\n",
    "    ('step2',step2),\n",
    "    ('step3',step3)\n",
    "])\n",
    "\n",
    "pipe.fit(X_train,y_train)\n",
    "\n",
    "param = {'step3__max_depth': [5, 10, 20],\n",
    "        'step3__max_leaf_nodes': [10, 20, 50]}\n",
    "\n",
    "grid_model = GridSearchCV(pipe,param_grid=param,scoring='neg_mean_squared_error',cv=5)\n",
    "\n",
    "grid_model.fit(X_train,y_train)\n",
    "\n",
    "y_pred = grid_model.predict(X_test)\n",
    "\n",
    "print('R2 score',r2_score(y_test,y_pred))\n",
    "print('MAE',mean_absolute_error(y_test,y_pred))\n",
    "print('RMSE',mean_squared_error(y_test,y_pred)**0.5)"
   ]
  },
  {
   "cell_type": "markdown",
   "id": "77204264-456c-4e5a-b783-0475434d07a0",
   "metadata": {},
   "source": [
    "## SVM"
   ]
  },
  {
   "cell_type": "code",
   "execution_count": 113,
   "id": "a1a99df2-f0e8-42f0-b4f8-95989650674c",
   "metadata": {},
   "outputs": [
    {
     "name": "stdout",
     "output_type": "stream",
     "text": [
      "R2 score 0.3248001281085853\n",
      "MAE 14147.19318875562\n",
      "RMSE 38913.93841431248\n"
     ]
    }
   ],
   "source": [
    "step1 = ColumnTransformer([\n",
    "    ('imputer', SimpleImputer(), ['horsepower','engine_size','cylinder_count']),\n",
    "    ('encoder', OneHotEncoder(drop='first',sparse_output=False,handle_unknown='ignore'), ['brand','fuel_type','transmission','ext_col','int_col','accident','clean_title'])\n",
    "],remainder='passthrough')\n",
    "\n",
    "step2 = StandardScaler()\n",
    "\n",
    "step3 = SVR(kernel='rbf',C=10000,epsilon=0.1)\n",
    "\n",
    "pipe = Pipeline([\n",
    "    ('step1',step1),\n",
    "    ('step2',step2),\n",
    "    ('step3',step3)\n",
    "])\n",
    "\n",
    "# pipe.fit(X_train,y_train)\n",
    "\n",
    "param = {'step3__C': [1, 10, 100, 1000],\n",
    "        'step3__epsilon': [0.1, 0.2, 0.5]}\n",
    "\n",
    "grid_model = GridSearchCV(pipe,param_grid=param,scoring='neg_mean_squared_error',cv=5)\n",
    "\n",
    "grid_model.fit(X_train,y_train)\n",
    "\n",
    "y_pred = grid_model.predict(X_test)\n",
    "\n",
    "print('R2 score',r2_score(y_test,y_pred))\n",
    "print('MAE',mean_absolute_error(y_test,y_pred))\n",
    "print('RMSE',mean_squared_error(y_test,y_pred)**0.5)"
   ]
  },
  {
   "cell_type": "markdown",
   "id": "12711eef-c9a6-4e7f-92ca-c56af2652fcc",
   "metadata": {},
   "source": [
    "## random forest"
   ]
  },
  {
   "cell_type": "code",
   "execution_count": 116,
   "id": "1d3f9569-5a75-4712-9a32-53ec5aac4b85",
   "metadata": {},
   "outputs": [
    {
     "name": "stdout",
     "output_type": "stream",
     "text": [
      "R2 score 0.7433221874512855\n",
      "MAE 10061.054439299693\n",
      "RMSE 23992.9238919611\n"
     ]
    }
   ],
   "source": [
    "step1 = ColumnTransformer([\n",
    "    ('imputer', SimpleImputer(), ['horsepower','engine_size','cylinder_count']),\n",
    "    ('encoder', OneHotEncoder(drop='first',sparse_output=False,handle_unknown='ignore'), ['brand','fuel_type','transmission','ext_col','int_col','accident','clean_title'])\n",
    "],remainder='passthrough')\n",
    "\n",
    "step2 = StandardScaler()\n",
    "\n",
    "step3 = RandomForestRegressor(n_estimators=100,\n",
    "                              random_state=3,\n",
    "                              max_samples=0.5,\n",
    "                              max_features=0.75,\n",
    "                              max_depth=15)\n",
    "\n",
    "pipe = Pipeline([\n",
    "    ('step1',step1),\n",
    "    ('step2',step2),\n",
    "    ('step3',step3)\n",
    "])\n",
    "\n",
    "pipe.fit(X_train,y_train)\n",
    "\n",
    "# param = {'step3__n_estimators': [50, 100, 200],\n",
    "#         'step3__max_depth': [10, 20, 30],\n",
    "#         'step3__min_samples_split': [2, 5, 10],\n",
    "#         'step3__min_samples_leaf': [1, 2, 5]}\n",
    "\n",
    "# grid_model = GridSearchCV(pipe,param_grid=param,scoring='neg_mean_squared_error',cv=5)\n",
    "\n",
    "# grid_model.fit(X_train,y_train)\n",
    "\n",
    "y_pred = pipe.predict(X_test)\n",
    "\n",
    "print('R2 score',r2_score(y_test,y_pred))\n",
    "print('MAE',mean_absolute_error(y_test,y_pred))\n",
    "print('RMSE',mean_squared_error(y_test,y_pred)**0.5)"
   ]
  },
  {
   "cell_type": "markdown",
   "id": "cffb49a9-3c70-4fd1-ad81-9d172468b06a",
   "metadata": {},
   "source": [
    "## extra tree"
   ]
  },
  {
   "cell_type": "code",
   "execution_count": 94,
   "id": "af0f4bd3-0af0-4711-8c80-9f15b2c58b11",
   "metadata": {},
   "outputs": [
    {
     "name": "stdout",
     "output_type": "stream",
     "text": [
      "R2 score 0.6930281052995197\n",
      "MAE 10239.612063729723\n",
      "RMSE 26238.458633754926\n"
     ]
    }
   ],
   "source": [
    "step1 = ColumnTransformer([\n",
    "    ('imputer', SimpleImputer(), ['horsepower','engine_size','cylinder_count']),\n",
    "    ('encoder', OneHotEncoder(drop='first',sparse_output=False,handle_unknown='ignore'), ['brand','fuel_type','transmission','ext_col','int_col','accident','clean_title'])\n",
    "],remainder='passthrough')\n",
    "\n",
    "step2 = StandardScaler()\n",
    "\n",
    "step3 = ExtraTreesRegressor(n_estimators=100,\n",
    "                              random_state=3,\n",
    "                              max_samples=0.5,\n",
    "                              max_features=0.75,\n",
    "                              max_depth=15,\n",
    "                              bootstrap=True)\n",
    "\n",
    "pipe = Pipeline([\n",
    "    ('step1',step1),\n",
    "    ('step2',step2),\n",
    "    ('step3',step3)\n",
    "])\n",
    "\n",
    "pipe.fit(X_train,y_train)\n",
    "\n",
    "y_pred = pipe.predict(X_test)\n",
    "\n",
    "print('R2 score',r2_score(y_test,y_pred))\n",
    "print('MAE',mean_absolute_error(y_test,y_pred))\n",
    "print('RMSE',mean_squared_error(y_test,y_pred)**0.5)"
   ]
  },
  {
   "cell_type": "markdown",
   "id": "dbfcfcda-6166-4f80-8d20-723058c1daa0",
   "metadata": {},
   "source": [
    "## adaboost"
   ]
  },
  {
   "cell_type": "code",
   "execution_count": 97,
   "id": "6256224e-3e7d-4076-82ce-404774848c3e",
   "metadata": {},
   "outputs": [
    {
     "name": "stdout",
     "output_type": "stream",
     "text": [
      "R2 score 0.5250585684724851\n",
      "MAE 19531.151499637348\n",
      "RMSE 32636.91046865923\n"
     ]
    }
   ],
   "source": [
    "step1 = ColumnTransformer([\n",
    "    ('imputer', SimpleImputer(), ['horsepower','engine_size','cylinder_count']),\n",
    "    ('encoder', OneHotEncoder(drop='first',sparse_output=False,handle_unknown='ignore'), ['brand','fuel_type','transmission','ext_col','int_col','accident','clean_title'])\n",
    "],remainder='passthrough')\n",
    "\n",
    "step2 = StandardScaler()\n",
    "\n",
    "step3 = AdaBoostRegressor(n_estimators=15,learning_rate=1.0)\n",
    "\n",
    "pipe = Pipeline([\n",
    "    ('step1',step1),\n",
    "    ('step2',step2),\n",
    "    ('step3',step3)\n",
    "])\n",
    "\n",
    "pipe.fit(X_train,y_train)\n",
    "\n",
    "y_pred = pipe.predict(X_test)\n",
    "\n",
    "print('R2 score',r2_score(y_test,y_pred))\n",
    "print('MAE',mean_absolute_error(y_test,y_pred))\n",
    "print('RMSE',mean_squared_error(y_test,y_pred)**0.5)"
   ]
  },
  {
   "cell_type": "markdown",
   "id": "bd780a5e-f3d6-44a4-8985-e3c410841fb2",
   "metadata": {},
   "source": [
    "## gradient boost"
   ]
  },
  {
   "cell_type": "code",
   "execution_count": 98,
   "id": "097e8325-8d17-47e4-8d2c-f31bc8928fad",
   "metadata": {},
   "outputs": [
    {
     "name": "stdout",
     "output_type": "stream",
     "text": [
      "R2 score 0.7745331446801628\n",
      "MAE 9769.633412182504\n",
      "RMSE 22486.940223989164\n"
     ]
    }
   ],
   "source": [
    "step1 = ColumnTransformer([\n",
    "    ('imputer', SimpleImputer(), ['horsepower','engine_size','cylinder_count']),\n",
    "    ('encoder', OneHotEncoder(drop='first',sparse_output=False,handle_unknown='ignore'), ['brand','fuel_type','transmission','ext_col','int_col','accident','clean_title'])\n",
    "],remainder='passthrough')\n",
    "\n",
    "step2 = StandardScaler()\n",
    "\n",
    "step3 = GradientBoostingRegressor(n_estimators=500)\n",
    "\n",
    "pipe = Pipeline([\n",
    "    ('step1',step1),\n",
    "    ('step2',step2),\n",
    "    ('step3',step3)\n",
    "])\n",
    "\n",
    "pipe.fit(X_train,y_train)\n",
    "\n",
    "y_pred = pipe.predict(X_test)\n",
    "\n",
    "print('R2 score',r2_score(y_test,y_pred))\n",
    "print('MAE',mean_absolute_error(y_test,y_pred))\n",
    "print('RMSE',mean_squared_error(y_test,y_pred)**0.5)"
   ]
  },
  {
   "cell_type": "markdown",
   "id": "30def74c-5082-4e81-92b6-80a6ee481992",
   "metadata": {},
   "source": [
    "## xg boost"
   ]
  },
  {
   "cell_type": "code",
   "execution_count": 132,
   "id": "b5cbaabc-8c90-466b-9864-9b2f433144d7",
   "metadata": {},
   "outputs": [
    {
     "name": "stdout",
     "output_type": "stream",
     "text": [
      "R2 score 0.8024368384412627\n",
      "MAE 9566.210063348548\n",
      "RMSE 21049.510231627923\n"
     ]
    }
   ],
   "source": [
    "step1 = ColumnTransformer([\n",
    "    ('imputer', SimpleImputer(), ['horsepower','engine_size','cylinder_count']),\n",
    "    ('encoder', OneHotEncoder(drop='first',sparse_output=False,handle_unknown='ignore'), ['brand','fuel_type','transmission','ext_col','int_col','accident','clean_title'])\n",
    "],remainder='passthrough')\n",
    "\n",
    "step2 = StandardScaler()\n",
    "\n",
    "step3 = XGBRegressor(n_estimators=45,max_depth=5,learning_rate=0.5)\n",
    "# step3 = XGBRegressor(n_estimators=45,max_depth=5,learning_rate=0.5)\n",
    "\n",
    "pipe = Pipeline([\n",
    "    ('step1',step1),\n",
    "    ('step2',step2),\n",
    "    ('step3',step3)\n",
    "])\n",
    "\n",
    "pipe.fit(X_train,y_train)\n",
    "\n",
    "y_pred = pipe.predict(X_test)\n",
    "\n",
    "print('R2 score',r2_score(y_test,y_pred))\n",
    "print('MAE',mean_absolute_error(y_test,y_pred))\n",
    "print('RMSE',mean_squared_error(y_test,y_pred)**0.5)"
   ]
  },
  {
   "cell_type": "markdown",
   "id": "5960a04d-dd8b-4fe9-bad4-20ca7bb75017",
   "metadata": {},
   "source": [
    "## voting regressor"
   ]
  },
  {
   "cell_type": "code",
   "execution_count": 134,
   "id": "877f9517-ee34-4452-8043-d81b01f01ee3",
   "metadata": {},
   "outputs": [
    {
     "name": "stdout",
     "output_type": "stream",
     "text": [
      "R2 score 0.7480440912335946\n",
      "MAE 9986.406062452412\n",
      "RMSE 23771.209823651978\n"
     ]
    }
   ],
   "source": [
    "from sklearn.ensemble import VotingRegressor,StackingRegressor\n",
    "\n",
    "step1 = ColumnTransformer([\n",
    "    ('imputer', SimpleImputer(), ['horsepower','engine_size','cylinder_count']),\n",
    "    ('encoder', OneHotEncoder(drop='first',sparse_output=False,handle_unknown='ignore'), ['brand','fuel_type','transmission','ext_col','int_col','accident','clean_title'])\n",
    "],remainder='passthrough')\n",
    "\n",
    "rf = RandomForestRegressor(n_estimators=350,random_state=3,max_samples=0.5,max_features=0.75,max_depth=15)\n",
    "gbdt = GradientBoostingRegressor(n_estimators=100,max_features=0.5)\n",
    "xgb = XGBRegressor(n_estimators=25,learning_rate=0.3,max_depth=5)\n",
    "et = ExtraTreesRegressor(n_estimators=100,random_state=3,max_samples=0.5,max_features=0.75,max_depth=10,bootstrap=True)\n",
    "\n",
    "step2 = StandardScaler()\n",
    "\n",
    "step3 = VotingRegressor([('rf', rf), ('gbdt', gbdt), ('xgb',xgb), ('et',et)],weights=[5,1,1,1])\n",
    "\n",
    "pipe = Pipeline([\n",
    "    ('step1',step1),\n",
    "    ('step2',step2),\n",
    "    ('step3',step3)\n",
    "])\n",
    "\n",
    "pipe.fit(X_train,y_train)\n",
    "\n",
    "y_pred = pipe.predict(X_test)\n",
    "\n",
    "print('R2 score',r2_score(y_test,y_pred))\n",
    "print('MAE',mean_absolute_error(y_test,y_pred))\n",
    "print('RMSE',mean_squared_error(y_test,y_pred)**0.5)"
   ]
  },
  {
   "cell_type": "markdown",
   "id": "bde63d98-a186-4662-a34a-b6095ec901a9",
   "metadata": {},
   "source": [
    "## stacking"
   ]
  },
  {
   "cell_type": "code",
   "execution_count": 103,
   "id": "c25065ef-76d3-4488-b2c7-44c1b1ab6d1e",
   "metadata": {},
   "outputs": [
    {
     "name": "stdout",
     "output_type": "stream",
     "text": [
      "R2 score 0.771067572931609\n",
      "MAE 9898.322545103862\n",
      "RMSE 22659.100617915916\n"
     ]
    }
   ],
   "source": [
    "step1 = ColumnTransformer([\n",
    "    ('imputer', SimpleImputer(), ['horsepower','engine_size','cylinder_count']),\n",
    "    ('encoder', OneHotEncoder(drop='first',sparse_output=False,handle_unknown='ignore'), ['brand','fuel_type','transmission','ext_col','int_col','accident','clean_title'])\n",
    "],remainder='passthrough')\n",
    "\n",
    "\n",
    "estimators = [\n",
    "    ('rf', RandomForestRegressor(n_estimators=350,random_state=3,max_samples=0.5,max_features=0.75,max_depth=15)),\n",
    "    ('gbdt',GradientBoostingRegressor(n_estimators=100,max_features=0.5)),\n",
    "    ('xgb', XGBRegressor(n_estimators=25,learning_rate=0.3,max_depth=5))\n",
    "]\n",
    "\n",
    "step2 = StandardScaler()\n",
    "\n",
    "step3 = StackingRegressor(estimators=estimators, final_estimator=Ridge(alpha=100))\n",
    "\n",
    "pipe = Pipeline([\n",
    "    ('step1',step1),\n",
    "    ('step2',step2),\n",
    "    ('step3',step3)\n",
    "])\n",
    "\n",
    "pipe.fit(X_train,y_train)\n",
    "\n",
    "y_pred = pipe.predict(X_test)\n",
    "\n",
    "print('R2 score',r2_score(y_test,y_pred))\n",
    "print('MAE',mean_absolute_error(y_test,y_pred))\n",
    "print('RMSE',mean_squared_error(y_test,y_pred)**0.5)"
   ]
  },
  {
   "cell_type": "code",
   "execution_count": null,
   "id": "c14ab8c6-8f87-49d8-93c5-c65a6d7633d2",
   "metadata": {},
   "outputs": [],
   "source": []
  }
 ],
 "metadata": {
  "kernelspec": {
   "display_name": "Python 3 (ipykernel)",
   "language": "python",
   "name": "python3"
  },
  "language_info": {
   "codemirror_mode": {
    "name": "ipython",
    "version": 3
   },
   "file_extension": ".py",
   "mimetype": "text/x-python",
   "name": "python",
   "nbconvert_exporter": "python",
   "pygments_lexer": "ipython3",
   "version": "3.11.5"
  }
 },
 "nbformat": 4,
 "nbformat_minor": 5
}
