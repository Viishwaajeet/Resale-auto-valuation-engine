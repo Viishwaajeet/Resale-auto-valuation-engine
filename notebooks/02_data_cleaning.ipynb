{
 "cells": [
  {
   "cell_type": "code",
   "execution_count": 1,
   "id": "7fd7f0e9",
   "metadata": {},
   "outputs": [],
   "source": [
    "import numpy as np\n",
    "import pandas as pd\n",
    "import matplotlib.pyplot as plt\n",
    "import seaborn as sns"
   ]
  },
  {
   "cell_type": "code",
   "execution_count": 240,
   "id": "95bad4c4",
   "metadata": {},
   "outputs": [],
   "source": [
    "df = pd.read_csv(\"../data/used_cars.csv\")\n",
    "data = df"
   ]
  },
  {
   "cell_type": "code",
   "execution_count": 3,
   "id": "0bb1d4c7",
   "metadata": {},
   "outputs": [
    {
     "data": {
      "text/html": [
       "<div>\n",
       "<style scoped>\n",
       "    .dataframe tbody tr th:only-of-type {\n",
       "        vertical-align: middle;\n",
       "    }\n",
       "\n",
       "    .dataframe tbody tr th {\n",
       "        vertical-align: top;\n",
       "    }\n",
       "\n",
       "    .dataframe thead th {\n",
       "        text-align: right;\n",
       "    }\n",
       "</style>\n",
       "<table border=\"1\" class=\"dataframe\">\n",
       "  <thead>\n",
       "    <tr style=\"text-align: right;\">\n",
       "      <th></th>\n",
       "      <th>brand</th>\n",
       "      <th>model</th>\n",
       "      <th>model_year</th>\n",
       "      <th>milage</th>\n",
       "      <th>fuel_type</th>\n",
       "      <th>engine</th>\n",
       "      <th>transmission</th>\n",
       "      <th>ext_col</th>\n",
       "      <th>int_col</th>\n",
       "      <th>accident</th>\n",
       "      <th>clean_title</th>\n",
       "      <th>price</th>\n",
       "    </tr>\n",
       "  </thead>\n",
       "  <tbody>\n",
       "    <tr>\n",
       "      <th>0</th>\n",
       "      <td>Ford</td>\n",
       "      <td>Utility Police Interceptor Base</td>\n",
       "      <td>2013</td>\n",
       "      <td>51,000 mi.</td>\n",
       "      <td>E85 Flex Fuel</td>\n",
       "      <td>300.0HP 3.7L V6 Cylinder Engine Flex Fuel Capa...</td>\n",
       "      <td>6-Speed A/T</td>\n",
       "      <td>Black</td>\n",
       "      <td>Black</td>\n",
       "      <td>At least 1 accident or damage reported</td>\n",
       "      <td>Yes</td>\n",
       "      <td>$10,300</td>\n",
       "    </tr>\n",
       "    <tr>\n",
       "      <th>1</th>\n",
       "      <td>Hyundai</td>\n",
       "      <td>Palisade SEL</td>\n",
       "      <td>2021</td>\n",
       "      <td>34,742 mi.</td>\n",
       "      <td>Gasoline</td>\n",
       "      <td>3.8L V6 24V GDI DOHC</td>\n",
       "      <td>8-Speed Automatic</td>\n",
       "      <td>Moonlight Cloud</td>\n",
       "      <td>Gray</td>\n",
       "      <td>At least 1 accident or damage reported</td>\n",
       "      <td>Yes</td>\n",
       "      <td>$38,005</td>\n",
       "    </tr>\n",
       "    <tr>\n",
       "      <th>2</th>\n",
       "      <td>Lexus</td>\n",
       "      <td>RX 350 RX 350</td>\n",
       "      <td>2022</td>\n",
       "      <td>22,372 mi.</td>\n",
       "      <td>Gasoline</td>\n",
       "      <td>3.5 Liter DOHC</td>\n",
       "      <td>Automatic</td>\n",
       "      <td>Blue</td>\n",
       "      <td>Black</td>\n",
       "      <td>None reported</td>\n",
       "      <td>NaN</td>\n",
       "      <td>$54,598</td>\n",
       "    </tr>\n",
       "    <tr>\n",
       "      <th>3</th>\n",
       "      <td>INFINITI</td>\n",
       "      <td>Q50 Hybrid Sport</td>\n",
       "      <td>2015</td>\n",
       "      <td>88,900 mi.</td>\n",
       "      <td>Hybrid</td>\n",
       "      <td>354.0HP 3.5L V6 Cylinder Engine Gas/Electric H...</td>\n",
       "      <td>7-Speed A/T</td>\n",
       "      <td>Black</td>\n",
       "      <td>Black</td>\n",
       "      <td>None reported</td>\n",
       "      <td>Yes</td>\n",
       "      <td>$15,500</td>\n",
       "    </tr>\n",
       "    <tr>\n",
       "      <th>4</th>\n",
       "      <td>Audi</td>\n",
       "      <td>Q3 45 S line Premium Plus</td>\n",
       "      <td>2021</td>\n",
       "      <td>9,835 mi.</td>\n",
       "      <td>Gasoline</td>\n",
       "      <td>2.0L I4 16V GDI DOHC Turbo</td>\n",
       "      <td>8-Speed Automatic</td>\n",
       "      <td>Glacier White Metallic</td>\n",
       "      <td>Black</td>\n",
       "      <td>None reported</td>\n",
       "      <td>NaN</td>\n",
       "      <td>$34,999</td>\n",
       "    </tr>\n",
       "  </tbody>\n",
       "</table>\n",
       "</div>"
      ],
      "text/plain": [
       "      brand                            model  model_year      milage  \\\n",
       "0      Ford  Utility Police Interceptor Base        2013  51,000 mi.   \n",
       "1   Hyundai                     Palisade SEL        2021  34,742 mi.   \n",
       "2     Lexus                    RX 350 RX 350        2022  22,372 mi.   \n",
       "3  INFINITI                 Q50 Hybrid Sport        2015  88,900 mi.   \n",
       "4      Audi        Q3 45 S line Premium Plus        2021   9,835 mi.   \n",
       "\n",
       "       fuel_type                                             engine  \\\n",
       "0  E85 Flex Fuel  300.0HP 3.7L V6 Cylinder Engine Flex Fuel Capa...   \n",
       "1       Gasoline                               3.8L V6 24V GDI DOHC   \n",
       "2       Gasoline                                     3.5 Liter DOHC   \n",
       "3         Hybrid  354.0HP 3.5L V6 Cylinder Engine Gas/Electric H...   \n",
       "4       Gasoline                         2.0L I4 16V GDI DOHC Turbo   \n",
       "\n",
       "        transmission                 ext_col int_col  \\\n",
       "0        6-Speed A/T                   Black   Black   \n",
       "1  8-Speed Automatic         Moonlight Cloud    Gray   \n",
       "2          Automatic                    Blue   Black   \n",
       "3        7-Speed A/T                   Black   Black   \n",
       "4  8-Speed Automatic  Glacier White Metallic   Black   \n",
       "\n",
       "                                 accident clean_title    price  \n",
       "0  At least 1 accident or damage reported         Yes  $10,300  \n",
       "1  At least 1 accident or damage reported         Yes  $38,005  \n",
       "2                           None reported         NaN  $54,598  \n",
       "3                           None reported         Yes  $15,500  \n",
       "4                           None reported         NaN  $34,999  "
      ]
     },
     "execution_count": 3,
     "metadata": {},
     "output_type": "execute_result"
    }
   ],
   "source": [
    "df.head()"
   ]
  },
  {
   "cell_type": "code",
   "execution_count": 4,
   "id": "6953c05d",
   "metadata": {},
   "outputs": [
    {
     "name": "stdout",
     "output_type": "stream",
     "text": [
      "<class 'pandas.core.frame.DataFrame'>\n",
      "RangeIndex: 4009 entries, 0 to 4008\n",
      "Data columns (total 12 columns):\n",
      " #   Column        Non-Null Count  Dtype \n",
      "---  ------        --------------  ----- \n",
      " 0   brand         4009 non-null   object\n",
      " 1   model         4009 non-null   object\n",
      " 2   model_year    4009 non-null   int64 \n",
      " 3   milage        4009 non-null   object\n",
      " 4   fuel_type     3839 non-null   object\n",
      " 5   engine        4009 non-null   object\n",
      " 6   transmission  4009 non-null   object\n",
      " 7   ext_col       4009 non-null   object\n",
      " 8   int_col       4009 non-null   object\n",
      " 9   accident      3896 non-null   object\n",
      " 10  clean_title   3413 non-null   object\n",
      " 11  price         4009 non-null   object\n",
      "dtypes: int64(1), object(11)\n",
      "memory usage: 376.0+ KB\n"
     ]
    }
   ],
   "source": [
    "df.info()"
   ]
  },
  {
   "cell_type": "code",
   "execution_count": 5,
   "id": "fdf9128b",
   "metadata": {},
   "outputs": [
    {
     "name": "stdout",
     "output_type": "stream",
     "text": [
      "Used Car Price Prediction Dataset\n",
      "\n",
      "https://www.kaggle.com/datasets/taeefnajib/used-car-price-prediction-dataset/data\n",
      "\n",
      "About Dataset\n",
      "Used Car Price Prediction Dataset is a comprehensive collection of automotive information extracted from the popular automotive marketplace website, https://www.cars.com. This dataset comprises 4,009 data points, each representing a unique vehicle listing, and includes nine distinct features providing valuable insights into the world of automobiles.\n",
      "\n",
      "Brand & Model: Identify the brand or company name along with the specific model of each vehicle.\n",
      "Model Year: Discover the manufacturing year of the vehicles, crucial for assessing depreciation and technology advancements.\n",
      "Mileage: Obtain the mileage of each vehicle, a key indicator of wear and tear and potential maintenance requirements.\n",
      "Fuel Type: Learn about the type of fuel the vehicles run on, whether it's gasoline, diesel, electric, or hybrid.\n",
      "Engine Type: Understand the engine specifications, shedding light on performance and efficiency.\n",
      "Transmission: Determine the transmission type, whether automatic, manual, or another variant.\n",
      "Exterior & Interior Colors: Explore the aesthetic aspects of the vehicles, including exterior and interior color options.\n",
      "Accident History: Discover whether a vehicle has a prior history of accidents or damage, crucial for informed decision-making.\n",
      "Clean Title: Evaluate the availability of a clean title, which can impact the vehicle's resale value and legal status.\n",
      "Price: Access the listed prices for each vehicle, aiding in price comparison and budgeting.\n",
      "This dataset is a valuable resource for automotive enthusiasts, buyers, and researchers interested in analyzing trends, making informed purchasing decisions or conducting studies related to the automotive industry and consumer preferences. Whether you are a data analyst, car buyer, or researcher, this dataset offers a wealth of information to explore and analyze.\n"
     ]
    }
   ],
   "source": [
    "with open('../data/data_source_link_and _description.txt','r') as f:\n",
    "    print(f.read())"
   ]
  },
  {
   "cell_type": "markdown",
   "id": "fba7ef32",
   "metadata": {},
   "source": [
    "## Examining quality of the data"
   ]
  },
  {
   "cell_type": "code",
   "execution_count": 6,
   "id": "e49c795c",
   "metadata": {},
   "outputs": [
    {
     "data": {
      "text/plain": [
       "Index(['brand', 'model', 'model_year', 'milage', 'fuel_type', 'engine',\n",
       "       'transmission', 'ext_col', 'int_col', 'accident', 'clean_title',\n",
       "       'price'],\n",
       "      dtype='object')"
      ]
     },
     "execution_count": 6,
     "metadata": {},
     "output_type": "execute_result"
    }
   ],
   "source": [
    "df.columns"
   ]
  },
  {
   "cell_type": "code",
   "execution_count": 9,
   "id": "c7df11cd",
   "metadata": {},
   "outputs": [
    {
     "data": {
      "text/plain": [
       "array(['Ford', 'Hyundai', 'Lexus', 'INFINITI', 'Audi', 'Acura', 'BMW',\n",
       "       'Tesla', 'Land', 'Aston', 'Toyota', 'Lincoln', 'Jaguar',\n",
       "       'Mercedes-Benz', 'Dodge', 'Nissan', 'Genesis', 'Chevrolet', 'Kia',\n",
       "       'Jeep', 'Bentley', 'Honda', 'Lucid', 'MINI', 'Porsche', 'Hummer',\n",
       "       'Chrysler', 'Volvo', 'Cadillac', 'Lamborghini', 'Maserati',\n",
       "       'Volkswagen', 'Subaru', 'Rivian', 'GMC', 'RAM', 'Alfa', 'Ferrari',\n",
       "       'Scion', 'Mitsubishi', 'Mazda', 'Saturn', 'Bugatti', 'Polestar',\n",
       "       'Rolls-Royce', 'McLaren', 'Buick', 'Lotus', 'Pontiac', 'FIAT',\n",
       "       'Karma', 'Saab', 'Mercury', 'Plymouth', 'smart', 'Maybach',\n",
       "       'Suzuki'], dtype=object)"
      ]
     },
     "execution_count": 9,
     "metadata": {},
     "output_type": "execute_result"
    }
   ],
   "source": [
    "df['brand'].unique()"
   ]
  },
  {
   "cell_type": "code",
   "execution_count": 13,
   "id": "2b4c0be2",
   "metadata": {},
   "outputs": [
    {
     "data": {
      "text/plain": [
       "1898"
      ]
     },
     "execution_count": 13,
     "metadata": {},
     "output_type": "execute_result"
    }
   ],
   "source": [
    "len(df['model'].unique())"
   ]
  },
  {
   "cell_type": "code",
   "execution_count": 23,
   "id": "b5dbb083",
   "metadata": {},
   "outputs": [
    {
     "data": {
      "text/plain": [
       "array(['Utility Police Interceptor Base', 'Palisade SEL', 'RX 350 RX 350',\n",
       "       'Q50 Hybrid Sport', 'Q3 45 S line Premium Plus', 'ILX 2.4L',\n",
       "       'S3 2.0T Premium Plus', '740 iL', 'RC 350 F Sport',\n",
       "       'Model X Long Range Plus',\n",
       "       'Rover Range Rover Sport 3.0 Supercharged HST',\n",
       "       'Martin DBS Superleggera', 'Supra 3.0 Premium',\n",
       "       'Aviator Reserve AWD', 'F-TYPE', 'Rover LR4 HSE', 'Metris Base',\n",
       "       'Challenger SXT', '350Z Enthusiast', 'F-TYPE R', 'GV70 3.5T Sport',\n",
       "       'S-10 LS', '440 Gran Coupe 440i xDrive', 'F-150 XLT',\n",
       "       'Suburban RST', 'Elantra N Base', 'Sentra SR',\n",
       "       'AMG CLA 45 Base 4MATIC', '650 Gran Coupe i xDrive',\n",
       "       'Q5 2.0T Premium Plus', 'AMG C 43 Base 4MATIC',\n",
       "       'Ram 1500 Laramie Mega Cab', 'i3 120Ah w/Range Extender',\n",
       "       'Sorento SX', 'LX 570 Base', 'New Compass Trailhawk', '340 i',\n",
       "       'A4 2.0T Premium Plus quattro', 'Tucson SE', 'Z4 sDrive28i',\n",
       "       'Continental GTC Base', 'Passport Elite', 'Sprinter 2500',\n",
       "       'M850 i xDrive', 'Air Grand Touring', 'A7 Premium',\n",
       "       'Silverado 1500 Custom Trail Boss',\n",
       "       'Convertible John Cooper Works', 'Avalon Touring',\n",
       "       'Cayenne Platinum Edition'], dtype=object)"
      ]
     },
     "execution_count": 23,
     "metadata": {},
     "output_type": "execute_result"
    }
   ],
   "source": [
    "df['model'].unique()[:50]"
   ]
  },
  {
   "cell_type": "code",
   "execution_count": 17,
   "id": "1971279b",
   "metadata": {},
   "outputs": [
    {
     "data": {
      "text/plain": [
       "array([2013, 2021, 2022, 2015, 2016, 2017, 2001, 2020, 2019, 2003, 2018,\n",
       "       2023, 2000, 2006, 2011, 2012, 2007, 2014, 2005, 2009, 2010, 2004,\n",
       "       2008, 1997, 1999, 1993, 2002, 1998, 2024, 1996, 1974, 1992, 1995,\n",
       "       1994], dtype=int64)"
      ]
     },
     "execution_count": 17,
     "metadata": {},
     "output_type": "execute_result"
    }
   ],
   "source": [
    "df['model_year'].unique()"
   ]
  },
  {
   "cell_type": "code",
   "execution_count": 22,
   "id": "ca77e11d",
   "metadata": {},
   "outputs": [
    {
     "data": {
      "text/plain": [
       "array(['51,000 mi.', '34,742 mi.', '22,372 mi.', '88,900 mi.',\n",
       "       '9,835 mi.', '136,397 mi.', '84,000 mi.', '242,000 mi.',\n",
       "       '23,436 mi.', '34,000 mi.', '27,608 mi.', '22,770 mi.',\n",
       "       '12,500 mi.', '18,196 mi.', '15,903 mi.', '79,800 mi.',\n",
       "       '1,685 mi.', '61,074 mi.', '74,000 mi.', '35,250 mi.', '5,400 mi.',\n",
       "       '133,510 mi.', '25,990 mi.', '2,823 mi.', '52,000 mi.',\n",
       "       '11,650 mi.', '96,541 mi.', '17,500 mi.', '69,000 mi.',\n",
       "       '81,880 mi.', '28,800 mi.', '300,183 mi.', '35,035 mi.',\n",
       "       '171,000 mi.', '118,700 mi.', '119,000 mi.', '44,261 mi.',\n",
       "       '125,575 mi.', '16,200 mi.', '70,000 mi.', '20,200 mi.',\n",
       "       '2,978 mi.', '189,719 mi.', '9,949 mi.', '3,552 mi.', '54,000 mi.',\n",
       "       '51,351 mi.', '24,280 mi.', '89,148 mi.', '73,043 mi.'],\n",
       "      dtype=object)"
      ]
     },
     "execution_count": 22,
     "metadata": {},
     "output_type": "execute_result"
    }
   ],
   "source": [
    "df['milage'].unique()[:50]"
   ]
  },
  {
   "cell_type": "code",
   "execution_count": 24,
   "id": "501b3ebc",
   "metadata": {},
   "outputs": [
    {
     "data": {
      "text/plain": [
       "array(['E85 Flex Fuel', 'Gasoline', 'Hybrid', nan, 'Diesel',\n",
       "       'Plug-In Hybrid', '–', 'not supported'], dtype=object)"
      ]
     },
     "execution_count": 24,
     "metadata": {},
     "output_type": "execute_result"
    }
   ],
   "source": [
    "df['fuel_type'].unique()"
   ]
  },
  {
   "cell_type": "code",
   "execution_count": 26,
   "id": "0426a76d",
   "metadata": {},
   "outputs": [
    {
     "data": {
      "text/plain": [
       "1146"
      ]
     },
     "execution_count": 26,
     "metadata": {},
     "output_type": "execute_result"
    }
   ],
   "source": [
    "len(df['engine'].unique())"
   ]
  },
  {
   "cell_type": "code",
   "execution_count": 28,
   "id": "b7b4ee9b",
   "metadata": {},
   "outputs": [
    {
     "data": {
      "text/plain": [
       "array(['300.0HP 3.7L V6 Cylinder Engine Flex Fuel Capability',\n",
       "       '3.8L V6 24V GDI DOHC', '3.5 Liter DOHC',\n",
       "       '354.0HP 3.5L V6 Cylinder Engine Gas/Electric Hybrid',\n",
       "       '2.0L I4 16V GDI DOHC Turbo', '2.4 Liter',\n",
       "       '292.0HP 2.0L 4 Cylinder Engine Gasoline Fuel',\n",
       "       '282.0HP 4.4L 8 Cylinder Engine Gasoline Fuel',\n",
       "       '311.0HP 3.5L V6 Cylinder Engine Gasoline Fuel',\n",
       "       '534.0HP Electric Motor Electric Fuel System', 'V6',\n",
       "       '715.0HP 5.2L 12 Cylinder Engine Gasoline Fuel',\n",
       "       '382.0HP 3.0L Straight 6 Cylinder Engine Gasoline Fuel',\n",
       "       '400.0HP 3.0L V6 Cylinder Engine Gasoline Fuel',\n",
       "       '2.0 Liter Supercharged',\n",
       "       '375.0HP 5.0L 8 Cylinder Engine Gasoline Fuel',\n",
       "       '305.0HP 3.6L V6 Cylinder Engine Gasoline Fuel',\n",
       "       '287.0HP 3.5L V6 Cylinder Engine Gasoline Fuel',\n",
       "       '550.0HP 5.0L 8 Cylinder Engine Gasoline Fuel',\n",
       "       '375.0HP 3.5L V6 Cylinder Engine Gasoline Fuel'], dtype=object)"
      ]
     },
     "execution_count": 28,
     "metadata": {},
     "output_type": "execute_result"
    }
   ],
   "source": [
    "df['engine'].unique()[:20]"
   ]
  },
  {
   "cell_type": "code",
   "execution_count": 36,
   "id": "a56051c1",
   "metadata": {},
   "outputs": [
    {
     "data": {
      "text/plain": [
       "array(['6-Speed A/T', '8-Speed Automatic', 'Automatic', '7-Speed A/T',\n",
       "       'F', 'A/T', '8-Speed A/T', 'Transmission w/Dual Shift Mode',\n",
       "       '9-Speed Automatic', '6-Speed M/T', '10-Speed A/T', '9-Speed A/T',\n",
       "       '5-Speed A/T', '1-Speed A/T', 'Automatic CVT',\n",
       "       '7-Speed Automatic with Auto-Shift', 'CVT-F', 'M/T',\n",
       "       '6-Speed Automatic with Auto-Shift', '10-Speed Automatic',\n",
       "       'CVT Transmission', '4-Speed A/T', '6-Speed Automatic',\n",
       "       '4-Speed Automatic', '7-Speed M/T',\n",
       "       '8-Speed Automatic with Auto-Shift', '5-Speed Automatic',\n",
       "       '8-SPEED AT', '1-Speed Automatic', '5-Speed M/T', 'Manual',\n",
       "       '6-Speed Manual', 'Variable', '2', '7-Speed Manual',\n",
       "       'Automatic, 9-Spd 9G-Tronic', 'Automatic, 8-Spd',\n",
       "       'Automatic, 8-Spd Sport w/Sport & Manual Modes', '–',\n",
       "       'Auto, 6-Spd w/CmdShft', 'Transmission Overdrive Switch',\n",
       "       '7-Speed Automatic', 'Automatic, 8-Spd PDK Dual-Clutch',\n",
       "       'Automatic, 8-Spd M STEPTRONIC w/Drivelogic, Sport & Manual Modes',\n",
       "       'Automatic, 8-Spd Dual-Clutch', '6-Speed',\n",
       "       'Single-Speed Fixed Gear', 'Automatic, 10-Spd',\n",
       "       '2-Speed Automatic', '7-Speed',\n",
       "       'Automatic, 7-Spd S tronic Dual-Clutch', 'Manual, 6-Spd',\n",
       "       '6-Speed Electronically Controlled Automatic with O',\n",
       "       '6 Speed At/Mt', '8-SPEED A/T',\n",
       "       '10-Speed Automatic with Overdrive', '7-Speed DCT Automatic',\n",
       "       '9-Speed Automatic with Auto-Shift',\n",
       "       'SCHEDULED FOR OR IN PRODUCTION', '2-Speed A/T', '6 Speed Mt',\n",
       "       '8-Speed Manual'], dtype=object)"
      ]
     },
     "execution_count": 36,
     "metadata": {},
     "output_type": "execute_result"
    }
   ],
   "source": [
    "df['transmission'].unique()"
   ]
  },
  {
   "cell_type": "code",
   "execution_count": 38,
   "id": "2436523b",
   "metadata": {},
   "outputs": [
    {
     "data": {
      "text/plain": [
       "319"
      ]
     },
     "execution_count": 38,
     "metadata": {},
     "output_type": "execute_result"
    }
   ],
   "source": [
    "len(df['ext_col'].unique())"
   ]
  },
  {
   "cell_type": "code",
   "execution_count": 39,
   "id": "53178117",
   "metadata": {},
   "outputs": [
    {
     "data": {
      "text/plain": [
       "156"
      ]
     },
     "execution_count": 39,
     "metadata": {},
     "output_type": "execute_result"
    }
   ],
   "source": [
    "len(df['int_col'].unique())"
   ]
  },
  {
   "cell_type": "code",
   "execution_count": 42,
   "id": "c16905f0",
   "metadata": {},
   "outputs": [
    {
     "data": {
      "text/plain": [
       "array(['At least 1 accident or damage reported', 'None reported', nan],\n",
       "      dtype=object)"
      ]
     },
     "execution_count": 42,
     "metadata": {},
     "output_type": "execute_result"
    }
   ],
   "source": [
    "df['accident'].unique()"
   ]
  },
  {
   "cell_type": "code",
   "execution_count": 43,
   "id": "80ac48b4",
   "metadata": {},
   "outputs": [
    {
     "data": {
      "text/plain": [
       "array(['Yes', nan], dtype=object)"
      ]
     },
     "execution_count": 43,
     "metadata": {},
     "output_type": "execute_result"
    }
   ],
   "source": [
    "df['clean_title'].unique()"
   ]
  },
  {
   "cell_type": "code",
   "execution_count": 45,
   "id": "9adb186b",
   "metadata": {},
   "outputs": [
    {
     "data": {
      "text/plain": [
       "array(['$10,300', '$38,005', '$54,598', '$15,500', '$34,999', '$14,798',\n",
       "       '$31,000', '$7,300', '$41,927', '$69,950', '$73,897', '$184,606',\n",
       "       '$53,500', '$62,000', '$47,998', '$29,990', '$250,000', '$16,800',\n",
       "       '$11,000', '$68,750', '$60,000', '$4,500', '$38,598', '$58,504',\n",
       "       '$61,000', '$32,300', '$13,998', '$59,995', '$25,700', '$21,375',\n",
       "       '$48,000', '$10,900', '$24,998', '$5,999', '$46,900', '$15,900',\n",
       "       '$33,598', '$8,999', '$8,200', '$20,000', '$79,950', '$45,498',\n",
       "       '$14,000', '$75,798', '$119,999', '$36,880', '$43,147', '$29,000',\n",
       "       '$17,500', '$30,990'], dtype=object)"
      ]
     },
     "execution_count": 45,
     "metadata": {},
     "output_type": "execute_result"
    }
   ],
   "source": [
    "df['price'].unique()[:50]"
   ]
  },
  {
   "cell_type": "markdown",
   "id": "f840030d",
   "metadata": {},
   "source": [
    "**_Quality_**\n",
    "* inconsistent model values\n",
    "* milage has ',' and ' mi.' included ✔️\n",
    "* milage has object as datatype need to convert to int ✔️\n",
    "* fuel_type contains 'nan', '-', 'not supported' values ✔️\n",
    "* could engineer multiple features from engine feature ✔️ ('engine_size', 'horsepower', 'cylinder_count')\n",
    "* convert transmission feature into categorical feature (automatic, manual, unknown) ✔️\n",
    "* transform ext_col into fewer categories (like blue, red, black, white, etc.) ✔️\n",
    "* transform int_col into fewer categories ✔️\n",
    "* price column has ',' and '$' included ✔️\n",
    "* price column should numeric ✔️\n",
    "* missing values: fuel_type, accident, clean_title"
   ]
  },
  {
   "cell_type": "markdown",
   "id": "f909b114",
   "metadata": {},
   "source": [
    "## Data Cleaning"
   ]
  },
  {
   "cell_type": "code",
   "execution_count": 241,
   "id": "0cae4f50",
   "metadata": {
    "scrolled": true
   },
   "outputs": [
    {
     "data": {
      "text/plain": [
       "'51,000 mi.'"
      ]
     },
     "execution_count": 241,
     "metadata": {},
     "output_type": "execute_result"
    }
   ],
   "source": [
    "df['milage'][0]"
   ]
  },
  {
   "cell_type": "code",
   "execution_count": 242,
   "id": "e4c5bc05",
   "metadata": {},
   "outputs": [],
   "source": [
    "#feature - milage\n",
    "\n",
    "def clean_milage(milage):\n",
    "    cleaned_milage = milage[:-4].split(',')\n",
    "    cleaned_milage = int(\"\".join(cleaned_milage))\n",
    "    return cleaned_milage"
   ]
  },
  {
   "cell_type": "code",
   "execution_count": 243,
   "id": "0e1693b1",
   "metadata": {},
   "outputs": [],
   "source": [
    "df['milage'] = df['milage'].apply(clean_milage)"
   ]
  },
  {
   "cell_type": "code",
   "execution_count": 244,
   "id": "75063895",
   "metadata": {
    "scrolled": true
   },
   "outputs": [
    {
     "data": {
      "text/html": [
       "<div>\n",
       "<style scoped>\n",
       "    .dataframe tbody tr th:only-of-type {\n",
       "        vertical-align: middle;\n",
       "    }\n",
       "\n",
       "    .dataframe tbody tr th {\n",
       "        vertical-align: top;\n",
       "    }\n",
       "\n",
       "    .dataframe thead th {\n",
       "        text-align: right;\n",
       "    }\n",
       "</style>\n",
       "<table border=\"1\" class=\"dataframe\">\n",
       "  <thead>\n",
       "    <tr style=\"text-align: right;\">\n",
       "      <th></th>\n",
       "      <th>brand</th>\n",
       "      <th>model</th>\n",
       "      <th>model_year</th>\n",
       "      <th>milage</th>\n",
       "      <th>fuel_type</th>\n",
       "      <th>engine</th>\n",
       "      <th>transmission</th>\n",
       "      <th>ext_col</th>\n",
       "      <th>int_col</th>\n",
       "      <th>accident</th>\n",
       "      <th>clean_title</th>\n",
       "      <th>price</th>\n",
       "    </tr>\n",
       "  </thead>\n",
       "  <tbody>\n",
       "    <tr>\n",
       "      <th>0</th>\n",
       "      <td>Ford</td>\n",
       "      <td>Utility Police Interceptor Base</td>\n",
       "      <td>2013</td>\n",
       "      <td>51000</td>\n",
       "      <td>E85 Flex Fuel</td>\n",
       "      <td>300.0HP 3.7L V6 Cylinder Engine Flex Fuel Capa...</td>\n",
       "      <td>6-Speed A/T</td>\n",
       "      <td>Black</td>\n",
       "      <td>Black</td>\n",
       "      <td>At least 1 accident or damage reported</td>\n",
       "      <td>Yes</td>\n",
       "      <td>$10,300</td>\n",
       "    </tr>\n",
       "  </tbody>\n",
       "</table>\n",
       "</div>"
      ],
      "text/plain": [
       "  brand                            model  model_year  milage      fuel_type  \\\n",
       "0  Ford  Utility Police Interceptor Base        2013   51000  E85 Flex Fuel   \n",
       "\n",
       "                                              engine transmission ext_col  \\\n",
       "0  300.0HP 3.7L V6 Cylinder Engine Flex Fuel Capa...  6-Speed A/T   Black   \n",
       "\n",
       "  int_col                                accident clean_title    price  \n",
       "0   Black  At least 1 accident or damage reported         Yes  $10,300  "
      ]
     },
     "execution_count": 244,
     "metadata": {},
     "output_type": "execute_result"
    }
   ],
   "source": [
    "df.head(1)"
   ]
  },
  {
   "cell_type": "code",
   "execution_count": 245,
   "id": "73a3357f",
   "metadata": {},
   "outputs": [
    {
     "data": {
      "text/plain": [
       "<Axes: xlabel='milage', ylabel='Count'>"
      ]
     },
     "execution_count": 245,
     "metadata": {},
     "output_type": "execute_result"
    },
    {
     "data": {
      "image/png": "[encoded data removed]",
      "text/plain": [
       "<Figure size 640x480 with 1 Axes>"
      ]
     },
     "metadata": {},
     "output_type": "display_data"
    }
   ],
   "source": [
    "sns.histplot(x='milage',data=df, bins=50, kde=True)"
   ]
  },
  {
   "cell_type": "code",
   "execution_count": 246,
   "id": "9f5e2eed",
   "metadata": {},
   "outputs": [],
   "source": [
    "#feature - fuel_type\n",
    "\n",
    "def clean_fuel_type(fuel_type):\n",
    "    if fuel_type=='Plug-In Hybrid':\n",
    "        fuel_type = \"Hybrid\"\n",
    "    elif fuel_type in ['–', 'not supported', np.nan]:\n",
    "        fuel_type = \"Unknown\"\n",
    "        \n",
    "    return fuel_type"
   ]
  },
  {
   "cell_type": "code",
   "execution_count": 247,
   "id": "2b4565f7",
   "metadata": {},
   "outputs": [],
   "source": [
    "df['fuel_type'] = df['fuel_type'].apply(clean_fuel_type)"
   ]
  },
  {
   "cell_type": "code",
   "execution_count": 248,
   "id": "da57bd6a",
   "metadata": {},
   "outputs": [],
   "source": [
    "#feature - transmission\n",
    "\n",
    "automatic = [\"a/t\",\"cvt\",'dual-clutch','auto-shift','automatic']\n",
    "manual = ['m/t','manual']\n",
    "def clean_transmission(transmission):\n",
    "    if any(x in transmission.lower() for x in automatic):\n",
    "        transmission = \"Automatic\"\n",
    "    elif any(x in transmission.lower() for x in manual):\n",
    "        transmission = \"Manual\"\n",
    "    else:\n",
    "        transmission = \"Unknown\"\n",
    "        \n",
    "    return transmission"
   ]
  },
  {
   "cell_type": "code",
   "execution_count": 249,
   "id": "c4efba9d",
   "metadata": {
    "scrolled": true
   },
   "outputs": [],
   "source": [
    "df['transmission'] = df['transmission'].apply(clean_transmission)"
   ]
  },
  {
   "cell_type": "code",
   "execution_count": 250,
   "id": "3db0fc97",
   "metadata": {},
   "outputs": [
    {
     "data": {
      "text/plain": [
       "array(['Black', None, 'Blue', 'Silver', 'Green', 'Yellow', 'White',\n",
       "       'Gray', 'Purple', 'Red', 'Gold', '–', 'Orange', 'Beige', 'Verde',\n",
       "       'Blu', 'BLACK', 'Brown', 'Glacier', 'Maroon', 'Ice', 'Onyx',\n",
       "       'Chalk', 'BLUE', 'Metallic', 'Tan', 'Pink', 'Yulong', 'Tempest',\n",
       "       'Caviar', 'Blueprint', 'Granite', 'Obsidian', 'Rosso'],\n",
       "      dtype=object)"
      ]
     },
     "execution_count": 250,
     "metadata": {},
     "output_type": "execute_result"
    }
   ],
   "source": [
    "#feature - ext_col\n",
    "\n",
    "df['ext_col'].apply(lambda x: x if \" \" not in x else None).unique()"
   ]
  },
  {
   "cell_type": "code",
   "execution_count": 251,
   "id": "5da782fa",
   "metadata": {},
   "outputs": [],
   "source": [
    "colors = ['black','blue','red','white','silver','green','gray','yellow','purple','gold','orange','brown','pink', 'grey']  \n",
    "#most common colors are listed first\n",
    "def clean_color(color):\n",
    "    for c in colors:\n",
    "        if c in color.lower():\n",
    "            cleaned_color = c.capitalize()\n",
    "            break\n",
    "        else:\n",
    "            cleaned_color = \"Other\"\n",
    "            \n",
    "    if cleaned_color=='Gray':\n",
    "        return \"Grey\"\n",
    "    \n",
    "    return cleaned_color"
   ]
  },
  {
   "cell_type": "code",
   "execution_count": 252,
   "id": "175e7bc7",
   "metadata": {},
   "outputs": [],
   "source": [
    "df['ext_col'] = df['ext_col'].apply(clean_color)"
   ]
  },
  {
   "cell_type": "code",
   "execution_count": 253,
   "id": "a5c04ebd",
   "metadata": {},
   "outputs": [],
   "source": [
    "df['int_col'] = df['int_col'].apply(clean_color)"
   ]
  },
  {
   "cell_type": "code",
   "execution_count": 254,
   "id": "d6448d64",
   "metadata": {},
   "outputs": [
    {
     "data": {
      "text/html": [
       "<div>\n",
       "<style scoped>\n",
       "    .dataframe tbody tr th:only-of-type {\n",
       "        vertical-align: middle;\n",
       "    }\n",
       "\n",
       "    .dataframe tbody tr th {\n",
       "        vertical-align: top;\n",
       "    }\n",
       "\n",
       "    .dataframe thead th {\n",
       "        text-align: right;\n",
       "    }\n",
       "</style>\n",
       "<table border=\"1\" class=\"dataframe\">\n",
       "  <thead>\n",
       "    <tr style=\"text-align: right;\">\n",
       "      <th></th>\n",
       "      <th>brand</th>\n",
       "      <th>model</th>\n",
       "      <th>model_year</th>\n",
       "      <th>milage</th>\n",
       "      <th>fuel_type</th>\n",
       "      <th>engine</th>\n",
       "      <th>transmission</th>\n",
       "      <th>ext_col</th>\n",
       "      <th>int_col</th>\n",
       "      <th>accident</th>\n",
       "      <th>clean_title</th>\n",
       "      <th>price</th>\n",
       "    </tr>\n",
       "  </thead>\n",
       "  <tbody>\n",
       "    <tr>\n",
       "      <th>0</th>\n",
       "      <td>Ford</td>\n",
       "      <td>Utility Police Interceptor Base</td>\n",
       "      <td>2013</td>\n",
       "      <td>51000</td>\n",
       "      <td>E85 Flex Fuel</td>\n",
       "      <td>300.0HP 3.7L V6 Cylinder Engine Flex Fuel Capa...</td>\n",
       "      <td>Automatic</td>\n",
       "      <td>Black</td>\n",
       "      <td>Black</td>\n",
       "      <td>At least 1 accident or damage reported</td>\n",
       "      <td>Yes</td>\n",
       "      <td>$10,300</td>\n",
       "    </tr>\n",
       "    <tr>\n",
       "      <th>1</th>\n",
       "      <td>Hyundai</td>\n",
       "      <td>Palisade SEL</td>\n",
       "      <td>2021</td>\n",
       "      <td>34742</td>\n",
       "      <td>Gasoline</td>\n",
       "      <td>3.8L V6 24V GDI DOHC</td>\n",
       "      <td>Automatic</td>\n",
       "      <td>Other</td>\n",
       "      <td>Grey</td>\n",
       "      <td>At least 1 accident or damage reported</td>\n",
       "      <td>Yes</td>\n",
       "      <td>$38,005</td>\n",
       "    </tr>\n",
       "  </tbody>\n",
       "</table>\n",
       "</div>"
      ],
      "text/plain": [
       "     brand                            model  model_year  milage  \\\n",
       "0     Ford  Utility Police Interceptor Base        2013   51000   \n",
       "1  Hyundai                     Palisade SEL        2021   34742   \n",
       "\n",
       "       fuel_type                                             engine  \\\n",
       "0  E85 Flex Fuel  300.0HP 3.7L V6 Cylinder Engine Flex Fuel Capa...   \n",
       "1       Gasoline                               3.8L V6 24V GDI DOHC   \n",
       "\n",
       "  transmission ext_col int_col                                accident  \\\n",
       "0    Automatic   Black   Black  At least 1 accident or damage reported   \n",
       "1    Automatic   Other    Grey  At least 1 accident or damage reported   \n",
       "\n",
       "  clean_title    price  \n",
       "0         Yes  $10,300  \n",
       "1         Yes  $38,005  "
      ]
     },
     "execution_count": 254,
     "metadata": {},
     "output_type": "execute_result"
    }
   ],
   "source": [
    "df.head(2)"
   ]
  },
  {
   "cell_type": "code",
   "execution_count": 255,
   "id": "788f65f1",
   "metadata": {},
   "outputs": [
    {
     "data": {
      "image/png": "[encoded data removed]",
      "text/plain": [
       "<Figure size 3000x1200 with 2 Axes>"
      ]
     },
     "metadata": {},
     "output_type": "display_data"
    }
   ],
   "source": [
    "fig, axes = plt.subplots(ncols=2,figsize=(10,4),dpi=300)\n",
    "sns.countplot(y='ext_col',data=df, ax=axes[0])\n",
    "sns.countplot(y='int_col',data=df, ax=axes[1])\n",
    "plt.tight_layout()"
   ]
  },
  {
   "cell_type": "code",
   "execution_count": 256,
   "id": "1e205ea1",
   "metadata": {},
   "outputs": [
    {
     "data": {
      "text/plain": [
       "array(['At least 1 accident or damage reported', 'None reported', nan],\n",
       "      dtype=object)"
      ]
     },
     "execution_count": 256,
     "metadata": {},
     "output_type": "execute_result"
    }
   ],
   "source": [
    "df['accident'].unique()"
   ]
  },
  {
   "cell_type": "code",
   "execution_count": 257,
   "id": "b6c2884b",
   "metadata": {},
   "outputs": [
    {
     "data": {
      "text/plain": [
       "array(['Yes', nan], dtype=object)"
      ]
     },
     "execution_count": 257,
     "metadata": {},
     "output_type": "execute_result"
    }
   ],
   "source": [
    "df['clean_title'].unique()"
   ]
  },
  {
   "cell_type": "code",
   "execution_count": 258,
   "id": "f54e87fa",
   "metadata": {},
   "outputs": [],
   "source": [
    "#feature - price\n",
    "\n",
    "def clean_price(amt):\n",
    "    cleaned_price = amt[1:].split(',')\n",
    "    cleaned_price = int(\"\".join(cleaned_price))\n",
    "    \n",
    "    return cleaned_price"
   ]
  },
  {
   "cell_type": "code",
   "execution_count": 259,
   "id": "883b0769",
   "metadata": {},
   "outputs": [],
   "source": [
    "df['price'] = df['price'].apply(clean_price)"
   ]
  },
  {
   "cell_type": "code",
   "execution_count": 260,
   "id": "a90637d1",
   "metadata": {},
   "outputs": [
    {
     "data": {
      "text/html": [
       "<div>\n",
       "<style scoped>\n",
       "    .dataframe tbody tr th:only-of-type {\n",
       "        vertical-align: middle;\n",
       "    }\n",
       "\n",
       "    .dataframe tbody tr th {\n",
       "        vertical-align: top;\n",
       "    }\n",
       "\n",
       "    .dataframe thead th {\n",
       "        text-align: right;\n",
       "    }\n",
       "</style>\n",
       "<table border=\"1\" class=\"dataframe\">\n",
       "  <thead>\n",
       "    <tr style=\"text-align: right;\">\n",
       "      <th></th>\n",
       "      <th>brand</th>\n",
       "      <th>model</th>\n",
       "      <th>model_year</th>\n",
       "      <th>milage</th>\n",
       "      <th>fuel_type</th>\n",
       "      <th>engine</th>\n",
       "      <th>transmission</th>\n",
       "      <th>ext_col</th>\n",
       "      <th>int_col</th>\n",
       "      <th>accident</th>\n",
       "      <th>clean_title</th>\n",
       "      <th>price</th>\n",
       "    </tr>\n",
       "  </thead>\n",
       "  <tbody>\n",
       "    <tr>\n",
       "      <th>0</th>\n",
       "      <td>Ford</td>\n",
       "      <td>Utility Police Interceptor Base</td>\n",
       "      <td>2013</td>\n",
       "      <td>51000</td>\n",
       "      <td>E85 Flex Fuel</td>\n",
       "      <td>300.0HP 3.7L V6 Cylinder Engine Flex Fuel Capa...</td>\n",
       "      <td>Automatic</td>\n",
       "      <td>Black</td>\n",
       "      <td>Black</td>\n",
       "      <td>At least 1 accident or damage reported</td>\n",
       "      <td>Yes</td>\n",
       "      <td>10300</td>\n",
       "    </tr>\n",
       "    <tr>\n",
       "      <th>1</th>\n",
       "      <td>Hyundai</td>\n",
       "      <td>Palisade SEL</td>\n",
       "      <td>2021</td>\n",
       "      <td>34742</td>\n",
       "      <td>Gasoline</td>\n",
       "      <td>3.8L V6 24V GDI DOHC</td>\n",
       "      <td>Automatic</td>\n",
       "      <td>Other</td>\n",
       "      <td>Grey</td>\n",
       "      <td>At least 1 accident or damage reported</td>\n",
       "      <td>Yes</td>\n",
       "      <td>38005</td>\n",
       "    </tr>\n",
       "  </tbody>\n",
       "</table>\n",
       "</div>"
      ],
      "text/plain": [
       "     brand                            model  model_year  milage  \\\n",
       "0     Ford  Utility Police Interceptor Base        2013   51000   \n",
       "1  Hyundai                     Palisade SEL        2021   34742   \n",
       "\n",
       "       fuel_type                                             engine  \\\n",
       "0  E85 Flex Fuel  300.0HP 3.7L V6 Cylinder Engine Flex Fuel Capa...   \n",
       "1       Gasoline                               3.8L V6 24V GDI DOHC   \n",
       "\n",
       "  transmission ext_col int_col                                accident  \\\n",
       "0    Automatic   Black   Black  At least 1 accident or damage reported   \n",
       "1    Automatic   Other    Grey  At least 1 accident or damage reported   \n",
       "\n",
       "  clean_title  price  \n",
       "0         Yes  10300  \n",
       "1         Yes  38005  "
      ]
     },
     "execution_count": 260,
     "metadata": {},
     "output_type": "execute_result"
    }
   ],
   "source": [
    "df.head(2)"
   ]
  },
  {
   "cell_type": "code",
   "execution_count": 261,
   "id": "43ad5332",
   "metadata": {
    "scrolled": false
   },
   "outputs": [
    {
     "data": {
      "text/plain": [
       "<Axes: xlabel='price', ylabel='Count'>"
      ]
     },
     "execution_count": 261,
     "metadata": {},
     "output_type": "execute_result"
    },
    {
     "data": {
      "image/png": "[encoded data removed]",
      "text/plain": [
       "<Figure size 640x480 with 1 Axes>"
      ]
     },
     "metadata": {},
     "output_type": "display_data"
    }
   ],
   "source": [
    "sns.histplot(x='price',data=df, bins=50)"
   ]
  },
  {
   "cell_type": "markdown",
   "id": "6912f639",
   "metadata": {},
   "source": [
    "## Feature Engineering"
   ]
  },
  {
   "cell_type": "code",
   "execution_count": 309,
   "id": "a9841f6e",
   "metadata": {
    "scrolled": true
   },
   "outputs": [
    {
     "data": {
      "text/plain": [
       "array(['300.0HP 3.7L V6 Cylinder Engine Flex Fuel Capability',\n",
       "       '3.8L V6 24V GDI DOHC', '3.5 Liter DOHC',\n",
       "       '354.0HP 3.5L V6 Cylinder Engine Gas/Electric Hybrid',\n",
       "       '2.0L I4 16V GDI DOHC Turbo', '2.4 Liter',\n",
       "       '292.0HP 2.0L 4 Cylinder Engine Gasoline Fuel',\n",
       "       '282.0HP 4.4L 8 Cylinder Engine Gasoline Fuel',\n",
       "       '311.0HP 3.5L V6 Cylinder Engine Gasoline Fuel',\n",
       "       '534.0HP Electric Motor Electric Fuel System'], dtype=object)"
      ]
     },
     "execution_count": 309,
     "metadata": {},
     "output_type": "execute_result"
    }
   ],
   "source": [
    "#feature - engine\n",
    "\n",
    "df['engine'].unique()[:10]"
   ]
  },
  {
   "cell_type": "code",
   "execution_count": 314,
   "id": "520fb6b7",
   "metadata": {},
   "outputs": [],
   "source": [
    "# creating new feature - \"engine_size\"\n",
    "\n",
    "def extract_engine_size(engine_description):\n",
    "    \n",
    "    words = engine_description.split()\n",
    "    \n",
    "    for i in words:\n",
    "        if i[-1]==\"L\":\n",
    "            engine_size = float(i[:-1])\n",
    "            break\n",
    "        else:\n",
    "            engine_size = np.nan\n",
    "            \n",
    "    return engine_size"
   ]
  },
  {
   "cell_type": "code",
   "execution_count": 307,
   "id": "f0c68a10",
   "metadata": {},
   "outputs": [],
   "source": [
    "df['engine_size'] = df['engine'].apply(extract_engine_size)"
   ]
  },
  {
   "cell_type": "code",
   "execution_count": 308,
   "id": "1eae03d6",
   "metadata": {
    "scrolled": true
   },
   "outputs": [
    {
     "data": {
      "text/html": [
       "<div>\n",
       "<style scoped>\n",
       "    .dataframe tbody tr th:only-of-type {\n",
       "        vertical-align: middle;\n",
       "    }\n",
       "\n",
       "    .dataframe tbody tr th {\n",
       "        vertical-align: top;\n",
       "    }\n",
       "\n",
       "    .dataframe thead th {\n",
       "        text-align: right;\n",
       "    }\n",
       "</style>\n",
       "<table border=\"1\" class=\"dataframe\">\n",
       "  <thead>\n",
       "    <tr style=\"text-align: right;\">\n",
       "      <th></th>\n",
       "      <th>brand</th>\n",
       "      <th>model</th>\n",
       "      <th>model_year</th>\n",
       "      <th>milage</th>\n",
       "      <th>fuel_type</th>\n",
       "      <th>engine</th>\n",
       "      <th>transmission</th>\n",
       "      <th>ext_col</th>\n",
       "      <th>int_col</th>\n",
       "      <th>accident</th>\n",
       "      <th>clean_title</th>\n",
       "      <th>price</th>\n",
       "      <th>engine_size</th>\n",
       "    </tr>\n",
       "  </thead>\n",
       "  <tbody>\n",
       "    <tr>\n",
       "      <th>0</th>\n",
       "      <td>Ford</td>\n",
       "      <td>Utility Police Interceptor Base</td>\n",
       "      <td>2013</td>\n",
       "      <td>51000</td>\n",
       "      <td>E85 Flex Fuel</td>\n",
       "      <td>300.0HP 3.7L V6 Cylinder Engine Flex Fuel Capa...</td>\n",
       "      <td>Automatic</td>\n",
       "      <td>Black</td>\n",
       "      <td>Black</td>\n",
       "      <td>At least 1 accident or damage reported</td>\n",
       "      <td>Yes</td>\n",
       "      <td>10300</td>\n",
       "      <td>3.7</td>\n",
       "    </tr>\n",
       "  </tbody>\n",
       "</table>\n",
       "</div>"
      ],
      "text/plain": [
       "  brand                            model  model_year  milage      fuel_type  \\\n",
       "0  Ford  Utility Police Interceptor Base        2013   51000  E85 Flex Fuel   \n",
       "\n",
       "                                              engine transmission ext_col  \\\n",
       "0  300.0HP 3.7L V6 Cylinder Engine Flex Fuel Capa...    Automatic   Black   \n",
       "\n",
       "  int_col                                accident clean_title  price  \\\n",
       "0   Black  At least 1 accident or damage reported         Yes  10300   \n",
       "\n",
       "   engine_size  \n",
       "0          3.7  "
      ]
     },
     "execution_count": 308,
     "metadata": {},
     "output_type": "execute_result"
    }
   ],
   "source": [
    "df.head(1)"
   ]
  },
  {
   "cell_type": "code",
   "execution_count": 324,
   "id": "226c3c14",
   "metadata": {},
   "outputs": [
    {
     "data": {
      "text/plain": [
       "<Axes: xlabel='engine_size', ylabel='Count'>"
      ]
     },
     "execution_count": 324,
     "metadata": {},
     "output_type": "execute_result"
    },
    {
     "data": {
      "image/png": "[encoded data removed]",
      "text/plain": [
       "<Figure size 640x480 with 1 Axes>"
      ]
     },
     "metadata": {},
     "output_type": "display_data"
    }
   ],
   "source": [
    "sns.histplot(x=\"engine_size\",data=df, bins=30)"
   ]
  },
  {
   "cell_type": "code",
   "execution_count": 315,
   "id": "e2a03644",
   "metadata": {},
   "outputs": [],
   "source": [
    "# creating new feature - \"horsepower\"\n",
    "\n",
    "def extract_horsepower(engine_description):\n",
    "    \n",
    "    words = engine_description.split()\n",
    "    \n",
    "    for i in words:\n",
    "        if i[-2:]==\"HP\":\n",
    "            horsepower = float(i[:-2])\n",
    "            break\n",
    "        else:\n",
    "            horsepower = np.nan\n",
    "            \n",
    "    return horsepower"
   ]
  },
  {
   "cell_type": "code",
   "execution_count": 320,
   "id": "85d2fa9a",
   "metadata": {},
   "outputs": [],
   "source": [
    "df['horsepower'] = df['engine'].apply(extract_horsepower)"
   ]
  },
  {
   "cell_type": "code",
   "execution_count": 321,
   "id": "5ccbf370",
   "metadata": {},
   "outputs": [
    {
     "data": {
      "text/html": [
       "<div>\n",
       "<style scoped>\n",
       "    .dataframe tbody tr th:only-of-type {\n",
       "        vertical-align: middle;\n",
       "    }\n",
       "\n",
       "    .dataframe tbody tr th {\n",
       "        vertical-align: top;\n",
       "    }\n",
       "\n",
       "    .dataframe thead th {\n",
       "        text-align: right;\n",
       "    }\n",
       "</style>\n",
       "<table border=\"1\" class=\"dataframe\">\n",
       "  <thead>\n",
       "    <tr style=\"text-align: right;\">\n",
       "      <th></th>\n",
       "      <th>brand</th>\n",
       "      <th>model</th>\n",
       "      <th>model_year</th>\n",
       "      <th>milage</th>\n",
       "      <th>fuel_type</th>\n",
       "      <th>engine</th>\n",
       "      <th>transmission</th>\n",
       "      <th>ext_col</th>\n",
       "      <th>int_col</th>\n",
       "      <th>accident</th>\n",
       "      <th>clean_title</th>\n",
       "      <th>price</th>\n",
       "      <th>engine_size</th>\n",
       "      <th>horsepower</th>\n",
       "    </tr>\n",
       "  </thead>\n",
       "  <tbody>\n",
       "    <tr>\n",
       "      <th>0</th>\n",
       "      <td>Ford</td>\n",
       "      <td>Utility Police Interceptor Base</td>\n",
       "      <td>2013</td>\n",
       "      <td>51000</td>\n",
       "      <td>E85 Flex Fuel</td>\n",
       "      <td>300.0HP 3.7L V6 Cylinder Engine Flex Fuel Capa...</td>\n",
       "      <td>Automatic</td>\n",
       "      <td>Black</td>\n",
       "      <td>Black</td>\n",
       "      <td>At least 1 accident or damage reported</td>\n",
       "      <td>Yes</td>\n",
       "      <td>10300</td>\n",
       "      <td>3.7</td>\n",
       "      <td>300.0</td>\n",
       "    </tr>\n",
       "  </tbody>\n",
       "</table>\n",
       "</div>"
      ],
      "text/plain": [
       "  brand                            model  model_year  milage      fuel_type  \\\n",
       "0  Ford  Utility Police Interceptor Base        2013   51000  E85 Flex Fuel   \n",
       "\n",
       "                                              engine transmission ext_col  \\\n",
       "0  300.0HP 3.7L V6 Cylinder Engine Flex Fuel Capa...    Automatic   Black   \n",
       "\n",
       "  int_col                                accident clean_title  price  \\\n",
       "0   Black  At least 1 accident or damage reported         Yes  10300   \n",
       "\n",
       "   engine_size  horsepower  \n",
       "0          3.7       300.0  "
      ]
     },
     "execution_count": 321,
     "metadata": {},
     "output_type": "execute_result"
    }
   ],
   "source": [
    "df.head(1)"
   ]
  },
  {
   "cell_type": "code",
   "execution_count": 325,
   "id": "5a6e8bce",
   "metadata": {},
   "outputs": [
    {
     "data": {
      "text/plain": [
       "<Axes: xlabel='horsepower', ylabel='Count'>"
      ]
     },
     "execution_count": 325,
     "metadata": {},
     "output_type": "execute_result"
    },
    {
     "data": {
      "image/png": "[encoded data removed]",
      "text/plain": [
       "<Figure size 640x480 with 1 Axes>"
      ]
     },
     "metadata": {},
     "output_type": "display_data"
    }
   ],
   "source": [
    "sns.histplot(x=\"horsepower\",data=df)"
   ]
  },
  {
   "cell_type": "code",
   "execution_count": 347,
   "id": "5c545f00",
   "metadata": {},
   "outputs": [],
   "source": [
    "# creating new feature - \"cylinder_count\"\n",
    "\n",
    "def extract_cylinder_count(engine_description):\n",
    "    \n",
    "    words = engine_description.split()\n",
    "    \n",
    "    for i in range(len(words)):\n",
    "        if words[i]==\"Cylinder\":\n",
    "            cylinder_count = words[i-1]\n",
    "            if words[i-1].isdigit():\n",
    "                cylinder_count = int(words[i-1])\n",
    "            else:\n",
    "                cylinder_count = int(words[i-1][1:])\n",
    "            break\n",
    "        else:\n",
    "            cylinder_count = np.nan\n",
    "            \n",
    "    return cylinder_count"
   ]
  },
  {
   "cell_type": "code",
   "execution_count": 351,
   "id": "6c508baa",
   "metadata": {},
   "outputs": [],
   "source": [
    "df['cylinder_count'] = df['engine'].apply(extract_cylinder_count)"
   ]
  },
  {
   "cell_type": "code",
   "execution_count": 352,
   "id": "41522fc7",
   "metadata": {},
   "outputs": [
    {
     "data": {
      "text/html": [
       "<div>\n",
       "<style scoped>\n",
       "    .dataframe tbody tr th:only-of-type {\n",
       "        vertical-align: middle;\n",
       "    }\n",
       "\n",
       "    .dataframe tbody tr th {\n",
       "        vertical-align: top;\n",
       "    }\n",
       "\n",
       "    .dataframe thead th {\n",
       "        text-align: right;\n",
       "    }\n",
       "</style>\n",
       "<table border=\"1\" class=\"dataframe\">\n",
       "  <thead>\n",
       "    <tr style=\"text-align: right;\">\n",
       "      <th></th>\n",
       "      <th>brand</th>\n",
       "      <th>model</th>\n",
       "      <th>model_year</th>\n",
       "      <th>milage</th>\n",
       "      <th>fuel_type</th>\n",
       "      <th>engine</th>\n",
       "      <th>transmission</th>\n",
       "      <th>ext_col</th>\n",
       "      <th>int_col</th>\n",
       "      <th>accident</th>\n",
       "      <th>clean_title</th>\n",
       "      <th>price</th>\n",
       "      <th>engine_size</th>\n",
       "      <th>horsepower</th>\n",
       "      <th>cylinder_count</th>\n",
       "    </tr>\n",
       "  </thead>\n",
       "  <tbody>\n",
       "    <tr>\n",
       "      <th>0</th>\n",
       "      <td>Ford</td>\n",
       "      <td>Utility Police Interceptor Base</td>\n",
       "      <td>2013</td>\n",
       "      <td>51000</td>\n",
       "      <td>E85 Flex Fuel</td>\n",
       "      <td>300.0HP 3.7L V6 Cylinder Engine Flex Fuel Capa...</td>\n",
       "      <td>Automatic</td>\n",
       "      <td>Black</td>\n",
       "      <td>Black</td>\n",
       "      <td>At least 1 accident or damage reported</td>\n",
       "      <td>Yes</td>\n",
       "      <td>10300</td>\n",
       "      <td>3.7</td>\n",
       "      <td>300.0</td>\n",
       "      <td>6.0</td>\n",
       "    </tr>\n",
       "  </tbody>\n",
       "</table>\n",
       "</div>"
      ],
      "text/plain": [
       "  brand                            model  model_year  milage      fuel_type  \\\n",
       "0  Ford  Utility Police Interceptor Base        2013   51000  E85 Flex Fuel   \n",
       "\n",
       "                                              engine transmission ext_col  \\\n",
       "0  300.0HP 3.7L V6 Cylinder Engine Flex Fuel Capa...    Automatic   Black   \n",
       "\n",
       "  int_col                                accident clean_title  price  \\\n",
       "0   Black  At least 1 accident or damage reported         Yes  10300   \n",
       "\n",
       "   engine_size  horsepower  cylinder_count  \n",
       "0          3.7       300.0             6.0  "
      ]
     },
     "execution_count": 352,
     "metadata": {},
     "output_type": "execute_result"
    }
   ],
   "source": [
    "df.head(1)"
   ]
  },
  {
   "cell_type": "code",
   "execution_count": 353,
   "id": "53ade60f",
   "metadata": {},
   "outputs": [
    {
     "data": {
      "text/plain": [
       "<Axes: xlabel='cylinder_count', ylabel='count'>"
      ]
     },
     "execution_count": 353,
     "metadata": {},
     "output_type": "execute_result"
    },
    {
     "data": {
      "image/png": "[encoded data removed]",
      "text/plain": [
       "<Figure size 640x480 with 1 Axes>"
      ]
     },
     "metadata": {},
     "output_type": "display_data"
    }
   ],
   "source": [
    "sns.countplot(x=\"cylinder_count\",data=df)"
   ]
  },
  {
   "cell_type": "code",
   "execution_count": null,
   "id": "0eac0923",
   "metadata": {},
   "outputs": [],
   "source": []
  }
 ],
 "metadata": {
  "kernelspec": {
   "display_name": "Python 3 (ipykernel)",
   "language": "python",
   "name": "python3"
  },
  "language_info": {
   "codemirror_mode": {
    "name": "ipython",
    "version": 3
   },
   "file_extension": ".py",
   "mimetype": "text/x-python",
   "name": "python",
   "nbconvert_exporter": "python",
   "pygments_lexer": "ipython3",
   "version": "3.11.5"
  }
 },
 "nbformat": 4,
 "nbformat_minor": 5
}
