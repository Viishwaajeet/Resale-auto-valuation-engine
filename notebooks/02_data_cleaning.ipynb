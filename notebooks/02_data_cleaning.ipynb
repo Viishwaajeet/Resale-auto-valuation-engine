{
 "cells": [
  {
   "cell_type": "code",
   "execution_count": 1,
   "id": "2818db1f",
   "metadata": {},
   "outputs": [],
   "source": [
    "import numpy as np\n",
    "import pandas as pd\n",
    "import matplotlib.pyplot as plt\n",
    "import seaborn as sns"
   ]
  },
  {
   "cell_type": "code",
   "execution_count": 2,
   "id": "3c89d00d",
   "metadata": {},
   "outputs": [],
   "source": [
    "df = pd.read_csv(\"../data/used_cars.csv\")"
   ]
  },
  {
   "cell_type": "code",
   "execution_count": 3,
   "id": "a684f781",
   "metadata": {},
   "outputs": [
    {
     "data": {
      "text/html": [
       "<div>\n",
       "<style scoped>\n",
       "    .dataframe tbody tr th:only-of-type {\n",
       "        vertical-align: middle;\n",
       "    }\n",
       "\n",
       "    .dataframe tbody tr th {\n",
       "        vertical-align: top;\n",
       "    }\n",
       "\n",
       "    .dataframe thead th {\n",
       "        text-align: right;\n",
       "    }\n",
       "</style>\n",
       "<table border=\"1\" class=\"dataframe\">\n",
       "  <thead>\n",
       "    <tr style=\"text-align: right;\">\n",
       "      <th></th>\n",
       "      <th>brand</th>\n",
       "      <th>model</th>\n",
       "      <th>model_year</th>\n",
       "      <th>milage</th>\n",
       "      <th>fuel_type</th>\n",
       "      <th>engine</th>\n",
       "      <th>transmission</th>\n",
       "      <th>ext_col</th>\n",
       "      <th>int_col</th>\n",
       "      <th>accident</th>\n",
       "      <th>clean_title</th>\n",
       "      <th>price</th>\n",
       "    </tr>\n",
       "  </thead>\n",
       "  <tbody>\n",
       "    <tr>\n",
       "      <th>0</th>\n",
       "      <td>Ford</td>\n",
       "      <td>Utility Police Interceptor Base</td>\n",
       "      <td>2013</td>\n",
       "      <td>51,000 mi.</td>\n",
       "      <td>E85 Flex Fuel</td>\n",
       "      <td>300.0HP 3.7L V6 Cylinder Engine Flex Fuel Capa...</td>\n",
       "      <td>6-Speed A/T</td>\n",
       "      <td>Black</td>\n",
       "      <td>Black</td>\n",
       "      <td>At least 1 accident or damage reported</td>\n",
       "      <td>Yes</td>\n",
       "      <td>$10,300</td>\n",
       "    </tr>\n",
       "    <tr>\n",
       "      <th>1</th>\n",
       "      <td>Hyundai</td>\n",
       "      <td>Palisade SEL</td>\n",
       "      <td>2021</td>\n",
       "      <td>34,742 mi.</td>\n",
       "      <td>Gasoline</td>\n",
       "      <td>3.8L V6 24V GDI DOHC</td>\n",
       "      <td>8-Speed Automatic</td>\n",
       "      <td>Moonlight Cloud</td>\n",
       "      <td>Gray</td>\n",
       "      <td>At least 1 accident or damage reported</td>\n",
       "      <td>Yes</td>\n",
       "      <td>$38,005</td>\n",
       "    </tr>\n",
       "    <tr>\n",
       "      <th>2</th>\n",
       "      <td>Lexus</td>\n",
       "      <td>RX 350 RX 350</td>\n",
       "      <td>2022</td>\n",
       "      <td>22,372 mi.</td>\n",
       "      <td>Gasoline</td>\n",
       "      <td>3.5 Liter DOHC</td>\n",
       "      <td>Automatic</td>\n",
       "      <td>Blue</td>\n",
       "      <td>Black</td>\n",
       "      <td>None reported</td>\n",
       "      <td>NaN</td>\n",
       "      <td>$54,598</td>\n",
       "    </tr>\n",
       "    <tr>\n",
       "      <th>3</th>\n",
       "      <td>INFINITI</td>\n",
       "      <td>Q50 Hybrid Sport</td>\n",
       "      <td>2015</td>\n",
       "      <td>88,900 mi.</td>\n",
       "      <td>Hybrid</td>\n",
       "      <td>354.0HP 3.5L V6 Cylinder Engine Gas/Electric H...</td>\n",
       "      <td>7-Speed A/T</td>\n",
       "      <td>Black</td>\n",
       "      <td>Black</td>\n",
       "      <td>None reported</td>\n",
       "      <td>Yes</td>\n",
       "      <td>$15,500</td>\n",
       "    </tr>\n",
       "    <tr>\n",
       "      <th>4</th>\n",
       "      <td>Audi</td>\n",
       "      <td>Q3 45 S line Premium Plus</td>\n",
       "      <td>2021</td>\n",
       "      <td>9,835 mi.</td>\n",
       "      <td>Gasoline</td>\n",
       "      <td>2.0L I4 16V GDI DOHC Turbo</td>\n",
       "      <td>8-Speed Automatic</td>\n",
       "      <td>Glacier White Metallic</td>\n",
       "      <td>Black</td>\n",
       "      <td>None reported</td>\n",
       "      <td>NaN</td>\n",
       "      <td>$34,999</td>\n",
       "    </tr>\n",
       "  </tbody>\n",
       "</table>\n",
       "</div>"
      ],
      "text/plain": [
       "      brand                            model  model_year      milage  \\\n",
       "0      Ford  Utility Police Interceptor Base        2013  51,000 mi.   \n",
       "1   Hyundai                     Palisade SEL        2021  34,742 mi.   \n",
       "2     Lexus                    RX 350 RX 350        2022  22,372 mi.   \n",
       "3  INFINITI                 Q50 Hybrid Sport        2015  88,900 mi.   \n",
       "4      Audi        Q3 45 S line Premium Plus        2021   9,835 mi.   \n",
       "\n",
       "       fuel_type                                             engine  \\\n",
       "0  E85 Flex Fuel  300.0HP 3.7L V6 Cylinder Engine Flex Fuel Capa...   \n",
       "1       Gasoline                               3.8L V6 24V GDI DOHC   \n",
       "2       Gasoline                                     3.5 Liter DOHC   \n",
       "3         Hybrid  354.0HP 3.5L V6 Cylinder Engine Gas/Electric H...   \n",
       "4       Gasoline                         2.0L I4 16V GDI DOHC Turbo   \n",
       "\n",
       "        transmission                 ext_col int_col  \\\n",
       "0        6-Speed A/T                   Black   Black   \n",
       "1  8-Speed Automatic         Moonlight Cloud    Gray   \n",
       "2          Automatic                    Blue   Black   \n",
       "3        7-Speed A/T                   Black   Black   \n",
       "4  8-Speed Automatic  Glacier White Metallic   Black   \n",
       "\n",
       "                                 accident clean_title    price  \n",
       "0  At least 1 accident or damage reported         Yes  $10,300  \n",
       "1  At least 1 accident or damage reported         Yes  $38,005  \n",
       "2                           None reported         NaN  $54,598  \n",
       "3                           None reported         Yes  $15,500  \n",
       "4                           None reported         NaN  $34,999  "
      ]
     },
     "execution_count": 3,
     "metadata": {},
     "output_type": "execute_result"
    }
   ],
   "source": [
    "df.head()"
   ]
  },
  {
   "cell_type": "code",
   "execution_count": 4,
   "id": "9ea2ba2e",
   "metadata": {},
   "outputs": [
    {
     "name": "stdout",
     "output_type": "stream",
     "text": [
      "<class 'pandas.core.frame.DataFrame'>\n",
      "RangeIndex: 4009 entries, 0 to 4008\n",
      "Data columns (total 12 columns):\n",
      " #   Column        Non-Null Count  Dtype \n",
      "---  ------        --------------  ----- \n",
      " 0   brand         4009 non-null   object\n",
      " 1   model         4009 non-null   object\n",
      " 2   model_year    4009 non-null   int64 \n",
      " 3   milage        4009 non-null   object\n",
      " 4   fuel_type     3839 non-null   object\n",
      " 5   engine        4009 non-null   object\n",
      " 6   transmission  4009 non-null   object\n",
      " 7   ext_col       4009 non-null   object\n",
      " 8   int_col       4009 non-null   object\n",
      " 9   accident      3896 non-null   object\n",
      " 10  clean_title   3413 non-null   object\n",
      " 11  price         4009 non-null   object\n",
      "dtypes: int64(1), object(11)\n",
      "memory usage: 376.0+ KB\n"
     ]
    }
   ],
   "source": [
    "df.info()"
   ]
  },
  {
   "cell_type": "code",
   "execution_count": 5,
   "id": "7fd933ba",
   "metadata": {},
   "outputs": [
    {
     "name": "stdout",
     "output_type": "stream",
     "text": [
      "Used Car Price Prediction Dataset\n",
      "\n",
      "https://www.kaggle.com/datasets/taeefnajib/used-car-price-prediction-dataset/data\n",
      "\n",
      "About Dataset\n",
      "Used Car Price Prediction Dataset is a comprehensive collection of automotive information extracted from the popular automotive marketplace website, https://www.cars.com. This dataset comprises 4,009 data points, each representing a unique vehicle listing, and includes nine distinct features providing valuable insights into the world of automobiles.\n",
      "\n",
      "Brand & Model: Identify the brand or company name along with the specific model of each vehicle.\n",
      "Model Year: Discover the manufacturing year of the vehicles, crucial for assessing depreciation and technology advancements.\n",
      "Mileage: Obtain the mileage of each vehicle, a key indicator of wear and tear and potential maintenance requirements.\n",
      "Fuel Type: Learn about the type of fuel the vehicles run on, whether it's gasoline, diesel, electric, or hybrid.\n",
      "Engine Type: Understand the engine specifications, shedding light on performance and efficiency.\n",
      "Transmission: Determine the transmission type, whether automatic, manual, or another variant.\n",
      "Exterior & Interior Colors: Explore the aesthetic aspects of the vehicles, including exterior and interior color options.\n",
      "Accident History: Discover whether a vehicle has a prior history of accidents or damage, crucial for informed decision-making.\n",
      "Clean Title: Evaluate the availability of a clean title, which can impact the vehicle's resale value and legal status.\n",
      "Price: Access the listed prices for each vehicle, aiding in price comparison and budgeting.\n",
      "This dataset is a valuable resource for automotive enthusiasts, buyers, and researchers interested in analyzing trends, making informed purchasing decisions or conducting studies related to the automotive industry and consumer preferences. Whether you are a data analyst, car buyer, or researcher, this dataset offers a wealth of information to explore and analyze.\n"
     ]
    }
   ],
   "source": [
    "with open('../data/data_source_link_and _description.txt','r') as f:\n",
    "    print(f.read())"
   ]
  },
  {
   "cell_type": "markdown",
   "id": "b4abfaf0",
   "metadata": {},
   "source": [
    "## Examining quality of the data"
   ]
  },
  {
   "cell_type": "code",
   "execution_count": 6,
   "id": "99599fcc",
   "metadata": {},
   "outputs": [
    {
     "data": {
      "text/plain": [
       "Index(['brand', 'model', 'model_year', 'milage', 'fuel_type', 'engine',\n",
       "       'transmission', 'ext_col', 'int_col', 'accident', 'clean_title',\n",
       "       'price'],\n",
       "      dtype='object')"
      ]
     },
     "execution_count": 6,
     "metadata": {},
     "output_type": "execute_result"
    }
   ],
   "source": [
    "df.columns"
   ]
  },
  {
   "cell_type": "code",
   "execution_count": 9,
   "id": "2c469c4e",
   "metadata": {},
   "outputs": [
    {
     "data": {
      "text/plain": [
       "array(['Ford', 'Hyundai', 'Lexus', 'INFINITI', 'Audi', 'Acura', 'BMW',\n",
       "       'Tesla', 'Land', 'Aston', 'Toyota', 'Lincoln', 'Jaguar',\n",
       "       'Mercedes-Benz', 'Dodge', 'Nissan', 'Genesis', 'Chevrolet', 'Kia',\n",
       "       'Jeep', 'Bentley', 'Honda', 'Lucid', 'MINI', 'Porsche', 'Hummer',\n",
       "       'Chrysler', 'Volvo', 'Cadillac', 'Lamborghini', 'Maserati',\n",
       "       'Volkswagen', 'Subaru', 'Rivian', 'GMC', 'RAM', 'Alfa', 'Ferrari',\n",
       "       'Scion', 'Mitsubishi', 'Mazda', 'Saturn', 'Bugatti', 'Polestar',\n",
       "       'Rolls-Royce', 'McLaren', 'Buick', 'Lotus', 'Pontiac', 'FIAT',\n",
       "       'Karma', 'Saab', 'Mercury', 'Plymouth', 'smart', 'Maybach',\n",
       "       'Suzuki'], dtype=object)"
      ]
     },
     "execution_count": 9,
     "metadata": {},
     "output_type": "execute_result"
    }
   ],
   "source": [
    "df['brand'].unique()"
   ]
  },
  {
   "cell_type": "code",
   "execution_count": 13,
   "id": "2f77fc92",
   "metadata": {},
   "outputs": [
    {
     "data": {
      "text/plain": [
       "1898"
      ]
     },
     "execution_count": 13,
     "metadata": {},
     "output_type": "execute_result"
    }
   ],
   "source": [
    "len(df['model'].unique())"
   ]
  },
  {
   "cell_type": "code",
   "execution_count": 23,
   "id": "e94ce167",
   "metadata": {},
   "outputs": [
    {
     "data": {
      "text/plain": [
       "array(['Utility Police Interceptor Base', 'Palisade SEL', 'RX 350 RX 350',\n",
       "       'Q50 Hybrid Sport', 'Q3 45 S line Premium Plus', 'ILX 2.4L',\n",
       "       'S3 2.0T Premium Plus', '740 iL', 'RC 350 F Sport',\n",
       "       'Model X Long Range Plus',\n",
       "       'Rover Range Rover Sport 3.0 Supercharged HST',\n",
       "       'Martin DBS Superleggera', 'Supra 3.0 Premium',\n",
       "       'Aviator Reserve AWD', 'F-TYPE', 'Rover LR4 HSE', 'Metris Base',\n",
       "       'Challenger SXT', '350Z Enthusiast', 'F-TYPE R', 'GV70 3.5T Sport',\n",
       "       'S-10 LS', '440 Gran Coupe 440i xDrive', 'F-150 XLT',\n",
       "       'Suburban RST', 'Elantra N Base', 'Sentra SR',\n",
       "       'AMG CLA 45 Base 4MATIC', '650 Gran Coupe i xDrive',\n",
       "       'Q5 2.0T Premium Plus', 'AMG C 43 Base 4MATIC',\n",
       "       'Ram 1500 Laramie Mega Cab', 'i3 120Ah w/Range Extender',\n",
       "       'Sorento SX', 'LX 570 Base', 'New Compass Trailhawk', '340 i',\n",
       "       'A4 2.0T Premium Plus quattro', 'Tucson SE', 'Z4 sDrive28i',\n",
       "       'Continental GTC Base', 'Passport Elite', 'Sprinter 2500',\n",
       "       'M850 i xDrive', 'Air Grand Touring', 'A7 Premium',\n",
       "       'Silverado 1500 Custom Trail Boss',\n",
       "       'Convertible John Cooper Works', 'Avalon Touring',\n",
       "       'Cayenne Platinum Edition'], dtype=object)"
      ]
     },
     "execution_count": 23,
     "metadata": {},
     "output_type": "execute_result"
    }
   ],
   "source": [
    "df['model'].unique()[:50]"
   ]
  },
  {
   "cell_type": "code",
   "execution_count": 17,
   "id": "62e42c63",
   "metadata": {},
   "outputs": [
    {
     "data": {
      "text/plain": [
       "array([2013, 2021, 2022, 2015, 2016, 2017, 2001, 2020, 2019, 2003, 2018,\n",
       "       2023, 2000, 2006, 2011, 2012, 2007, 2014, 2005, 2009, 2010, 2004,\n",
       "       2008, 1997, 1999, 1993, 2002, 1998, 2024, 1996, 1974, 1992, 1995,\n",
       "       1994], dtype=int64)"
      ]
     },
     "execution_count": 17,
     "metadata": {},
     "output_type": "execute_result"
    }
   ],
   "source": [
    "df['model_year'].unique()"
   ]
  },
  {
   "cell_type": "code",
   "execution_count": 22,
   "id": "a8de3a8d",
   "metadata": {},
   "outputs": [
    {
     "data": {
      "text/plain": [
       "array(['51,000 mi.', '34,742 mi.', '22,372 mi.', '88,900 mi.',\n",
       "       '9,835 mi.', '136,397 mi.', '84,000 mi.', '242,000 mi.',\n",
       "       '23,436 mi.', '34,000 mi.', '27,608 mi.', '22,770 mi.',\n",
       "       '12,500 mi.', '18,196 mi.', '15,903 mi.', '79,800 mi.',\n",
       "       '1,685 mi.', '61,074 mi.', '74,000 mi.', '35,250 mi.', '5,400 mi.',\n",
       "       '133,510 mi.', '25,990 mi.', '2,823 mi.', '52,000 mi.',\n",
       "       '11,650 mi.', '96,541 mi.', '17,500 mi.', '69,000 mi.',\n",
       "       '81,880 mi.', '28,800 mi.', '300,183 mi.', '35,035 mi.',\n",
       "       '171,000 mi.', '118,700 mi.', '119,000 mi.', '44,261 mi.',\n",
       "       '125,575 mi.', '16,200 mi.', '70,000 mi.', '20,200 mi.',\n",
       "       '2,978 mi.', '189,719 mi.', '9,949 mi.', '3,552 mi.', '54,000 mi.',\n",
       "       '51,351 mi.', '24,280 mi.', '89,148 mi.', '73,043 mi.'],\n",
       "      dtype=object)"
      ]
     },
     "execution_count": 22,
     "metadata": {},
     "output_type": "execute_result"
    }
   ],
   "source": [
    "df['milage'].unique()[:50]"
   ]
  },
  {
   "cell_type": "code",
   "execution_count": 24,
   "id": "49e0be8e",
   "metadata": {},
   "outputs": [
    {
     "data": {
      "text/plain": [
       "array(['E85 Flex Fuel', 'Gasoline', 'Hybrid', nan, 'Diesel',\n",
       "       'Plug-In Hybrid', '–', 'not supported'], dtype=object)"
      ]
     },
     "execution_count": 24,
     "metadata": {},
     "output_type": "execute_result"
    }
   ],
   "source": [
    "df['fuel_type'].unique()"
   ]
  },
  {
   "cell_type": "code",
   "execution_count": 26,
   "id": "e7f91de2",
   "metadata": {},
   "outputs": [
    {
     "data": {
      "text/plain": [
       "1146"
      ]
     },
     "execution_count": 26,
     "metadata": {},
     "output_type": "execute_result"
    }
   ],
   "source": [
    "len(df['engine'].unique())"
   ]
  },
  {
   "cell_type": "code",
   "execution_count": 28,
   "id": "78d1b121",
   "metadata": {},
   "outputs": [
    {
     "data": {
      "text/plain": [
       "array(['300.0HP 3.7L V6 Cylinder Engine Flex Fuel Capability',\n",
       "       '3.8L V6 24V GDI DOHC', '3.5 Liter DOHC',\n",
       "       '354.0HP 3.5L V6 Cylinder Engine Gas/Electric Hybrid',\n",
       "       '2.0L I4 16V GDI DOHC Turbo', '2.4 Liter',\n",
       "       '292.0HP 2.0L 4 Cylinder Engine Gasoline Fuel',\n",
       "       '282.0HP 4.4L 8 Cylinder Engine Gasoline Fuel',\n",
       "       '311.0HP 3.5L V6 Cylinder Engine Gasoline Fuel',\n",
       "       '534.0HP Electric Motor Electric Fuel System', 'V6',\n",
       "       '715.0HP 5.2L 12 Cylinder Engine Gasoline Fuel',\n",
       "       '382.0HP 3.0L Straight 6 Cylinder Engine Gasoline Fuel',\n",
       "       '400.0HP 3.0L V6 Cylinder Engine Gasoline Fuel',\n",
       "       '2.0 Liter Supercharged',\n",
       "       '375.0HP 5.0L 8 Cylinder Engine Gasoline Fuel',\n",
       "       '305.0HP 3.6L V6 Cylinder Engine Gasoline Fuel',\n",
       "       '287.0HP 3.5L V6 Cylinder Engine Gasoline Fuel',\n",
       "       '550.0HP 5.0L 8 Cylinder Engine Gasoline Fuel',\n",
       "       '375.0HP 3.5L V6 Cylinder Engine Gasoline Fuel'], dtype=object)"
      ]
     },
     "execution_count": 28,
     "metadata": {},
     "output_type": "execute_result"
    }
   ],
   "source": [
    "df['engine'].unique()[:20]"
   ]
  },
  {
   "cell_type": "code",
   "execution_count": 36,
   "id": "3c672da6",
   "metadata": {},
   "outputs": [
    {
     "data": {
      "text/plain": [
       "array(['6-Speed A/T', '8-Speed Automatic', 'Automatic', '7-Speed A/T',\n",
       "       'F', 'A/T', '8-Speed A/T', 'Transmission w/Dual Shift Mode',\n",
       "       '9-Speed Automatic', '6-Speed M/T', '10-Speed A/T', '9-Speed A/T',\n",
       "       '5-Speed A/T', '1-Speed A/T', 'Automatic CVT',\n",
       "       '7-Speed Automatic with Auto-Shift', 'CVT-F', 'M/T',\n",
       "       '6-Speed Automatic with Auto-Shift', '10-Speed Automatic',\n",
       "       'CVT Transmission', '4-Speed A/T', '6-Speed Automatic',\n",
       "       '4-Speed Automatic', '7-Speed M/T',\n",
       "       '8-Speed Automatic with Auto-Shift', '5-Speed Automatic',\n",
       "       '8-SPEED AT', '1-Speed Automatic', '5-Speed M/T', 'Manual',\n",
       "       '6-Speed Manual', 'Variable', '2', '7-Speed Manual',\n",
       "       'Automatic, 9-Spd 9G-Tronic', 'Automatic, 8-Spd',\n",
       "       'Automatic, 8-Spd Sport w/Sport & Manual Modes', '–',\n",
       "       'Auto, 6-Spd w/CmdShft', 'Transmission Overdrive Switch',\n",
       "       '7-Speed Automatic', 'Automatic, 8-Spd PDK Dual-Clutch',\n",
       "       'Automatic, 8-Spd M STEPTRONIC w/Drivelogic, Sport & Manual Modes',\n",
       "       'Automatic, 8-Spd Dual-Clutch', '6-Speed',\n",
       "       'Single-Speed Fixed Gear', 'Automatic, 10-Spd',\n",
       "       '2-Speed Automatic', '7-Speed',\n",
       "       'Automatic, 7-Spd S tronic Dual-Clutch', 'Manual, 6-Spd',\n",
       "       '6-Speed Electronically Controlled Automatic with O',\n",
       "       '6 Speed At/Mt', '8-SPEED A/T',\n",
       "       '10-Speed Automatic with Overdrive', '7-Speed DCT Automatic',\n",
       "       '9-Speed Automatic with Auto-Shift',\n",
       "       'SCHEDULED FOR OR IN PRODUCTION', '2-Speed A/T', '6 Speed Mt',\n",
       "       '8-Speed Manual'], dtype=object)"
      ]
     },
     "execution_count": 36,
     "metadata": {},
     "output_type": "execute_result"
    }
   ],
   "source": [
    "df['transmission'].unique()"
   ]
  },
  {
   "cell_type": "code",
   "execution_count": 38,
   "id": "92ab9c9b",
   "metadata": {},
   "outputs": [
    {
     "data": {
      "text/plain": [
       "319"
      ]
     },
     "execution_count": 38,
     "metadata": {},
     "output_type": "execute_result"
    }
   ],
   "source": [
    "len(df['ext_col'].unique())"
   ]
  },
  {
   "cell_type": "code",
   "execution_count": 39,
   "id": "f8cab64a",
   "metadata": {},
   "outputs": [
    {
     "data": {
      "text/plain": [
       "156"
      ]
     },
     "execution_count": 39,
     "metadata": {},
     "output_type": "execute_result"
    }
   ],
   "source": [
    "len(df['int_col'].unique())"
   ]
  },
  {
   "cell_type": "code",
   "execution_count": 42,
   "id": "452a75d7",
   "metadata": {},
   "outputs": [
    {
     "data": {
      "text/plain": [
       "array(['At least 1 accident or damage reported', 'None reported', nan],\n",
       "      dtype=object)"
      ]
     },
     "execution_count": 42,
     "metadata": {},
     "output_type": "execute_result"
    }
   ],
   "source": [
    "df['accident'].unique()"
   ]
  },
  {
   "cell_type": "code",
   "execution_count": 43,
   "id": "1ce05fad",
   "metadata": {},
   "outputs": [
    {
     "data": {
      "text/plain": [
       "array(['Yes', nan], dtype=object)"
      ]
     },
     "execution_count": 43,
     "metadata": {},
     "output_type": "execute_result"
    }
   ],
   "source": [
    "df['clean_title'].unique()"
   ]
  },
  {
   "cell_type": "code",
   "execution_count": 45,
   "id": "4782714b",
   "metadata": {},
   "outputs": [
    {
     "data": {
      "text/plain": [
       "array(['$10,300', '$38,005', '$54,598', '$15,500', '$34,999', '$14,798',\n",
       "       '$31,000', '$7,300', '$41,927', '$69,950', '$73,897', '$184,606',\n",
       "       '$53,500', '$62,000', '$47,998', '$29,990', '$250,000', '$16,800',\n",
       "       '$11,000', '$68,750', '$60,000', '$4,500', '$38,598', '$58,504',\n",
       "       '$61,000', '$32,300', '$13,998', '$59,995', '$25,700', '$21,375',\n",
       "       '$48,000', '$10,900', '$24,998', '$5,999', '$46,900', '$15,900',\n",
       "       '$33,598', '$8,999', '$8,200', '$20,000', '$79,950', '$45,498',\n",
       "       '$14,000', '$75,798', '$119,999', '$36,880', '$43,147', '$29,000',\n",
       "       '$17,500', '$30,990'], dtype=object)"
      ]
     },
     "execution_count": 45,
     "metadata": {},
     "output_type": "execute_result"
    }
   ],
   "source": [
    "df['price'].unique()[:50]"
   ]
  },
  {
   "cell_type": "markdown",
   "id": "493e6e79",
   "metadata": {},
   "source": [
    "**_Quality_**\n",
    "* inconsistent model values\n",
    "* milage has ',' and ' mi.' included\n",
    "* milage has object as datatype need to convert to int\n",
    "* fuel_type contains 'nan', '-', 'not supported' values\n",
    "* could engineer multiple features from engine feature\n",
    "* convert transmission feature into categorical feature (automatic, manual, unknown)\n",
    "* transform ext_col into fewer categories (like blue, red, black, white, etc.)\n",
    "* transform int_col into fewer categories\n",
    "* price column has ',' and '$' included\n",
    "* price column should numeric\n",
    "* missing values: fuel_type, accident, clean_title"
   ]
  },
  {
   "cell_type": "markdown",
   "id": "ed4dcfed",
   "metadata": {},
   "source": [
    "## Data Cleaning"
   ]
  },
  {
   "cell_type": "code",
   "execution_count": null,
   "id": "0ec8728d",
   "metadata": {},
   "outputs": [],
   "source": []
  }
 ],
 "metadata": {
  "kernelspec": {
   "display_name": "Python 3 (ipykernel)",
   "language": "python",
   "name": "python3"
  },
  "language_info": {
   "codemirror_mode": {
    "name": "ipython",
    "version": 3
   },
   "file_extension": ".py",
   "mimetype": "text/x-python",
   "name": "python",
   "nbconvert_exporter": "python",
   "pygments_lexer": "ipython3",
   "version": "3.11.5"
  }
 },
 "nbformat": 4,
 "nbformat_minor": 5
}
