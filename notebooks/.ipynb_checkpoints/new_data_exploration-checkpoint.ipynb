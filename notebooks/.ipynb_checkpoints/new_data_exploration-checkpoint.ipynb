{
 "cells": [
  {
   "cell_type": "code",
   "execution_count": 1,
   "id": "f5f30b14-5053-4ac1-9f8b-522629af8007",
   "metadata": {},
   "outputs": [],
   "source": [
    "import numpy as np\n",
    "import pandas as pd\n",
    "import matplotlib.pyplot as plt\n",
    "import seaborn as sns\n",
    "from sklearn.model_selection import train_test_split"
   ]
  },
  {
   "cell_type": "code",
   "execution_count": 169,
   "id": "a573d073-01ea-4b6c-a3dc-7a59ddf63986",
   "metadata": {},
   "outputs": [],
   "source": [
    "df = pd.read_csv('../data/used_cars.csv')"
   ]
  },
  {
   "cell_type": "code",
   "execution_count": 171,
   "id": "75747a1c-0bee-4dd2-b139-53533dbb625e",
   "metadata": {},
   "outputs": [],
   "source": [
    "df.index.name = \"Index\""
   ]
  },
  {
   "cell_type": "code",
   "execution_count": 172,
   "id": "974034e3-7b0e-4a24-af5c-36e3f27f2f2f",
   "metadata": {},
   "outputs": [
    {
     "data": {
      "text/html": [
       "<div>\n",
       "<style scoped>\n",
       "    .dataframe tbody tr th:only-of-type {\n",
       "        vertical-align: middle;\n",
       "    }\n",
       "\n",
       "    .dataframe tbody tr th {\n",
       "        vertical-align: top;\n",
       "    }\n",
       "\n",
       "    .dataframe thead th {\n",
       "        text-align: right;\n",
       "    }\n",
       "</style>\n",
       "<table border=\"1\" class=\"dataframe\">\n",
       "  <thead>\n",
       "    <tr style=\"text-align: right;\">\n",
       "      <th></th>\n",
       "      <th>brand</th>\n",
       "      <th>model</th>\n",
       "      <th>model_year</th>\n",
       "      <th>milage</th>\n",
       "      <th>fuel_type</th>\n",
       "      <th>engine</th>\n",
       "      <th>transmission</th>\n",
       "      <th>ext_col</th>\n",
       "      <th>int_col</th>\n",
       "      <th>accident</th>\n",
       "      <th>clean_title</th>\n",
       "      <th>price</th>\n",
       "    </tr>\n",
       "    <tr>\n",
       "      <th>Index</th>\n",
       "      <th></th>\n",
       "      <th></th>\n",
       "      <th></th>\n",
       "      <th></th>\n",
       "      <th></th>\n",
       "      <th></th>\n",
       "      <th></th>\n",
       "      <th></th>\n",
       "      <th></th>\n",
       "      <th></th>\n",
       "      <th></th>\n",
       "      <th></th>\n",
       "    </tr>\n",
       "  </thead>\n",
       "  <tbody>\n",
       "    <tr>\n",
       "      <th>0</th>\n",
       "      <td>Ford</td>\n",
       "      <td>Utility Police Interceptor Base</td>\n",
       "      <td>2013</td>\n",
       "      <td>51,000 mi.</td>\n",
       "      <td>E85 Flex Fuel</td>\n",
       "      <td>300.0HP 3.7L V6 Cylinder Engine Flex Fuel Capa...</td>\n",
       "      <td>6-Speed A/T</td>\n",
       "      <td>Black</td>\n",
       "      <td>Black</td>\n",
       "      <td>At least 1 accident or damage reported</td>\n",
       "      <td>Yes</td>\n",
       "      <td>$10,300</td>\n",
       "    </tr>\n",
       "    <tr>\n",
       "      <th>1</th>\n",
       "      <td>Hyundai</td>\n",
       "      <td>Palisade SEL</td>\n",
       "      <td>2021</td>\n",
       "      <td>34,742 mi.</td>\n",
       "      <td>Gasoline</td>\n",
       "      <td>3.8L V6 24V GDI DOHC</td>\n",
       "      <td>8-Speed Automatic</td>\n",
       "      <td>Moonlight Cloud</td>\n",
       "      <td>Gray</td>\n",
       "      <td>At least 1 accident or damage reported</td>\n",
       "      <td>Yes</td>\n",
       "      <td>$38,005</td>\n",
       "    </tr>\n",
       "    <tr>\n",
       "      <th>2</th>\n",
       "      <td>Lexus</td>\n",
       "      <td>RX 350 RX 350</td>\n",
       "      <td>2022</td>\n",
       "      <td>22,372 mi.</td>\n",
       "      <td>Gasoline</td>\n",
       "      <td>3.5 Liter DOHC</td>\n",
       "      <td>Automatic</td>\n",
       "      <td>Blue</td>\n",
       "      <td>Black</td>\n",
       "      <td>None reported</td>\n",
       "      <td>NaN</td>\n",
       "      <td>$54,598</td>\n",
       "    </tr>\n",
       "    <tr>\n",
       "      <th>3</th>\n",
       "      <td>INFINITI</td>\n",
       "      <td>Q50 Hybrid Sport</td>\n",
       "      <td>2015</td>\n",
       "      <td>88,900 mi.</td>\n",
       "      <td>Hybrid</td>\n",
       "      <td>354.0HP 3.5L V6 Cylinder Engine Gas/Electric H...</td>\n",
       "      <td>7-Speed A/T</td>\n",
       "      <td>Black</td>\n",
       "      <td>Black</td>\n",
       "      <td>None reported</td>\n",
       "      <td>Yes</td>\n",
       "      <td>$15,500</td>\n",
       "    </tr>\n",
       "    <tr>\n",
       "      <th>4</th>\n",
       "      <td>Audi</td>\n",
       "      <td>Q3 45 S line Premium Plus</td>\n",
       "      <td>2021</td>\n",
       "      <td>9,835 mi.</td>\n",
       "      <td>Gasoline</td>\n",
       "      <td>2.0L I4 16V GDI DOHC Turbo</td>\n",
       "      <td>8-Speed Automatic</td>\n",
       "      <td>Glacier White Metallic</td>\n",
       "      <td>Black</td>\n",
       "      <td>None reported</td>\n",
       "      <td>NaN</td>\n",
       "      <td>$34,999</td>\n",
       "    </tr>\n",
       "  </tbody>\n",
       "</table>\n",
       "</div>"
      ],
      "text/plain": [
       "          brand                            model  model_year      milage  \\\n",
       "Index                                                                      \n",
       "0          Ford  Utility Police Interceptor Base        2013  51,000 mi.   \n",
       "1       Hyundai                     Palisade SEL        2021  34,742 mi.   \n",
       "2         Lexus                    RX 350 RX 350        2022  22,372 mi.   \n",
       "3      INFINITI                 Q50 Hybrid Sport        2015  88,900 mi.   \n",
       "4          Audi        Q3 45 S line Premium Plus        2021   9,835 mi.   \n",
       "\n",
       "           fuel_type                                             engine  \\\n",
       "Index                                                                     \n",
       "0      E85 Flex Fuel  300.0HP 3.7L V6 Cylinder Engine Flex Fuel Capa...   \n",
       "1           Gasoline                               3.8L V6 24V GDI DOHC   \n",
       "2           Gasoline                                     3.5 Liter DOHC   \n",
       "3             Hybrid  354.0HP 3.5L V6 Cylinder Engine Gas/Electric H...   \n",
       "4           Gasoline                         2.0L I4 16V GDI DOHC Turbo   \n",
       "\n",
       "            transmission                 ext_col int_col  \\\n",
       "Index                                                      \n",
       "0            6-Speed A/T                   Black   Black   \n",
       "1      8-Speed Automatic         Moonlight Cloud    Gray   \n",
       "2              Automatic                    Blue   Black   \n",
       "3            7-Speed A/T                   Black   Black   \n",
       "4      8-Speed Automatic  Glacier White Metallic   Black   \n",
       "\n",
       "                                     accident clean_title    price  \n",
       "Index                                                               \n",
       "0      At least 1 accident or damage reported         Yes  $10,300  \n",
       "1      At least 1 accident or damage reported         Yes  $38,005  \n",
       "2                               None reported         NaN  $54,598  \n",
       "3                               None reported         Yes  $15,500  \n",
       "4                               None reported         NaN  $34,999  "
      ]
     },
     "execution_count": 172,
     "metadata": {},
     "output_type": "execute_result"
    }
   ],
   "source": [
    "df.head()"
   ]
  },
  {
   "cell_type": "code",
   "execution_count": null,
   "id": "cd614990-0e2c-40ef-b4c9-8b96e78e07b4",
   "metadata": {},
   "outputs": [],
   "source": []
  },
  {
   "cell_type": "code",
   "execution_count": 173,
   "id": "17573f7c-858a-4624-90f3-5d9e909556df",
   "metadata": {},
   "outputs": [
    {
     "name": "stdout",
     "output_type": "stream",
     "text": [
      "<class 'pandas.core.frame.DataFrame'>\n",
      "RangeIndex: 4009 entries, 0 to 4008\n",
      "Data columns (total 12 columns):\n",
      " #   Column        Non-Null Count  Dtype \n",
      "---  ------        --------------  ----- \n",
      " 0   brand         4009 non-null   object\n",
      " 1   model         4009 non-null   object\n",
      " 2   model_year    4009 non-null   int64 \n",
      " 3   milage        4009 non-null   object\n",
      " 4   fuel_type     3839 non-null   object\n",
      " 5   engine        4009 non-null   object\n",
      " 6   transmission  4009 non-null   object\n",
      " 7   ext_col       4009 non-null   object\n",
      " 8   int_col       4009 non-null   object\n",
      " 9   accident      3896 non-null   object\n",
      " 10  clean_title   3413 non-null   object\n",
      " 11  price         4009 non-null   object\n",
      "dtypes: int64(1), object(11)\n",
      "memory usage: 376.0+ KB\n"
     ]
    }
   ],
   "source": [
    "df.info()"
   ]
  },
  {
   "cell_type": "code",
   "execution_count": 174,
   "id": "29a6f62e-4ea2-4881-b7cb-7dc840b7b98e",
   "metadata": {},
   "outputs": [
    {
     "data": {
      "text/plain": [
       "0"
      ]
     },
     "execution_count": 174,
     "metadata": {},
     "output_type": "execute_result"
    }
   ],
   "source": [
    "df.duplicated().sum()"
   ]
  },
  {
   "cell_type": "code",
   "execution_count": 175,
   "id": "0267faf9-34bf-4643-a3a0-37b9a6f480ca",
   "metadata": {},
   "outputs": [
    {
     "data": {
      "text/plain": [
       "brand             0\n",
       "model             0\n",
       "model_year        0\n",
       "milage            0\n",
       "fuel_type       170\n",
       "engine            0\n",
       "transmission      0\n",
       "ext_col           0\n",
       "int_col           0\n",
       "accident        113\n",
       "clean_title     596\n",
       "price             0\n",
       "dtype: int64"
      ]
     },
     "execution_count": 175,
     "metadata": {},
     "output_type": "execute_result"
    }
   ],
   "source": [
    "df.isnull().sum()"
   ]
  },
  {
   "cell_type": "code",
   "execution_count": 176,
   "id": "6cf4fe8f-b5bb-49d8-99a4-d4cc548eaa9c",
   "metadata": {},
   "outputs": [],
   "source": [
    "train_df, test_df = train_test_split(df,test_size=0.2,random_state=42)"
   ]
  },
  {
   "cell_type": "code",
   "execution_count": 177,
   "id": "cd81367e-192d-4554-b617-d9b1662c16da",
   "metadata": {},
   "outputs": [],
   "source": [
    "train_df.to_csv('../data/train_car_data.csv',index='True')\n",
    "test_df.to_csv('../data/test_car_data.csv',index='True')"
   ]
  },
  {
   "cell_type": "code",
   "execution_count": 178,
   "id": "351d0669-57c5-4610-a274-ef155aece608",
   "metadata": {},
   "outputs": [
    {
     "data": {
      "text/html": [
       "<div>\n",
       "<style scoped>\n",
       "    .dataframe tbody tr th:only-of-type {\n",
       "        vertical-align: middle;\n",
       "    }\n",
       "\n",
       "    .dataframe tbody tr th {\n",
       "        vertical-align: top;\n",
       "    }\n",
       "\n",
       "    .dataframe thead th {\n",
       "        text-align: right;\n",
       "    }\n",
       "</style>\n",
       "<table border=\"1\" class=\"dataframe\">\n",
       "  <thead>\n",
       "    <tr style=\"text-align: right;\">\n",
       "      <th></th>\n",
       "      <th>brand</th>\n",
       "      <th>model</th>\n",
       "      <th>model_year</th>\n",
       "      <th>milage</th>\n",
       "      <th>fuel_type</th>\n",
       "      <th>engine</th>\n",
       "      <th>transmission</th>\n",
       "      <th>ext_col</th>\n",
       "      <th>int_col</th>\n",
       "      <th>accident</th>\n",
       "      <th>clean_title</th>\n",
       "      <th>price</th>\n",
       "    </tr>\n",
       "    <tr>\n",
       "      <th>Index</th>\n",
       "      <th></th>\n",
       "      <th></th>\n",
       "      <th></th>\n",
       "      <th></th>\n",
       "      <th></th>\n",
       "      <th></th>\n",
       "      <th></th>\n",
       "      <th></th>\n",
       "      <th></th>\n",
       "      <th></th>\n",
       "      <th></th>\n",
       "      <th></th>\n",
       "    </tr>\n",
       "  </thead>\n",
       "  <tbody>\n",
       "    <tr>\n",
       "      <th>2473</th>\n",
       "      <td>Ford</td>\n",
       "      <td>Explorer Platinum</td>\n",
       "      <td>2018</td>\n",
       "      <td>73,049 mi.</td>\n",
       "      <td>Gasoline</td>\n",
       "      <td>3.5L V6 24V GDI DOHC Twin Turbo</td>\n",
       "      <td>6-Speed Automatic</td>\n",
       "      <td>Gray</td>\n",
       "      <td>Ebony Black</td>\n",
       "      <td>At least 1 accident or damage reported</td>\n",
       "      <td>Yes</td>\n",
       "      <td>$30,510</td>\n",
       "    </tr>\n",
       "    <tr>\n",
       "      <th>1338</th>\n",
       "      <td>GMC</td>\n",
       "      <td>Yukon XL AT4</td>\n",
       "      <td>2023</td>\n",
       "      <td>9,980 mi.</td>\n",
       "      <td>Gasoline</td>\n",
       "      <td>355.0HP 5.3L 8 Cylinder Engine Gasoline Fuel</td>\n",
       "      <td>10-Speed A/T</td>\n",
       "      <td>Black</td>\n",
       "      <td>Black</td>\n",
       "      <td>None reported</td>\n",
       "      <td>Yes</td>\n",
       "      <td>$82,000</td>\n",
       "    </tr>\n",
       "    <tr>\n",
       "      <th>1613</th>\n",
       "      <td>BMW</td>\n",
       "      <td>M3 Base</td>\n",
       "      <td>2016</td>\n",
       "      <td>55,250 mi.</td>\n",
       "      <td>Gasoline</td>\n",
       "      <td>425.0HP 3.0L Straight 6 Cylinder Engine Gasoli...</td>\n",
       "      <td>6-Speed M/T</td>\n",
       "      <td>Blue</td>\n",
       "      <td>White</td>\n",
       "      <td>None reported</td>\n",
       "      <td>Yes</td>\n",
       "      <td>$49,999</td>\n",
       "    </tr>\n",
       "    <tr>\n",
       "      <th>1610</th>\n",
       "      <td>Lexus</td>\n",
       "      <td>IS 350 Base</td>\n",
       "      <td>2017</td>\n",
       "      <td>77,300 mi.</td>\n",
       "      <td>Gasoline</td>\n",
       "      <td>306.0HP 3.5L V6 Cylinder Engine Gasoline Fuel</td>\n",
       "      <td>6-Speed A/T</td>\n",
       "      <td>White</td>\n",
       "      <td>Black</td>\n",
       "      <td>None reported</td>\n",
       "      <td>Yes</td>\n",
       "      <td>$30,000</td>\n",
       "    </tr>\n",
       "    <tr>\n",
       "      <th>2600</th>\n",
       "      <td>Ford</td>\n",
       "      <td>Focus SE</td>\n",
       "      <td>2018</td>\n",
       "      <td>33,700 mi.</td>\n",
       "      <td>E85 Flex Fuel</td>\n",
       "      <td>160.0HP 2.0L 4 Cylinder Engine Flex Fuel Capab...</td>\n",
       "      <td>A/T</td>\n",
       "      <td>Gray</td>\n",
       "      <td>Black</td>\n",
       "      <td>At least 1 accident or damage reported</td>\n",
       "      <td>Yes</td>\n",
       "      <td>$12,000</td>\n",
       "    </tr>\n",
       "  </tbody>\n",
       "</table>\n",
       "</div>"
      ],
      "text/plain": [
       "       brand              model  model_year      milage      fuel_type  \\\n",
       "Index                                                                    \n",
       "2473    Ford  Explorer Platinum        2018  73,049 mi.       Gasoline   \n",
       "1338     GMC       Yukon XL AT4        2023   9,980 mi.       Gasoline   \n",
       "1613     BMW            M3 Base        2016  55,250 mi.       Gasoline   \n",
       "1610   Lexus        IS 350 Base        2017  77,300 mi.       Gasoline   \n",
       "2600    Ford           Focus SE        2018  33,700 mi.  E85 Flex Fuel   \n",
       "\n",
       "                                                  engine       transmission  \\\n",
       "Index                                                                         \n",
       "2473                     3.5L V6 24V GDI DOHC Twin Turbo  6-Speed Automatic   \n",
       "1338        355.0HP 5.3L 8 Cylinder Engine Gasoline Fuel       10-Speed A/T   \n",
       "1613   425.0HP 3.0L Straight 6 Cylinder Engine Gasoli...        6-Speed M/T   \n",
       "1610       306.0HP 3.5L V6 Cylinder Engine Gasoline Fuel        6-Speed A/T   \n",
       "2600   160.0HP 2.0L 4 Cylinder Engine Flex Fuel Capab...                A/T   \n",
       "\n",
       "      ext_col      int_col                                accident  \\\n",
       "Index                                                                \n",
       "2473     Gray  Ebony Black  At least 1 accident or damage reported   \n",
       "1338    Black        Black                           None reported   \n",
       "1613     Blue        White                           None reported   \n",
       "1610    White        Black                           None reported   \n",
       "2600     Gray        Black  At least 1 accident or damage reported   \n",
       "\n",
       "      clean_title    price  \n",
       "Index                       \n",
       "2473          Yes  $30,510  \n",
       "1338          Yes  $82,000  \n",
       "1613          Yes  $49,999  \n",
       "1610          Yes  $30,000  \n",
       "2600          Yes  $12,000  "
      ]
     },
     "execution_count": 178,
     "metadata": {},
     "output_type": "execute_result"
    }
   ],
   "source": [
    "train_df.head()"
   ]
  },
  {
   "cell_type": "markdown",
   "id": "db5e7452-9c83-4678-9876-321c2ee202aa",
   "metadata": {},
   "source": [
    "## Examining Data Quality"
   ]
  },
  {
   "cell_type": "code",
   "execution_count": 10,
   "id": "0cdb50d0-129d-41ff-8e80-534c9fca2290",
   "metadata": {},
   "outputs": [
    {
     "data": {
      "text/plain": [
       "Index(['brand', 'model', 'model_year', 'milage', 'fuel_type', 'engine',\n",
       "       'transmission', 'ext_col', 'int_col', 'accident', 'clean_title',\n",
       "       'price'],\n",
       "      dtype='object')"
      ]
     },
     "execution_count": 10,
     "metadata": {},
     "output_type": "execute_result"
    }
   ],
   "source": [
    "train_df.columns"
   ]
  },
  {
   "cell_type": "code",
   "execution_count": 11,
   "id": "91ab3758-d2ad-41a6-9c39-efbcc9ec8446",
   "metadata": {},
   "outputs": [
    {
     "data": {
      "text/plain": [
       "array(['Ford', 'GMC', 'BMW', 'Lexus', 'MINI', 'Maserati', 'Acura',\n",
       "       'Mercedes-Benz', 'Jaguar', 'Dodge', 'Chevrolet', 'Porsche',\n",
       "       'Toyota', 'Honda', 'Hyundai', 'Land', 'Mitsubishi', 'Kia', 'RAM',\n",
       "       'Audi', 'Subaru', 'Pontiac', 'Jeep', 'Genesis', 'Volkswagen',\n",
       "       'Cadillac', 'Nissan', 'Lamborghini', 'Tesla', 'McLaren', 'Lincoln',\n",
       "       'Volvo', 'Bentley', 'Mazda', 'Chrysler', 'INFINITI', 'Rivian',\n",
       "       'Scion', 'Buick', 'Aston', 'Alfa', 'Saturn', 'Lotus', 'Ferrari',\n",
       "       'FIAT', 'Rolls-Royce', 'Maybach', 'Plymouth', 'Hummer', 'Karma',\n",
       "       'Polestar', 'Lucid', 'smart', 'Suzuki', 'Mercury', 'Saab'],\n",
       "      dtype=object)"
      ]
     },
     "execution_count": 11,
     "metadata": {},
     "output_type": "execute_result"
    }
   ],
   "source": [
    "train_df['brand'].unique()"
   ]
  },
  {
   "cell_type": "code",
   "execution_count": 12,
   "id": "b4b750d6-7f95-4c36-acc0-dfbc0785867f",
   "metadata": {},
   "outputs": [
    {
     "data": {
      "text/plain": [
       "array(['Explorer Platinum', 'Yukon XL AT4', 'M3 Base', 'IS 350 Base',\n",
       "       'Focus SE', 'Countryman Cooper S ALL4', 'Ghibli S Q4',\n",
       "       'F-150 Tremor', 'TLX V6 Advance', 'AMG GT 53 Base', 'XJ8 L',\n",
       "       'Challenger SRT8 392', 'Camaro 1LT', 'Panamera 4',\n",
       "       'Tundra SR5 Access Cab', 'Accord Crosstour EX-L',\n",
       "       'Genesis Coupe 3.8 Track', 'F-TYPE R', 'C-Max Energi SE',\n",
       "       'Rover Range Rover Sport HST MHEV', 'AMG GT 63 S 4-Door',\n",
       "       '750 Li xDrive', 'Montero Limited', 'SL-Class SL500 Roadster',\n",
       "       'Yukon XL Denali', 'Explorer Limited', 'Sorento LX V6',\n",
       "       '1500 Rebel', 'Equus Signature', 'Prius Plug-in Base'],\n",
       "      dtype=object)"
      ]
     },
     "execution_count": 12,
     "metadata": {},
     "output_type": "execute_result"
    }
   ],
   "source": [
    "train_df['model'].unique()[:30]"
   ]
  },
  {
   "cell_type": "code",
   "execution_count": 13,
   "id": "add2c097-447b-4127-9573-6e84b1d5e25a",
   "metadata": {},
   "outputs": [
    {
     "data": {
      "text/plain": [
       "array([2018, 2023, 2016, 2017, 2019, 2021, 2006, 2012, 2011, 2005, 2010,\n",
       "       2020, 2004, 2022, 2014, 2015, 2013, 2002, 2001, 2007, 2009, 2008,\n",
       "       2000, 1996, 1999, 2003, 1995, 1997, 1993, 1994, 1974, 1998, 2024,\n",
       "       1992], dtype=int64)"
      ]
     },
     "execution_count": 13,
     "metadata": {},
     "output_type": "execute_result"
    }
   ],
   "source": [
    "train_df['model_year'].unique()"
   ]
  },
  {
   "cell_type": "code",
   "execution_count": 14,
   "id": "2ff7a105-e4e2-41fc-8179-fc131739d352",
   "metadata": {},
   "outputs": [
    {
     "data": {
      "text/plain": [
       "array(['73,049 mi.', '9,980 mi.', '55,250 mi.', '77,300 mi.',\n",
       "       '33,700 mi.', '95,070 mi.', '49,750 mi.', '5,500 mi.',\n",
       "       '25,779 mi.', '17,994 mi.', '78,049 mi.', '74,000 mi.',\n",
       "       '85,000 mi.', '209,500 mi.', '145,000 mi.', '127,500 mi.',\n",
       "       '39,900 mi.', '67,482 mi.', '52,000 mi.', '9,500 mi.',\n",
       "       '103,000 mi.', '46,000 mi.', '48,306 mi.', '17,500 mi.',\n",
       "       '86,204 mi.', '63,875 mi.', '72,000 mi.', '106,000 mi.',\n",
       "       '98,700 mi.', '26,000 mi.'], dtype=object)"
      ]
     },
     "execution_count": 14,
     "metadata": {},
     "output_type": "execute_result"
    }
   ],
   "source": [
    "train_df['milage'].unique()[:30]"
   ]
  },
  {
   "cell_type": "code",
   "execution_count": 15,
   "id": "8d3fa868-953b-45ff-b00f-ae55eb5c1ae3",
   "metadata": {},
   "outputs": [
    {
     "data": {
      "text/plain": [
       "array(['Gasoline', 'E85 Flex Fuel', '–', 'Plug-In Hybrid', 'Hybrid', nan,\n",
       "       'Diesel', 'not supported'], dtype=object)"
      ]
     },
     "execution_count": 15,
     "metadata": {},
     "output_type": "execute_result"
    }
   ],
   "source": [
    "train_df['fuel_type'].unique()"
   ]
  },
  {
   "cell_type": "code",
   "execution_count": 16,
   "id": "ce8c0b84-c8aa-455b-8ad7-678dc05b082b",
   "metadata": {},
   "outputs": [
    {
     "data": {
      "text/plain": [
       "fuel_type\n",
       "Gasoline          2643\n",
       "Hybrid             158\n",
       "E85 Flex Fuel      117\n",
       "Diesel              95\n",
       "–                   35\n",
       "Plug-In Hybrid      30\n",
       "not supported        2\n",
       "Name: count, dtype: int64"
      ]
     },
     "execution_count": 16,
     "metadata": {},
     "output_type": "execute_result"
    }
   ],
   "source": [
    "train_df['fuel_type'].value_counts()"
   ]
  },
  {
   "cell_type": "code",
   "execution_count": 17,
   "id": "250fa520-229f-4ad8-ae21-f4923ad7af41",
   "metadata": {},
   "outputs": [
    {
     "data": {
      "text/plain": [
       "array(['300.0HP 3.7L V6 Cylinder Engine Flex Fuel Capability',\n",
       "       '3.8L V6 24V GDI DOHC', '3.5 Liter DOHC',\n",
       "       '354.0HP 3.5L V6 Cylinder Engine Gas/Electric Hybrid',\n",
       "       '2.0L I4 16V GDI DOHC Turbo', '2.4 Liter',\n",
       "       '292.0HP 2.0L 4 Cylinder Engine Gasoline Fuel',\n",
       "       '282.0HP 4.4L 8 Cylinder Engine Gasoline Fuel',\n",
       "       '311.0HP 3.5L V6 Cylinder Engine Gasoline Fuel',\n",
       "       '534.0HP Electric Motor Electric Fuel System', 'V6',\n",
       "       '715.0HP 5.2L 12 Cylinder Engine Gasoline Fuel',\n",
       "       '382.0HP 3.0L Straight 6 Cylinder Engine Gasoline Fuel',\n",
       "       '400.0HP 3.0L V6 Cylinder Engine Gasoline Fuel',\n",
       "       '2.0 Liter Supercharged',\n",
       "       '375.0HP 5.0L 8 Cylinder Engine Gasoline Fuel',\n",
       "       '305.0HP 3.6L V6 Cylinder Engine Gasoline Fuel',\n",
       "       '287.0HP 3.5L V6 Cylinder Engine Gasoline Fuel',\n",
       "       '550.0HP 5.0L 8 Cylinder Engine Gasoline Fuel',\n",
       "       '375.0HP 3.5L V6 Cylinder Engine Gasoline Fuel',\n",
       "       '120.0HP 2.2L 4 Cylinder Engine Flex Fuel Capability',\n",
       "       '3.0 Liter Turbo', '3.5L V6 24V PDI DOHC Twin Turbo',\n",
       "       '355.0HP 5.3L 8 Cylinder Engine Gasoline Fuel',\n",
       "       '276.0HP 2.0L 4 Cylinder Engine Gasoline Fuel', '1.8 Liter',\n",
       "       '382.0HP 2.0L 4 Cylinder Engine Gasoline Fuel',\n",
       "       '445.0HP 4.4L 8 Cylinder Engine Gasoline Fuel',\n",
       "       '2.0L I4 16V GDI DOHC Turbo Flexible Fuel',\n",
       "       '362.0HP 3.0L V6 Cylinder Engine Gasoline Fuel'], dtype=object)"
      ]
     },
     "execution_count": 17,
     "metadata": {},
     "output_type": "execute_result"
    }
   ],
   "source": [
    "df['engine'].unique()[:30]"
   ]
  },
  {
   "cell_type": "code",
   "execution_count": 18,
   "id": "dae880f9-5bb7-44a0-a428-93d8057cdbf3",
   "metadata": {},
   "outputs": [
    {
     "data": {
      "text/plain": [
       "array(['6-Speed A/T', '8-Speed Automatic', 'Automatic', '7-Speed A/T',\n",
       "       'F', 'A/T', '8-Speed A/T', 'Transmission w/Dual Shift Mode',\n",
       "       '9-Speed Automatic', '6-Speed M/T', '10-Speed A/T', '9-Speed A/T',\n",
       "       '5-Speed A/T', '1-Speed A/T', 'Automatic CVT',\n",
       "       '7-Speed Automatic with Auto-Shift', 'CVT-F', 'M/T',\n",
       "       '6-Speed Automatic with Auto-Shift', '10-Speed Automatic',\n",
       "       'CVT Transmission', '4-Speed A/T', '6-Speed Automatic',\n",
       "       '4-Speed Automatic', '7-Speed M/T',\n",
       "       '8-Speed Automatic with Auto-Shift', '5-Speed Automatic',\n",
       "       '8-SPEED AT', '1-Speed Automatic', '5-Speed M/T', 'Manual',\n",
       "       '6-Speed Manual', 'Variable', '2', '7-Speed Manual',\n",
       "       'Automatic, 9-Spd 9G-Tronic', 'Automatic, 8-Spd',\n",
       "       'Automatic, 8-Spd Sport w/Sport & Manual Modes', '–',\n",
       "       'Auto, 6-Spd w/CmdShft', 'Transmission Overdrive Switch',\n",
       "       '7-Speed Automatic', 'Automatic, 8-Spd PDK Dual-Clutch',\n",
       "       'Automatic, 8-Spd M STEPTRONIC w/Drivelogic, Sport & Manual Modes',\n",
       "       'Automatic, 8-Spd Dual-Clutch', '6-Speed',\n",
       "       'Single-Speed Fixed Gear', 'Automatic, 10-Spd',\n",
       "       '2-Speed Automatic', '7-Speed',\n",
       "       'Automatic, 7-Spd S tronic Dual-Clutch', 'Manual, 6-Spd',\n",
       "       '6-Speed Electronically Controlled Automatic with O',\n",
       "       '6 Speed At/Mt', '8-SPEED A/T',\n",
       "       '10-Speed Automatic with Overdrive', '7-Speed DCT Automatic',\n",
       "       '9-Speed Automatic with Auto-Shift',\n",
       "       'SCHEDULED FOR OR IN PRODUCTION', '2-Speed A/T', '6 Speed Mt',\n",
       "       '8-Speed Manual'], dtype=object)"
      ]
     },
     "execution_count": 18,
     "metadata": {},
     "output_type": "execute_result"
    }
   ],
   "source": [
    "df['transmission'].unique()"
   ]
  },
  {
   "cell_type": "code",
   "execution_count": 19,
   "id": "a68828aa-d412-47ff-8910-60aeb63c8480",
   "metadata": {},
   "outputs": [
    {
     "data": {
      "text/plain": [
       "array(['Black', 'Moonlight Cloud', 'Blue', 'Glacier White Metallic',\n",
       "       'Silver', 'Green', 'Fuji White', 'Yellow', 'White', 'Gray',\n",
       "       'Purple', 'Iconic Silver Metallic', 'Mythos Black Metallic', 'Red',\n",
       "       'Gold', 'Lunar Silver Metallic', 'Mountain Air Metallic',\n",
       "       'Caspian Blue', 'Tango Red Metallic', '–', 'Alpine White',\n",
       "       'BLU ELEOS', 'Horizon Blue', 'Granite Crystal Clearcoat Metallic',\n",
       "       'Orange', 'Beige', 'Rift Metallic', 'Atomic Silver',\n",
       "       'Summit White', 'Imperial Blue Metallic',\n",
       "       'Magnetic Gray Clearcoat', 'Bright White Clearcoat',\n",
       "       'Typhoon Gray', 'Crystal Black Silica', 'Arctic Gray Metallic',\n",
       "       'Selenite Grey Metallic', 'Ultra Black', 'Lunare White Metallic',\n",
       "       'Hyper Red', 'Daytona Gray Pearl Effect', 'Vik Black',\n",
       "       'Pacific Blue Metallic', 'Obsidian Black Metallic',\n",
       "       'Silver Ice Metallic', 'Sonic Silver Metallic', 'Nightfall Mica',\n",
       "       'Apex Blue', 'Go Mango!', 'Ingot Silver Metallic',\n",
       "       'Midnight Black Metallic'], dtype=object)"
      ]
     },
     "execution_count": 19,
     "metadata": {},
     "output_type": "execute_result"
    }
   ],
   "source": [
    "df['ext_col'].unique()[:50]"
   ]
  },
  {
   "cell_type": "code",
   "execution_count": 20,
   "id": "cafa58d1-a978-4d8f-b5b8-f66c356c1251",
   "metadata": {},
   "outputs": [
    {
     "data": {
      "text/plain": [
       "array(['Black', 'Gray', 'Ebony.', 'Green', 'Pimento / Ebony', 'Brown',\n",
       "       'White', '–', 'Beige', 'Jet Black', 'Light Gray', 'Anthracite',\n",
       "       'Red', 'Nero Ade', 'Blue', 'Charcoal', 'Rioja Red',\n",
       "       'Canberra Beige/Black', 'Roast', 'Ivory / Ebony',\n",
       "       'Silk Beige/Black', 'Medium Pewter', 'Ice', 'Black / Express Red',\n",
       "       'Obsidian Black', 'Ebony', 'Orange', 'Caramel', 'Orchid',\n",
       "       'Graphite', 'Tan/Ebony', 'Cappuccino', 'Nero', 'Sahara Tan',\n",
       "       'BLACK', 'Hotspur', 'Blk', 'Black Onyx', 'Nougat Brown',\n",
       "       'Titan Black', 'Oyster W/Contrast', 'Silver',\n",
       "       'Macchiato Beige/Black', 'Sand Beige', 'Navy Pier', 'WHITE',\n",
       "       'Parchment.', 'Sarder Brown', 'Grace White', 'Cloud'], dtype=object)"
      ]
     },
     "execution_count": 20,
     "metadata": {},
     "output_type": "execute_result"
    }
   ],
   "source": [
    "df['int_col'].unique()[:50]"
   ]
  },
  {
   "cell_type": "code",
   "execution_count": 21,
   "id": "703b9ef5-48e0-4884-80bd-d8ba6b5f4027",
   "metadata": {},
   "outputs": [
    {
     "name": "stdout",
     "output_type": "stream",
     "text": [
      "unique exterior color count: 319\n",
      "unique interior color count: 156\n"
     ]
    }
   ],
   "source": [
    "print(f\"unique exterior color count: {len(df['ext_col'].unique())}\\nunique interior color count: {len(df['int_col'].unique())}\")"
   ]
  },
  {
   "cell_type": "code",
   "execution_count": 22,
   "id": "af611280-d208-4623-8bf0-6d03dbc40b42",
   "metadata": {},
   "outputs": [
    {
     "data": {
      "text/plain": [
       "array(['At least 1 accident or damage reported', 'None reported', nan],\n",
       "      dtype=object)"
      ]
     },
     "execution_count": 22,
     "metadata": {},
     "output_type": "execute_result"
    }
   ],
   "source": [
    "df['accident'].unique()"
   ]
  },
  {
   "cell_type": "code",
   "execution_count": 23,
   "id": "362add09-5dcb-4d9c-991e-a28caee66dda",
   "metadata": {},
   "outputs": [
    {
     "data": {
      "text/plain": [
       "accident\n",
       "None reported                             2910\n",
       "At least 1 accident or damage reported     986\n",
       "Name: count, dtype: int64"
      ]
     },
     "execution_count": 23,
     "metadata": {},
     "output_type": "execute_result"
    }
   ],
   "source": [
    "df['accident'].value_counts()"
   ]
  },
  {
   "cell_type": "code",
   "execution_count": 24,
   "id": "9df85d82-2ed5-4c77-a0e8-4eac926cd091",
   "metadata": {},
   "outputs": [
    {
     "data": {
      "text/plain": [
       "array(['Yes', nan], dtype=object)"
      ]
     },
     "execution_count": 24,
     "metadata": {},
     "output_type": "execute_result"
    }
   ],
   "source": [
    "df['clean_title'].unique()"
   ]
  },
  {
   "cell_type": "code",
   "execution_count": 25,
   "id": "f4a91c1e-e9ef-4007-9f52-34e2f2141b27",
   "metadata": {},
   "outputs": [
    {
     "data": {
      "text/plain": [
       "clean_title\n",
       "Yes    3413\n",
       "Name: count, dtype: int64"
      ]
     },
     "execution_count": 25,
     "metadata": {},
     "output_type": "execute_result"
    }
   ],
   "source": [
    "df['clean_title'].value_counts()"
   ]
  },
  {
   "cell_type": "code",
   "execution_count": 26,
   "id": "db5edeb4-5fe1-4d93-b83f-1132853df48f",
   "metadata": {},
   "outputs": [
    {
     "data": {
      "text/plain": [
       "array(['$10,300', '$38,005', '$54,598', '$15,500', '$34,999', '$14,798',\n",
       "       '$31,000', '$7,300', '$41,927', '$69,950', '$73,897', '$184,606',\n",
       "       '$53,500', '$62,000', '$47,998', '$29,990', '$250,000', '$16,800',\n",
       "       '$11,000', '$68,750', '$60,000', '$4,500', '$38,598', '$58,504',\n",
       "       '$61,000', '$32,300', '$13,998', '$59,995', '$25,700', '$21,375'],\n",
       "      dtype=object)"
      ]
     },
     "execution_count": 26,
     "metadata": {},
     "output_type": "execute_result"
    }
   ],
   "source": [
    "df['price'].unique()[:30]"
   ]
  },
  {
   "cell_type": "markdown",
   "id": "082643e3-36e2-4e53-91d0-4975bcd9bca2",
   "metadata": {},
   "source": [
    " "
   ]
  },
  {
   "cell_type": "markdown",
   "id": "6bcfd515-37dd-4b0f-b917-4401eb2c6bed",
   "metadata": {},
   "source": [
    "**_Quality of the Data_**\n",
    "* inconsistent model values  (feature eleminating - cause no pattern in feature)\n",
    "* need to convert model_year column to car_age ✔️\n",
    "* milage has ',' and ' mi.' included ✔️\n",
    "* milage has object as datatype need to convert to int ✔️\n",
    "* fuel_type contains '-', 'not supported' values ✔️\n",
    "* multiple features can be engineered from engine feature  ('engine_size', 'horsepower', 'cylinder_count')\n",
    "* need to convert transmission feature into categorical feature (automatic, manual, unknown) ✔️\n",
    "* need to reduce ext_col count into fewer categories (like blue, red, black, white, etc.) ✔️\n",
    "* need to reduce int_col count into fewer categories ✔️\n",
    "* price column has ',' and '$' included ✔️\n",
    "* price column should be numeric ✔️\n",
    "* missing values: fuel_type, accident, clean_title\n",
    "* engineered features ('engine_size', 'horsepower', 'cylinder_count') have missing values"
   ]
  },
  {
   "cell_type": "markdown",
   "id": "007a4aab-c9e4-42e1-9c52-8248680023e0",
   "metadata": {},
   "source": [
    "## Data Cleaning"
   ]
  },
  {
   "cell_type": "code",
   "execution_count": 179,
   "id": "04441414-c62d-4d98-9c0d-adbd63db17ce",
   "metadata": {},
   "outputs": [],
   "source": [
    "import datetime\n",
    "current_year = datetime.datetime.now().year\n",
    "train_df['car_age'] = current_year - train_df['model_year']\n",
    "train_df = train_df.drop('model_year',axis=1)"
   ]
  },
  {
   "cell_type": "code",
   "execution_count": 180,
   "id": "c309f3b4-57db-4e7f-ba8a-45918849ae0f",
   "metadata": {},
   "outputs": [],
   "source": [
    "train_df['milage'] = train_df['milage'].str.slice(0,-4).str.replace(\",\",\"\").astype(int)"
   ]
  },
  {
   "cell_type": "code",
   "execution_count": 181,
   "id": "65ef2e0f-0242-4786-93d7-71b284873b6d",
   "metadata": {},
   "outputs": [
    {
     "data": {
      "text/plain": [
       "array(['Gasoline', 'E85 Flex Fuel', '–', 'Plug-In Hybrid', 'Hybrid', nan,\n",
       "       'Diesel', 'not supported'], dtype=object)"
      ]
     },
     "execution_count": 181,
     "metadata": {},
     "output_type": "execute_result"
    }
   ],
   "source": [
    "train_df['fuel_type'].unique()"
   ]
  },
  {
   "cell_type": "code",
   "execution_count": 182,
   "id": "bc8775c8-6b9d-4adc-8752-b0a186317c27",
   "metadata": {},
   "outputs": [],
   "source": [
    "train_df['fuel_type'] = train_df['fuel_type'].apply(lambda x: \"Unknown\" if x in ['–','not supported'] else (\"Hybrid\" if x=='Plug-In Hybrid' else x))"
   ]
  },
  {
   "cell_type": "code",
   "execution_count": 183,
   "id": "cbfa6b92-2256-4f1e-b054-e0866d52ddd5",
   "metadata": {},
   "outputs": [],
   "source": [
    "automatic = [\"a/t\",\"cvt\",'dual-clutch','auto-shift','automatic']\n",
    "manual = ['m/t','manual']\n",
    "def clean_transmission(transmission):\n",
    "    if any(x in transmission.lower() for x in automatic):\n",
    "        transmission = \"Automatic\"\n",
    "    elif any(x in transmission.lower() for x in manual):\n",
    "        transmission = \"Manual\"\n",
    "    else:\n",
    "        transmission = \"Unknown\"\n",
    "        \n",
    "    return transmission"
   ]
  },
  {
   "cell_type": "code",
   "execution_count": 184,
   "id": "7947f04d-5b0e-410a-bec4-c92884bb90f2",
   "metadata": {},
   "outputs": [],
   "source": [
    "train_df['transmission'] = train_df['transmission'].apply(clean_transmission)"
   ]
  },
  {
   "cell_type": "code",
   "execution_count": 185,
   "id": "c4b55a52-36c5-4071-a185-440f6e45841d",
   "metadata": {},
   "outputs": [],
   "source": [
    "colors = ['black','blue','red','white','silver','green','gray','yellow','purple','gold','orange','brown','pink', 'grey']  \n",
    "#most common colors are listed first\n",
    "def clean_color(color):\n",
    "    for c in colors:\n",
    "        if c in color.lower():\n",
    "            cleaned_color = c.capitalize()\n",
    "            break\n",
    "        else:\n",
    "            cleaned_color = \"Other\"\n",
    "            \n",
    "    if cleaned_color=='Gray':\n",
    "        return \"Grey\"\n",
    "    \n",
    "    return cleaned_color"
   ]
  },
  {
   "cell_type": "code",
   "execution_count": 186,
   "id": "29cd83f9-8b2f-4e1a-b3ee-813a3de741e3",
   "metadata": {},
   "outputs": [],
   "source": [
    "train_df['ext_col'] = train_df['ext_col'].apply(clean_color)"
   ]
  },
  {
   "cell_type": "code",
   "execution_count": 187,
   "id": "23d0c768-1195-4130-b0a6-bf2518c6a7bb",
   "metadata": {},
   "outputs": [],
   "source": [
    "train_df['int_col'] = train_df['int_col'].apply(clean_color)"
   ]
  },
  {
   "cell_type": "code",
   "execution_count": 188,
   "id": "645aa9ef-1e21-4912-9b43-97ff54c29eeb",
   "metadata": {},
   "outputs": [],
   "source": [
    "train_df['accident'] = train_df['accident'].apply(lambda x: \"Accident reported\" if x==\"At least 1 accident or damage reported\" else x)"
   ]
  },
  {
   "cell_type": "code",
   "execution_count": 189,
   "id": "397f5c83-4b94-4a1e-87c9-3188a35f32cd",
   "metadata": {},
   "outputs": [],
   "source": [
    "train_df['price'] = train_df['price'].str.slice(1,).str.replace(\",\",\"\").astype(int)"
   ]
  },
  {
   "cell_type": "code",
   "execution_count": 190,
   "id": "a173e88b-5a2a-444f-8c2b-6068b36711b0",
   "metadata": {},
   "outputs": [
    {
     "data": {
      "text/html": [
       "<div>\n",
       "<style scoped>\n",
       "    .dataframe tbody tr th:only-of-type {\n",
       "        vertical-align: middle;\n",
       "    }\n",
       "\n",
       "    .dataframe tbody tr th {\n",
       "        vertical-align: top;\n",
       "    }\n",
       "\n",
       "    .dataframe thead th {\n",
       "        text-align: right;\n",
       "    }\n",
       "</style>\n",
       "<table border=\"1\" class=\"dataframe\">\n",
       "  <thead>\n",
       "    <tr style=\"text-align: right;\">\n",
       "      <th></th>\n",
       "      <th>brand</th>\n",
       "      <th>model</th>\n",
       "      <th>milage</th>\n",
       "      <th>fuel_type</th>\n",
       "      <th>engine</th>\n",
       "      <th>transmission</th>\n",
       "      <th>ext_col</th>\n",
       "      <th>int_col</th>\n",
       "      <th>accident</th>\n",
       "      <th>clean_title</th>\n",
       "      <th>price</th>\n",
       "      <th>car_age</th>\n",
       "    </tr>\n",
       "    <tr>\n",
       "      <th>Index</th>\n",
       "      <th></th>\n",
       "      <th></th>\n",
       "      <th></th>\n",
       "      <th></th>\n",
       "      <th></th>\n",
       "      <th></th>\n",
       "      <th></th>\n",
       "      <th></th>\n",
       "      <th></th>\n",
       "      <th></th>\n",
       "      <th></th>\n",
       "      <th></th>\n",
       "    </tr>\n",
       "  </thead>\n",
       "  <tbody>\n",
       "    <tr>\n",
       "      <th>2473</th>\n",
       "      <td>Ford</td>\n",
       "      <td>Explorer Platinum</td>\n",
       "      <td>73049</td>\n",
       "      <td>Gasoline</td>\n",
       "      <td>3.5L V6 24V GDI DOHC Twin Turbo</td>\n",
       "      <td>Automatic</td>\n",
       "      <td>Grey</td>\n",
       "      <td>Black</td>\n",
       "      <td>Accident reported</td>\n",
       "      <td>Yes</td>\n",
       "      <td>30510</td>\n",
       "      <td>6</td>\n",
       "    </tr>\n",
       "    <tr>\n",
       "      <th>1338</th>\n",
       "      <td>GMC</td>\n",
       "      <td>Yukon XL AT4</td>\n",
       "      <td>9980</td>\n",
       "      <td>Gasoline</td>\n",
       "      <td>355.0HP 5.3L 8 Cylinder Engine Gasoline Fuel</td>\n",
       "      <td>Automatic</td>\n",
       "      <td>Black</td>\n",
       "      <td>Black</td>\n",
       "      <td>None reported</td>\n",
       "      <td>Yes</td>\n",
       "      <td>82000</td>\n",
       "      <td>1</td>\n",
       "    </tr>\n",
       "    <tr>\n",
       "      <th>1613</th>\n",
       "      <td>BMW</td>\n",
       "      <td>M3 Base</td>\n",
       "      <td>55250</td>\n",
       "      <td>Gasoline</td>\n",
       "      <td>425.0HP 3.0L Straight 6 Cylinder Engine Gasoli...</td>\n",
       "      <td>Manual</td>\n",
       "      <td>Blue</td>\n",
       "      <td>White</td>\n",
       "      <td>None reported</td>\n",
       "      <td>Yes</td>\n",
       "      <td>49999</td>\n",
       "      <td>8</td>\n",
       "    </tr>\n",
       "    <tr>\n",
       "      <th>1610</th>\n",
       "      <td>Lexus</td>\n",
       "      <td>IS 350 Base</td>\n",
       "      <td>77300</td>\n",
       "      <td>Gasoline</td>\n",
       "      <td>306.0HP 3.5L V6 Cylinder Engine Gasoline Fuel</td>\n",
       "      <td>Automatic</td>\n",
       "      <td>White</td>\n",
       "      <td>Black</td>\n",
       "      <td>None reported</td>\n",
       "      <td>Yes</td>\n",
       "      <td>30000</td>\n",
       "      <td>7</td>\n",
       "    </tr>\n",
       "    <tr>\n",
       "      <th>2600</th>\n",
       "      <td>Ford</td>\n",
       "      <td>Focus SE</td>\n",
       "      <td>33700</td>\n",
       "      <td>E85 Flex Fuel</td>\n",
       "      <td>160.0HP 2.0L 4 Cylinder Engine Flex Fuel Capab...</td>\n",
       "      <td>Automatic</td>\n",
       "      <td>Grey</td>\n",
       "      <td>Black</td>\n",
       "      <td>Accident reported</td>\n",
       "      <td>Yes</td>\n",
       "      <td>12000</td>\n",
       "      <td>6</td>\n",
       "    </tr>\n",
       "  </tbody>\n",
       "</table>\n",
       "</div>"
      ],
      "text/plain": [
       "       brand              model  milage      fuel_type  \\\n",
       "Index                                                    \n",
       "2473    Ford  Explorer Platinum   73049       Gasoline   \n",
       "1338     GMC       Yukon XL AT4    9980       Gasoline   \n",
       "1613     BMW            M3 Base   55250       Gasoline   \n",
       "1610   Lexus        IS 350 Base   77300       Gasoline   \n",
       "2600    Ford           Focus SE   33700  E85 Flex Fuel   \n",
       "\n",
       "                                                  engine transmission ext_col  \\\n",
       "Index                                                                           \n",
       "2473                     3.5L V6 24V GDI DOHC Twin Turbo    Automatic    Grey   \n",
       "1338        355.0HP 5.3L 8 Cylinder Engine Gasoline Fuel    Automatic   Black   \n",
       "1613   425.0HP 3.0L Straight 6 Cylinder Engine Gasoli...       Manual    Blue   \n",
       "1610       306.0HP 3.5L V6 Cylinder Engine Gasoline Fuel    Automatic   White   \n",
       "2600   160.0HP 2.0L 4 Cylinder Engine Flex Fuel Capab...    Automatic    Grey   \n",
       "\n",
       "      int_col           accident clean_title  price  car_age  \n",
       "Index                                                         \n",
       "2473    Black  Accident reported         Yes  30510        6  \n",
       "1338    Black      None reported         Yes  82000        1  \n",
       "1613    White      None reported         Yes  49999        8  \n",
       "1610    Black      None reported         Yes  30000        7  \n",
       "2600    Black  Accident reported         Yes  12000        6  "
      ]
     },
     "execution_count": 190,
     "metadata": {},
     "output_type": "execute_result"
    }
   ],
   "source": [
    "train_df.head()"
   ]
  },
  {
   "cell_type": "markdown",
   "id": "848e814b-372e-4287-a3e2-b8f6cf060545",
   "metadata": {},
   "source": [
    "## Feature Engineering"
   ]
  },
  {
   "cell_type": "code",
   "execution_count": 191,
   "id": "4b1fc98f-e74b-4cf1-bf05-dcdc317ee396",
   "metadata": {},
   "outputs": [],
   "source": [
    "train_df['horsepower'] = train_df['engine'].str.extract(r'(\\d+\\.?\\d*)HP').astype(float)"
   ]
  },
  {
   "cell_type": "code",
   "execution_count": 192,
   "id": "93f6cca5-9816-472c-8658-a9820d09d339",
   "metadata": {},
   "outputs": [],
   "source": [
    "train_df['engine_size'] = train_df['engine'].str.extract(r'(\\d+\\.?\\d*)L').astype(float)"
   ]
  },
  {
   "cell_type": "code",
   "execution_count": 193,
   "id": "8defc584-9bef-4224-b3dc-54e0811513a3",
   "metadata": {},
   "outputs": [],
   "source": [
    "train_df['cylinder_count'] = train_df['engine'].str.extract(r'(\\d+\\.?\\d*) Cylinder').astype(float)"
   ]
  },
  {
   "cell_type": "code",
   "execution_count": 194,
   "id": "088f51c0-4bfc-48c3-9414-8c14e70d3353",
   "metadata": {},
   "outputs": [
    {
     "data": {
      "text/html": [
       "<div>\n",
       "<style scoped>\n",
       "    .dataframe tbody tr th:only-of-type {\n",
       "        vertical-align: middle;\n",
       "    }\n",
       "\n",
       "    .dataframe tbody tr th {\n",
       "        vertical-align: top;\n",
       "    }\n",
       "\n",
       "    .dataframe thead th {\n",
       "        text-align: right;\n",
       "    }\n",
       "</style>\n",
       "<table border=\"1\" class=\"dataframe\">\n",
       "  <thead>\n",
       "    <tr style=\"text-align: right;\">\n",
       "      <th></th>\n",
       "      <th>brand</th>\n",
       "      <th>model</th>\n",
       "      <th>milage</th>\n",
       "      <th>fuel_type</th>\n",
       "      <th>engine</th>\n",
       "      <th>transmission</th>\n",
       "      <th>ext_col</th>\n",
       "      <th>int_col</th>\n",
       "      <th>accident</th>\n",
       "      <th>clean_title</th>\n",
       "      <th>price</th>\n",
       "      <th>car_age</th>\n",
       "      <th>horsepower</th>\n",
       "      <th>engine_size</th>\n",
       "      <th>cylinder_count</th>\n",
       "    </tr>\n",
       "    <tr>\n",
       "      <th>Index</th>\n",
       "      <th></th>\n",
       "      <th></th>\n",
       "      <th></th>\n",
       "      <th></th>\n",
       "      <th></th>\n",
       "      <th></th>\n",
       "      <th></th>\n",
       "      <th></th>\n",
       "      <th></th>\n",
       "      <th></th>\n",
       "      <th></th>\n",
       "      <th></th>\n",
       "      <th></th>\n",
       "      <th></th>\n",
       "      <th></th>\n",
       "    </tr>\n",
       "  </thead>\n",
       "  <tbody>\n",
       "    <tr>\n",
       "      <th>2473</th>\n",
       "      <td>Ford</td>\n",
       "      <td>Explorer Platinum</td>\n",
       "      <td>73049</td>\n",
       "      <td>Gasoline</td>\n",
       "      <td>3.5L V6 24V GDI DOHC Twin Turbo</td>\n",
       "      <td>Automatic</td>\n",
       "      <td>Grey</td>\n",
       "      <td>Black</td>\n",
       "      <td>Accident reported</td>\n",
       "      <td>Yes</td>\n",
       "      <td>30510</td>\n",
       "      <td>6</td>\n",
       "      <td>NaN</td>\n",
       "      <td>3.5</td>\n",
       "      <td>NaN</td>\n",
       "    </tr>\n",
       "    <tr>\n",
       "      <th>1338</th>\n",
       "      <td>GMC</td>\n",
       "      <td>Yukon XL AT4</td>\n",
       "      <td>9980</td>\n",
       "      <td>Gasoline</td>\n",
       "      <td>355.0HP 5.3L 8 Cylinder Engine Gasoline Fuel</td>\n",
       "      <td>Automatic</td>\n",
       "      <td>Black</td>\n",
       "      <td>Black</td>\n",
       "      <td>None reported</td>\n",
       "      <td>Yes</td>\n",
       "      <td>82000</td>\n",
       "      <td>1</td>\n",
       "      <td>355.0</td>\n",
       "      <td>5.3</td>\n",
       "      <td>8.0</td>\n",
       "    </tr>\n",
       "  </tbody>\n",
       "</table>\n",
       "</div>"
      ],
      "text/plain": [
       "      brand              model  milage fuel_type  \\\n",
       "Index                                              \n",
       "2473   Ford  Explorer Platinum   73049  Gasoline   \n",
       "1338    GMC       Yukon XL AT4    9980  Gasoline   \n",
       "\n",
       "                                             engine transmission ext_col  \\\n",
       "Index                                                                      \n",
       "2473                3.5L V6 24V GDI DOHC Twin Turbo    Automatic    Grey   \n",
       "1338   355.0HP 5.3L 8 Cylinder Engine Gasoline Fuel    Automatic   Black   \n",
       "\n",
       "      int_col           accident clean_title  price  car_age  horsepower  \\\n",
       "Index                                                                      \n",
       "2473    Black  Accident reported         Yes  30510        6         NaN   \n",
       "1338    Black      None reported         Yes  82000        1       355.0   \n",
       "\n",
       "       engine_size  cylinder_count  \n",
       "Index                               \n",
       "2473           3.5             NaN  \n",
       "1338           5.3             8.0  "
      ]
     },
     "execution_count": 194,
     "metadata": {},
     "output_type": "execute_result"
    }
   ],
   "source": [
    "train_df.head(2)"
   ]
  },
  {
   "cell_type": "code",
   "execution_count": 195,
   "id": "15856ccb-9e51-4084-9ad8-cd0b8340d2eb",
   "metadata": {},
   "outputs": [],
   "source": [
    "cleaned_train_df = train_df.drop(['model','engine'],axis=1).copy()"
   ]
  },
  {
   "cell_type": "code",
   "execution_count": 196,
   "id": "c70f1595-0790-4ffc-8243-4cb94fcebd23",
   "metadata": {},
   "outputs": [
    {
     "data": {
      "text/html": [
       "<div>\n",
       "<style scoped>\n",
       "    .dataframe tbody tr th:only-of-type {\n",
       "        vertical-align: middle;\n",
       "    }\n",
       "\n",
       "    .dataframe tbody tr th {\n",
       "        vertical-align: top;\n",
       "    }\n",
       "\n",
       "    .dataframe thead th {\n",
       "        text-align: right;\n",
       "    }\n",
       "</style>\n",
       "<table border=\"1\" class=\"dataframe\">\n",
       "  <thead>\n",
       "    <tr style=\"text-align: right;\">\n",
       "      <th></th>\n",
       "      <th>brand</th>\n",
       "      <th>milage</th>\n",
       "      <th>fuel_type</th>\n",
       "      <th>transmission</th>\n",
       "      <th>ext_col</th>\n",
       "      <th>int_col</th>\n",
       "      <th>accident</th>\n",
       "      <th>clean_title</th>\n",
       "      <th>price</th>\n",
       "      <th>car_age</th>\n",
       "      <th>horsepower</th>\n",
       "      <th>engine_size</th>\n",
       "      <th>cylinder_count</th>\n",
       "    </tr>\n",
       "    <tr>\n",
       "      <th>Index</th>\n",
       "      <th></th>\n",
       "      <th></th>\n",
       "      <th></th>\n",
       "      <th></th>\n",
       "      <th></th>\n",
       "      <th></th>\n",
       "      <th></th>\n",
       "      <th></th>\n",
       "      <th></th>\n",
       "      <th></th>\n",
       "      <th></th>\n",
       "      <th></th>\n",
       "      <th></th>\n",
       "    </tr>\n",
       "  </thead>\n",
       "  <tbody>\n",
       "    <tr>\n",
       "      <th>2473</th>\n",
       "      <td>Ford</td>\n",
       "      <td>73049</td>\n",
       "      <td>Gasoline</td>\n",
       "      <td>Automatic</td>\n",
       "      <td>Grey</td>\n",
       "      <td>Black</td>\n",
       "      <td>Accident reported</td>\n",
       "      <td>Yes</td>\n",
       "      <td>30510</td>\n",
       "      <td>6</td>\n",
       "      <td>NaN</td>\n",
       "      <td>3.5</td>\n",
       "      <td>NaN</td>\n",
       "    </tr>\n",
       "    <tr>\n",
       "      <th>1338</th>\n",
       "      <td>GMC</td>\n",
       "      <td>9980</td>\n",
       "      <td>Gasoline</td>\n",
       "      <td>Automatic</td>\n",
       "      <td>Black</td>\n",
       "      <td>Black</td>\n",
       "      <td>None reported</td>\n",
       "      <td>Yes</td>\n",
       "      <td>82000</td>\n",
       "      <td>1</td>\n",
       "      <td>355.0</td>\n",
       "      <td>5.3</td>\n",
       "      <td>8.0</td>\n",
       "    </tr>\n",
       "    <tr>\n",
       "      <th>1613</th>\n",
       "      <td>BMW</td>\n",
       "      <td>55250</td>\n",
       "      <td>Gasoline</td>\n",
       "      <td>Manual</td>\n",
       "      <td>Blue</td>\n",
       "      <td>White</td>\n",
       "      <td>None reported</td>\n",
       "      <td>Yes</td>\n",
       "      <td>49999</td>\n",
       "      <td>8</td>\n",
       "      <td>425.0</td>\n",
       "      <td>3.0</td>\n",
       "      <td>6.0</td>\n",
       "    </tr>\n",
       "    <tr>\n",
       "      <th>1610</th>\n",
       "      <td>Lexus</td>\n",
       "      <td>77300</td>\n",
       "      <td>Gasoline</td>\n",
       "      <td>Automatic</td>\n",
       "      <td>White</td>\n",
       "      <td>Black</td>\n",
       "      <td>None reported</td>\n",
       "      <td>Yes</td>\n",
       "      <td>30000</td>\n",
       "      <td>7</td>\n",
       "      <td>306.0</td>\n",
       "      <td>3.5</td>\n",
       "      <td>6.0</td>\n",
       "    </tr>\n",
       "    <tr>\n",
       "      <th>2600</th>\n",
       "      <td>Ford</td>\n",
       "      <td>33700</td>\n",
       "      <td>E85 Flex Fuel</td>\n",
       "      <td>Automatic</td>\n",
       "      <td>Grey</td>\n",
       "      <td>Black</td>\n",
       "      <td>Accident reported</td>\n",
       "      <td>Yes</td>\n",
       "      <td>12000</td>\n",
       "      <td>6</td>\n",
       "      <td>160.0</td>\n",
       "      <td>2.0</td>\n",
       "      <td>4.0</td>\n",
       "    </tr>\n",
       "  </tbody>\n",
       "</table>\n",
       "</div>"
      ],
      "text/plain": [
       "       brand  milage      fuel_type transmission ext_col int_col  \\\n",
       "Index                                                              \n",
       "2473    Ford   73049       Gasoline    Automatic    Grey   Black   \n",
       "1338     GMC    9980       Gasoline    Automatic   Black   Black   \n",
       "1613     BMW   55250       Gasoline       Manual    Blue   White   \n",
       "1610   Lexus   77300       Gasoline    Automatic   White   Black   \n",
       "2600    Ford   33700  E85 Flex Fuel    Automatic    Grey   Black   \n",
       "\n",
       "                accident clean_title  price  car_age  horsepower  engine_size  \\\n",
       "Index                                                                           \n",
       "2473   Accident reported         Yes  30510        6         NaN          3.5   \n",
       "1338       None reported         Yes  82000        1       355.0          5.3   \n",
       "1613       None reported         Yes  49999        8       425.0          3.0   \n",
       "1610       None reported         Yes  30000        7       306.0          3.5   \n",
       "2600   Accident reported         Yes  12000        6       160.0          2.0   \n",
       "\n",
       "       cylinder_count  \n",
       "Index                  \n",
       "2473              NaN  \n",
       "1338              8.0  \n",
       "1613              6.0  \n",
       "1610              6.0  \n",
       "2600              4.0  "
      ]
     },
     "execution_count": 196,
     "metadata": {},
     "output_type": "execute_result"
    }
   ],
   "source": [
    "cleaned_train_df.head()"
   ]
  },
  {
   "cell_type": "code",
   "execution_count": 197,
   "id": "92188f81-4e0f-42e4-a618-429c717db02e",
   "metadata": {},
   "outputs": [],
   "source": [
    "cleaned_train_df.to_csv(\"../data/cleaned_train_car_data.csv\",index='True')"
   ]
  },
  {
   "cell_type": "code",
   "execution_count": null,
   "id": "94296436-ce5e-4242-b9b0-4b22922a1714",
   "metadata": {},
   "outputs": [],
   "source": []
  }
 ],
 "metadata": {
  "kernelspec": {
   "display_name": "Python 3 (ipykernel)",
   "language": "python",
   "name": "python3"
  },
  "language_info": {
   "codemirror_mode": {
    "name": "ipython",
    "version": 3
   },
   "file_extension": ".py",
   "mimetype": "text/x-python",
   "name": "python",
   "nbconvert_exporter": "python",
   "pygments_lexer": "ipython3",
   "version": "3.11.5"
  }
 },
 "nbformat": 4,
 "nbformat_minor": 5
}
